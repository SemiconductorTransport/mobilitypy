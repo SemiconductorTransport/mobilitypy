{
 "cells": [
  {
   "cell_type": "markdown",
   "id": "7786e513-1800-4a76-9bdf-bbbc50b5eda4",
   "metadata": {},
   "source": [
    "# Project: 2DEG mobility plottings (300K)"
   ]
  },
  {
   "cell_type": "markdown",
   "id": "9e52d7c6-f0a0-47d0-84b8-667d6a1d58a2",
   "metadata": {},
   "source": [
    "# 1. Settings"
   ]
  },
  {
   "cell_type": "markdown",
   "id": "12a36278-e0f1-4a35-93be-7ddbe089be35",
   "metadata": {},
   "source": [
    "## 1.1 Import modules"
   ]
  },
  {
   "cell_type": "code",
   "execution_count": 1,
   "id": "f8068cb9-b57a-4141-a049-2bd20c4285cf",
   "metadata": {},
   "outputs": [],
   "source": [
    "import numpy as np\n",
    "import scipy as sc\n",
    "import matplotlib.pyplot as plt\n",
    "import pandas as pd\n",
    "from matplotlib import colors, cm\n",
    "import matplotlib.ticker as ticker\n",
    "from matplotlib.patches import Ellipse"
   ]
  },
  {
   "cell_type": "code",
   "execution_count": 2,
   "id": "89f5eeaa-a049-481e-be9b-460d297a585f",
   "metadata": {},
   "outputs": [],
   "source": [
    "%load_ext autoreload\n",
    "%autoreload 2"
   ]
  },
  {
   "cell_type": "code",
   "execution_count": 3,
   "id": "ea470300-8e85-45a2-a94a-c4489518b2de",
   "metadata": {},
   "outputs": [],
   "source": [
    "import sys, os\n",
    "from pathlib import Path\n",
    "mobilitypy_tutorial_path = Path().absolute()\n",
    "sys.path.insert(0, os.path.join(mobilitypy_tutorial_path, '../'))\n",
    "from mobilitypy import Plottings, PlotQuasi3DFuns"
   ]
  },
  {
   "cell_type": "code",
   "execution_count": 4,
   "id": "2bddf97e-0bde-4b7e-aeea-827e2bd52b7d",
   "metadata": {},
   "outputs": [],
   "source": [
    "save_figure_dir = os.path.join(mobilitypy_tutorial_path,'../../OUTPUTS/FIGS')\n",
    "savefigure = True\n",
    "FigFormat = 'png'\n",
    "FigFormatPaper = 'eps'\n",
    "fig_save_dpi = 300\n",
    "color_map_plot = 'viridis'\n",
    "print_align_space = 20"
   ]
  },
  {
   "cell_type": "code",
   "execution_count": 5,
   "id": "4aba3017-df24-4595-97b7-4adca48a3e0b",
   "metadata": {},
   "outputs": [],
   "source": [
    "folder_2deg_data_parent = '/home/Docs5/badal.mondal/linuxhome/MyFolder/Projects/DeviceSimulation/NextnanoSimulations/DATAs/AlGaN_HEMT/AlGaN_AlGaN_AlN_HEMT/nnp/'\n",
    "folder_2deg_density_file = os.path.join(folder_2deg_data_parent, '2DEHG_density/OneDim', 'sim_post_process_data.xlsx')\n",
    "folder_2deg_mobility_file = os.path.join(folder_2deg_data_parent, '2DEHG_mobility/OneDim', 'sim_post_process_data.xlsx')"
   ]
  },
  {
   "cell_type": "markdown",
   "id": "87f4fe5c-c009-4d5c-b2b4-81cf3e8a9566",
   "metadata": {},
   "source": [
    "## 1.2 Set physical constants"
   ]
  },
  {
   "cell_type": "code",
   "execution_count": 6,
   "id": "6fc041c7-180f-4a4d-8b36-72108cbc65eb",
   "metadata": {
    "scrolled": true
   },
   "outputs": [],
   "source": [
    "# n_2d => in nm^-2\n",
    "# rms_roughness => nm^-1\n",
    "# corr_len => nm^-1\n",
    "# n_dis => nm^-2\n",
    "# f_dis => unit less"
   ]
  },
  {
   "cell_type": "code",
   "execution_count": 7,
   "id": "e99b9b47-808d-4f11-83d6-01c362ab3827",
   "metadata": {},
   "outputs": [],
   "source": [
    "plot_mobilities = ['IFR', 'DIS', 'AD', 'AP', 'POP', 'TOT', 'LFOM', 'LFOMnorm', '2DEG']\n",
    "plots_list_individual = ['TOT', 'LFOM', 'LFOMnorm', '2DEG', '2DHG', 'R']\n",
    "len_plots = len(plot_mobilities)\n",
    "rescale_2deg_fact=1e13\n",
    "\n",
    "x_label_text = 'Al composition barrier, y'\n",
    "x_label_text_2d = 'Barrier thickness, L$_\\\\mathrm{B}$ (nm)'\n",
    "x_p_label_text = 'Al composition channel, x'\n",
    "y_label_text = 'Barrier thickness, L$_\\\\mathrm{B}$(nm)'\n",
    "z_label = {'General': r'2DEG mobility, $\\mu$ ($\\mathrm{cm}^2\\mathrm{V}^{-1}\\mathrm{s}^{-1}$)', \n",
    "           'TOT': r'2DEG mobility, $\\mu$ ($\\mathrm{cm}^2\\mathrm{V}^{-1}\\mathrm{s}^{-1}$)',\n",
    "           'LFOM': r'LFOM (MW/cm$^2$)',\n",
    "           'LFOMnorm': r'LFOM$_\\mathrm{(Al,Ga)N}$/LFOM$_\\mathrm{highest}$', \n",
    "           'LFOMnorm_2': r'LFOM$_\\mathrm{(Al,Ga)N}$/LFOM$_\\mathrm{GaN}$',\n",
    "           '2DEG': r'2DEG density, n$_{\\mathrm{2D}}$ ($\\mathrm{10}^{13}\\mathrm{cm}^{-2}$)', \n",
    "           '2DHG': r'2DHG density ($\\mathrm{10}^{13}\\mathrm{cm}^{-2}$)',\n",
    "           'R': r'Sheet resistance, R$_\\mathrm{sh}$ ($\\Omega /\\boxdot$)'} #Sheet resistance"
   ]
  },
  {
   "cell_type": "code",
   "execution_count": 8,
   "id": "dcaff472-1654-45f2-bdda-359b967220ad",
   "metadata": {},
   "outputs": [],
   "source": [
    "params = {'axes.labelsize': 20,\n",
    "          'axes.titlesize': 20,\n",
    "          'xtick.labelsize':20,\n",
    "          'xtick.major.width':2,\n",
    "          'xtick.major.size':5,\n",
    "          'xtick.minor.width':2,\n",
    "          'xtick.minor.size':3,\n",
    "          'ytick.labelsize': 20,\n",
    "          'ytick.major.width':2,\n",
    "          'ytick.major.size':5,\n",
    "          'ytick.minor.width':2,\n",
    "          'ytick.minor.size':3,\n",
    "          'errorbar.capsize':2}\n",
    "plt.rcParams.update(params)\n",
    "plt.rc('font', size=20)"
   ]
  },
  {
   "cell_type": "markdown",
   "id": "106bb743-33d3-4657-b6ac-9b65ea856c7d",
   "metadata": {},
   "source": [
    "# 2. Read mobilities, FOMs from saved database"
   ]
  },
  {
   "cell_type": "markdown",
   "id": "f676c345-1c0a-4e0c-9875-972fc63cb9e6",
   "metadata": {},
   "source": [
    "## 2.1 Al0.25Ga0.75N(25nm)/GaN(305nm) HEMT LFOM for normalization"
   ]
  },
  {
   "cell_type": "code",
   "execution_count": 9,
   "id": "eaefff8f-e798-43e5-b11b-70fc6ab71313",
   "metadata": {},
   "outputs": [],
   "source": [
    "mobility_ref_dff = pd.read_excel(folder_2deg_mobility_file, index_col=0, sheet_name='ref_Al25Ga75N_GaN') "
   ]
  },
  {
   "cell_type": "code",
   "execution_count": 10,
   "id": "288e6c86-f010-41ef-8963-eb408f2ee916",
   "metadata": {},
   "outputs": [],
   "source": [
    "mobility_ref_df = mobility_ref_dff[mobility_ref_dff['T'] == 300].copy() # Reference data at 300 K\n",
    "ref_LFOM = mobility_ref_df['LFOM'].iloc[0]"
   ]
  },
  {
   "cell_type": "markdown",
   "id": "adbf3a1e-b7ba-48e8-b3d9-aecbb7b3968e",
   "metadata": {},
   "source": [
    "Conclusion: 2DEG density negligible depend on temperature"
   ]
  },
  {
   "cell_type": "code",
   "execution_count": 11,
   "id": "3a1e3954-0857-4f31-b638-cea92ad70a40",
   "metadata": {},
   "outputs": [
    {
     "name": "stdout",
     "output_type": "stream",
     "text": [
      "- Reference sample  : Al0.25Ga0.75N(25nm)/GaN(305nm)\n",
      "-- 2DEG density     : 6.25000e+12 cm^-2\n",
      "-- 2DEG mobility    : 1.65224e+03 cm^2.V^-1.s^-1\n",
      "-- LFOM             : 2.63809e+04 MW/cm^2\n"
     ]
    }
   ],
   "source": [
    "print(f'{\"- Reference sample\":<{print_align_space}}: Al0.25Ga0.75N(25nm)/GaN(305nm)')\n",
    "print(f'{\"-- 2DEG density\":<{print_align_space}}: {mobility_ref_df['2DEG_device'].iloc[0]:.5e} cm^-2')\n",
    "print(f'{\"-- 2DEG mobility\":<{print_align_space}}: {mobility_ref_df['TOT'].iloc[0]:.5e} cm^2.V^-1.s^-1')\n",
    "print(f'{\"-- LFOM\":<{print_align_space}}: {ref_LFOM:.5e} MW/cm^2')"
   ]
  },
  {
   "cell_type": "markdown",
   "id": "48797a51-45d9-4ff3-95e1-1b1ab1a861d9",
   "metadata": {},
   "source": [
    "## 2.2 AlGaN/AlGaN mobilities and figure-of-merit"
   ]
  },
  {
   "cell_type": "code",
   "execution_count": 12,
   "id": "8138de9a-a055-4169-a8f4-14afd762b365",
   "metadata": {},
   "outputs": [],
   "source": [
    "mobility_dff = pd.read_excel(folder_2deg_mobility_file, index_col=0, sheet_name='AlGaN_AlGaN') #, dtype=float) \n",
    "## Not sure why 'IFR' column is read as object\n",
    "mobility_dff['IFR'] = pd.to_numeric(mobility_dff['IFR'], errors='coerce')\n",
    "# Collect data for 300 K temperature only\n",
    "mobility_dff_300k = mobility_dff[mobility_dff['T'] == 300].copy()"
   ]
  },
  {
   "cell_type": "code",
   "execution_count": 13,
   "id": "6b009fdd-1aca-43a9-929d-0c98e05a6bf5",
   "metadata": {},
   "outputs": [],
   "source": [
    "#mobility_dff.dtypes"
   ]
  },
  {
   "cell_type": "code",
   "execution_count": 14,
   "id": "87a7ce38-1817-4c1e-a03a-5f1b8cd540dc",
   "metadata": {},
   "outputs": [],
   "source": [
    "mobility_dff_300k['2DEG'] =  mobility_dff_300k['2DEG_device']/rescale_2deg_fact\n",
    "mobility_dff_300k['2DHG'] =  mobility_dff_300k['2DHG_device']/rescale_2deg_fact\n",
    "mobility_dff_300k['LFOMnorm'] = mobility_dff_300k['LFOM']/ref_LFOM"
   ]
  },
  {
   "cell_type": "code",
   "execution_count": 15,
   "id": "d888a12a-a1ba-419d-a804-64b1292c6fb2",
   "metadata": {},
   "outputs": [],
   "source": [
    "# mobility_df_300k = mobility_dff_300k.copy()\n",
    "\n",
    "# # Put 10^10 for large values and np.nan for values < 1\n",
    "# clean_up_mobilities = ['IFR', 'DIS', 'AD', 'AP', 'POP', 'TOT']\n",
    "# for which_column in clean_up_mobilities:\n",
    "#     mobility_df_300k.loc[mobility_df_300k[which_column] <10, which_column] = np.nan \n",
    "\n",
    "# # Put 10^10 for large values and np.nan for values < 1\n",
    "# for which_column in ['2DEG', 'LFOM', 'LFOMnorm', 'LFOM_2DEG1e13']:\n",
    "#     mobility_df_300k.loc[mobility_df_300k[which_column] <1e-3, which_column] = np.nan \n",
    "\n",
    "# # Put 10^10 large values to np.nan for R\n",
    "# for which_column in ['R']:\n",
    "#     mobility_df_300k.loc[mobility_df_300k[which_column] >1e5, which_column] = np.nan"
   ]
  },
  {
   "cell_type": "code",
   "execution_count": 16,
   "id": "ef142263-5b19-4658-b4ec-5648a4841592",
   "metadata": {},
   "outputs": [],
   "source": [
    "mobility_df_300k = mobility_dff_300k.copy()\n",
    "\n",
    "clean_up_mobilities = ['IFR', 'DIS', 'AD', 'AP', 'POP', 'TOT']\n",
    "XXX_ = mobility_df_300k['2DEG'] <1e-2 # Put np.nan for 2DEG densities < 1e-2\n",
    "for which_column in ['2DEG', 'LFOM', 'LFOMnorm', 'LFOM_2DEG1e13']+clean_up_mobilities+['R']:\n",
    "    mobility_df_300k.loc[XXX_, which_column] = np.nan "
   ]
  },
  {
   "cell_type": "markdown",
   "id": "723d085d-a8d5-4e83-907a-3ea68d3d8910",
   "metadata": {},
   "source": [
    "## 2.4 Plot AlGaN/AlGaN HEMT mobilities"
   ]
  },
  {
   "cell_type": "code",
   "execution_count": 17,
   "id": "150e2f51-04cf-4ee9-941e-e7b1d44d7634",
   "metadata": {},
   "outputs": [],
   "source": [
    "tick_multiplicator = [0.1, 0.05, 0.1, 0.05]"
   ]
  },
  {
   "cell_type": "code",
   "execution_count": 18,
   "id": "94f363a7-3058-4153-a412-eeeb480e49e8",
   "metadata": {
    "scrolled": true
   },
   "outputs": [],
   "source": [
    "df_cap_thickness_group = mobility_df_300k.groupby(['ThicknessAlGaNBarrier']) # Group by thickness"
   ]
  },
  {
   "cell_type": "markdown",
   "id": "e4cb3157-4600-4a69-acc2-12dd3a9035b3",
   "metadata": {},
   "source": [
    "### 2.4.1 All contributions together"
   ]
  },
  {
   "cell_type": "code",
   "execution_count": 58,
   "id": "d7e8258e-4b0b-419e-b049-f7589d7508bd",
   "metadata": {},
   "outputs": [],
   "source": [
    "lpltq3d = PlotQuasi3DFuns(save_figure_dir=f'{save_figure_dir}/2DEG_mobilities/Together')"
   ]
  },
  {
   "cell_type": "code",
   "execution_count": 42,
   "id": "223cc8f9-695b-45cd-ba1b-3e81512c182f",
   "metadata": {
    "scrolled": true
   },
   "outputs": [
    {
     "name": "stdout",
     "output_type": "stream",
     "text": [
      "- Plotting barrier thickness = 5.00 nm\n",
      "\t-- Plotting IFR...\n",
      "\t-- Plotting DIS...\n",
      "\t-- Plotting AD...\n",
      "\t-- Plotting AP...\n",
      "\t-- Plotting POP...\n",
      "\t-- Plotting TOT...\n",
      "\t-- Plotting LFOM...\n",
      "\t-- Plotting LFOMnorm...\n",
      "\t-- Plotting 2DEG...\n",
      "- Done\n",
      "- Plotting barrier thickness = 10.00 nm\n",
      "\t-- Plotting IFR...\n",
      "\t-- Plotting DIS...\n",
      "\t-- Plotting AD...\n",
      "\t-- Plotting AP...\n",
      "\t-- Plotting POP...\n",
      "\t-- Plotting TOT...\n",
      "\t-- Plotting LFOM...\n",
      "\t-- Plotting LFOMnorm...\n",
      "\t-- Plotting 2DEG...\n",
      "- Done\n",
      "- Plotting barrier thickness = 15.00 nm\n",
      "\t-- Plotting IFR...\n",
      "\t-- Plotting DIS...\n",
      "\t-- Plotting AD...\n",
      "\t-- Plotting AP...\n",
      "\t-- Plotting POP...\n",
      "\t-- Plotting TOT...\n",
      "\t-- Plotting LFOM...\n",
      "\t-- Plotting LFOMnorm...\n",
      "\t-- Plotting 2DEG...\n",
      "- Done\n",
      "- Plotting barrier thickness = 20.00 nm\n",
      "\t-- Plotting IFR...\n",
      "\t-- Plotting DIS...\n",
      "\t-- Plotting AD...\n",
      "\t-- Plotting AP...\n",
      "\t-- Plotting POP...\n",
      "\t-- Plotting TOT...\n",
      "\t-- Plotting LFOM...\n",
      "\t-- Plotting LFOMnorm...\n",
      "\t-- Plotting 2DEG...\n",
      "- Done\n",
      "- Plotting barrier thickness = 25.00 nm\n",
      "\t-- Plotting IFR...\n",
      "\t-- Plotting DIS...\n",
      "\t-- Plotting AD...\n",
      "\t-- Plotting AP...\n",
      "\t-- Plotting POP...\n",
      "\t-- Plotting TOT...\n",
      "\t-- Plotting LFOM...\n",
      "\t-- Plotting LFOMnorm...\n",
      "\t-- Plotting 2DEG...\n",
      "- Done\n",
      "- Plotting barrier thickness = 30.00 nm\n",
      "\t-- Plotting IFR...\n",
      "\t-- Plotting DIS...\n",
      "\t-- Plotting AD...\n",
      "\t-- Plotting AP...\n",
      "\t-- Plotting POP...\n",
      "\t-- Plotting TOT...\n",
      "\t-- Plotting LFOM...\n",
      "\t-- Plotting LFOMnorm...\n",
      "\t-- Plotting 2DEG...\n",
      "- Done\n",
      "- Plotting barrier thickness = 35.00 nm\n",
      "\t-- Plotting IFR...\n",
      "\t-- Plotting DIS...\n",
      "\t-- Plotting AD...\n",
      "\t-- Plotting AP...\n",
      "\t-- Plotting POP...\n",
      "\t-- Plotting TOT...\n",
      "\t-- Plotting LFOM...\n",
      "\t-- Plotting LFOMnorm...\n",
      "\t-- Plotting 2DEG...\n",
      "- Done\n",
      "- Plotting barrier thickness = 40.00 nm\n",
      "\t-- Plotting IFR...\n",
      "\t-- Plotting DIS...\n",
      "\t-- Plotting AD...\n",
      "\t-- Plotting AP...\n",
      "\t-- Plotting POP...\n",
      "\t-- Plotting TOT...\n",
      "\t-- Plotting LFOM...\n",
      "\t-- Plotting LFOMnorm...\n",
      "\t-- Plotting 2DEG...\n",
      "- Done\n",
      "- Plotting barrier thickness = 45.00 nm\n",
      "\t-- Plotting IFR...\n",
      "\t-- Plotting DIS...\n",
      "\t-- Plotting AD...\n",
      "\t-- Plotting AP...\n",
      "\t-- Plotting POP...\n",
      "\t-- Plotting TOT...\n",
      "\t-- Plotting LFOM...\n",
      "\t-- Plotting LFOMnorm...\n",
      "\t-- Plotting 2DEG...\n",
      "- Done\n",
      "- Plotting barrier thickness = 50.00 nm\n",
      "\t-- Plotting IFR...\n",
      "\t-- Plotting DIS...\n",
      "\t-- Plotting AD...\n",
      "\t-- Plotting AP...\n",
      "\t-- Plotting POP...\n",
      "\t-- Plotting TOT...\n",
      "\t-- Plotting LFOM...\n",
      "\t-- Plotting LFOMnorm...\n",
      "\t-- Plotting 2DEG...\n",
      "- Done\n"
     ]
    }
   ],
   "source": [
    "fig_ncols, fig_nrows = 3, 3\n",
    "for name, group in df_cap_thickness_group:\n",
    "    barrier_thickness = f'{name[0]:.2f}'\n",
    "    print(f'- Plotting barrier thickness = {barrier_thickness} nm')\n",
    "    fig, axs = plt.subplots(fig_ncols, fig_nrows, figsize=(16.,12.5), \n",
    "                            sharey=True,constrained_layout=True)    \n",
    "    for ii in range(fig_ncols*fig_nrows):\n",
    "        if ii < len(plot_mobilities):\n",
    "            which_mobility = plot_mobilities[ii]\n",
    "        else:\n",
    "            #axs[ii//3][ii%3].axis(\"off\") \n",
    "            continue\n",
    "        print(f'\\t-- Plotting {which_mobility}...')\n",
    "        xx, yy, zz = group['AlContentChannel'], group['AlContentBarrier'], group[which_mobility]\n",
    "        vmax = min(mobility_df_300k[which_mobility].max(numeric_only=True), 1e10)\n",
    "        vmin = mobility_df_300k[which_mobility].min(numeric_only=True) if which_mobility in ['2DEG', 'LFOM', 'LFOMnorm'] else 20\n",
    "        #vmin, vmax = zz.min()+1e-20, zz.max()\n",
    "        norm = colors.Normalize(vmin=vmin, vmax=vmax) if which_mobility in ['LFOMnorm','2DEG'] else colors.LogNorm(vmin=vmin, vmax=vmax)\n",
    "        cbar_mapable = cm.ScalarMappable(norm=norm, cmap='viridis')\n",
    "        x_label_text_ = x_p_label_text #if ii-6>=0 else ''\n",
    "        y_label_text_ = x_label_text #if ii%3==0 else ''\n",
    "        z_label_ = ''\n",
    "        #if ii%3-2==0: \n",
    "        z_label_ = f'$\\\\mu_{{\\\\mathrm{{{which_mobility}}}}}$ ($\\\\mathrm{{cm}}^2\\\\mathrm{{V}}^{{-1}}\\\\mathrm{{s}}^{{-1}}$)'\n",
    "        if which_mobility in ['2DEG']: z_label_= r'n$_{\\mathrm{2D}}$ ($\\mathrm{10}^{13}\\mathrm{cm}^{-2}$)'\n",
    "        if which_mobility in ['LFOM']: z_label_= z_label[which_mobility]\n",
    "        if which_mobility == 'LFOMnorm': z_label_= z_label[f'{which_mobility}_2'] \n",
    "        \n",
    "\n",
    "        ##### Plot composition map \n",
    "        fig, axt = lpltq3d.Plotq3D(xx,yy,zz, fig=fig, ax=axs[ii//3][ii%3],\n",
    "                                 xmin=0.475, xmax=0.975, ymin=0.525, ymax=1.025,\n",
    "                                 x_label='', y_label=y_label_text_,\n",
    "                                 interpolation_method='linear',\n",
    "                                 interpolation_points = 20,\n",
    "                                 tick_multiplicator=tick_multiplicator,\n",
    "                                 title_label=None, #which_mobility,\n",
    "                                 cbar_mappable=cbar_mapable, norm=norm,\n",
    "                                 show_contour_lines=False, marker='s', marker_size=24**2,\n",
    "                                 cbar_text=z_label_,show_colorbar=False,\n",
    "                                 plot_controur=0, plot_scatter=1,\n",
    "                                 savefigure=False, show_plot=False)\n",
    "        #plt.suptitle(f\"Barrier thickness = {barrier_thickness} nm\", size=24)\n",
    "        axt.set_xlabel(x_label_text_, size=18)\n",
    "        axt.set_ylabel(y_label_text_, size=18)\n",
    "        cbar = fig.colorbar(cbar_mapable, ax=axt)         \n",
    "        cbar.ax.set_ylabel(z_label_, size=18)\n",
    "        #if ii%3 != 0: axs[ii//3][ii%3].get_yaxis().set_visible(False)\n",
    "    lpltq3d.save_figure(f'Barrier_{barrier_thickness}.{FigFormat}', savefig=savefigure, show_plot=True,\n",
    "                        fig=fig, CountFig=None, dpi=fig_save_dpi)\n",
    "    print('- Done', flush=True)\n",
    "    #break"
   ]
  },
  {
   "cell_type": "markdown",
   "id": "012ae401-6659-40e4-becf-6a2d08ef35de",
   "metadata": {},
   "source": [
    "### 2.4.2 Individual plots"
   ]
  },
  {
   "cell_type": "code",
   "execution_count": 59,
   "id": "81e35002-9674-4df2-8240-b24c3523465b",
   "metadata": {},
   "outputs": [],
   "source": [
    "lpltq3d = PlotQuasi3DFuns(save_figure_dir=f'{save_figure_dir}/2DEG_mobilities/Individual')"
   ]
  },
  {
   "cell_type": "code",
   "execution_count": 44,
   "id": "ac73d5dd-f664-4add-8b65-1953c88f0b0c",
   "metadata": {
    "scrolled": true
   },
   "outputs": [
    {
     "name": "stdout",
     "output_type": "stream",
     "text": [
      "- Plotting barrier thickness = 5.00 nm\n",
      "\t-- Plotting TOT...\n",
      "\t-- Plotting LFOM...\n",
      "\t-- Plotting LFOMnorm...\n",
      "\t-- Plotting 2DEG...\n",
      "\t-- Plotting 2DHG...\n",
      "\t-- Plotting R...\n",
      "- Done\n",
      "- Plotting barrier thickness = 10.00 nm\n",
      "\t-- Plotting TOT...\n",
      "\t-- Plotting LFOM...\n",
      "\t-- Plotting LFOMnorm...\n",
      "\t-- Plotting 2DEG...\n",
      "\t-- Plotting 2DHG...\n",
      "\t-- Plotting R...\n",
      "- Done\n",
      "- Plotting barrier thickness = 15.00 nm\n",
      "\t-- Plotting TOT...\n",
      "\t-- Plotting LFOM...\n",
      "\t-- Plotting LFOMnorm...\n",
      "\t-- Plotting 2DEG...\n",
      "\t-- Plotting 2DHG...\n",
      "\t-- Plotting R...\n",
      "- Done\n",
      "- Plotting barrier thickness = 20.00 nm\n",
      "\t-- Plotting TOT...\n",
      "\t-- Plotting LFOM...\n",
      "\t-- Plotting LFOMnorm...\n",
      "\t-- Plotting 2DEG...\n",
      "\t-- Plotting 2DHG...\n",
      "\t-- Plotting R...\n",
      "- Done\n",
      "- Plotting barrier thickness = 25.00 nm\n",
      "\t-- Plotting TOT...\n",
      "\t-- Plotting LFOM...\n",
      "\t-- Plotting LFOMnorm...\n",
      "\t-- Plotting 2DEG...\n",
      "\t-- Plotting 2DHG...\n",
      "\t-- Plotting R...\n",
      "- Done\n",
      "- Plotting barrier thickness = 30.00 nm\n",
      "\t-- Plotting TOT...\n",
      "\t-- Plotting LFOM...\n",
      "\t-- Plotting LFOMnorm...\n",
      "\t-- Plotting 2DEG...\n",
      "\t-- Plotting 2DHG...\n",
      "\t-- Plotting R...\n",
      "- Done\n",
      "- Plotting barrier thickness = 35.00 nm\n",
      "\t-- Plotting TOT...\n",
      "\t-- Plotting LFOM...\n",
      "\t-- Plotting LFOMnorm...\n",
      "\t-- Plotting 2DEG...\n",
      "\t-- Plotting 2DHG...\n",
      "\t-- Plotting R...\n",
      "- Done\n",
      "- Plotting barrier thickness = 40.00 nm\n",
      "\t-- Plotting TOT...\n",
      "\t-- Plotting LFOM...\n",
      "\t-- Plotting LFOMnorm...\n",
      "\t-- Plotting 2DEG...\n",
      "\t-- Plotting 2DHG...\n",
      "\t-- Plotting R...\n",
      "- Done\n",
      "- Plotting barrier thickness = 45.00 nm\n",
      "\t-- Plotting TOT...\n",
      "\t-- Plotting LFOM...\n",
      "\t-- Plotting LFOMnorm...\n",
      "\t-- Plotting 2DEG...\n",
      "\t-- Plotting 2DHG...\n",
      "\t-- Plotting R...\n",
      "- Done\n",
      "- Plotting barrier thickness = 50.00 nm\n",
      "\t-- Plotting TOT...\n",
      "\t-- Plotting LFOM...\n",
      "\t-- Plotting LFOMnorm...\n",
      "\t-- Plotting 2DEG...\n",
      "\t-- Plotting 2DHG...\n",
      "\t-- Plotting R...\n",
      "- Done\n"
     ]
    }
   ],
   "source": [
    "for name, group in df_cap_thickness_group:\n",
    "    #if name[0] < 49: continue\n",
    "    barrier_thickness = f'{name[0]:.2f}'\n",
    "    print(f'- Plotting barrier thickness = {barrier_thickness} nm')\n",
    "    for which_mobility in plots_list_individual:\n",
    "        print(f'\\t-- Plotting {which_mobility}...')\n",
    "        xx, yy, zz = group['AlContentChannel'], group['AlContentBarrier'], group[which_mobility]\n",
    "        vmax = min(mobility_df_300k[which_mobility].max(numeric_only=True), 1e10)\n",
    "        vmin = mobility_df_300k[which_mobility].min(numeric_only=True) #if which_mobility in ['2DEG', 'LFOMnorm', 'R'] else 20 \n",
    "        norm = colors.Normalize(vmin=vmin, vmax=vmax) if which_mobility in ['2DEG', '2DHG', 'LFOMnorm', 'TOT'] else colors.LogNorm(vmin=vmin, vmax=vmax)\n",
    "        cbar_mapable = cm.ScalarMappable(norm=norm, cmap=color_map_plot)\n",
    "        z_label_= z_label[which_mobility]\n",
    "        if which_mobility == 'LFOMnorm': z_label_= z_label[f'{which_mobility}_2'] \n",
    "        FigFormat_tmp = FigFormatPaper if which_mobility in ['2DEG','2DHG'] else FigFormat\n",
    "        ##### Plot composition map \n",
    "        _ = lpltq3d.Plotq3D(xx, yy, zz, x_label=x_p_label_text, y_label=x_label_text,\n",
    "                            xmin=0.475, xmax=0.975, ymin=0.525, ymax=1.025,\n",
    "                            interpolation_method='linear', interpolation_points = 20,\n",
    "                            tick_multiplicator=tick_multiplicator, norm=norm,color_map=color_map_plot,\n",
    "                            cbar_mappable=cbar_mapable, show_contour_lines=1,\n",
    "                            marker='s', marker_size=38**2, cbar_text=z_label_,\n",
    "                            show_colorbar=True, plot_controur=0, plot_scatter=1,\n",
    "                            save_file_name=f'Barrier_{barrier_thickness}_{which_mobility}.{FigFormat_tmp}',\n",
    "                            savefigure=savefigure, show_plot=False, dpi=fig_save_dpi)\n",
    "    print('- Done', flush=True)\n",
    "    #break"
   ]
  },
  {
   "cell_type": "code",
   "execution_count": 60,
   "id": "9f472150-89d9-4ee5-a50d-3deb3d702b45",
   "metadata": {},
   "outputs": [
    {
     "name": "stdout",
     "output_type": "stream",
     "text": [
      "- Done\n"
     ]
    }
   ],
   "source": [
    "#### This is specific for plottings for paper\n",
    "for name, group in df_cap_thickness_group:\n",
    "    barrier_thickness = f'{name[0]:.2f}'\n",
    "    if name[0] < 49: continue\n",
    "    for which_mobility in ['2DEG', 'TOT', 'LFOMnorm', 'LFOM', 'R']: #\n",
    "        xx, yy, zz = group['AlContentChannel'], group['AlContentBarrier'], group[which_mobility]\n",
    "        vmax = min(zz.max(numeric_only=True), 1e10)\n",
    "        vmin = zz.min(numeric_only=True) #if which_mobility in ['2DEG', 'LFOMnorm', 'R'] else 20 \n",
    "        norm = colors.Normalize(vmin=vmin, vmax=vmax) if which_mobility in ['2DEG', 'LFOMnorm', 'LFOM', 'TOT', 'R'] else colors.LogNorm(vmin=vmin, vmax=vmax)\n",
    "        cbar_mapable = cm.ScalarMappable(norm=norm, cmap=color_map_plot)\n",
    "        z_label_= z_label[which_mobility]\n",
    "        if which_mobility == 'LFOMnorm': z_label_= z_label[f'{which_mobility}_2'] \n",
    "        show_colorbar_ = True\n",
    "        savefigure_ = savefigure\n",
    "        if which_mobility in ['LFOM','R']:\n",
    "            show_colorbar_=False\n",
    "            savefigure_ = False\n",
    "        figsize=(7.9,6)\n",
    "        if which_mobility in ['TOT']: figsize=(8.1,6)\n",
    "        fig, ax = plt.subplots(figsize=figsize, constrained_layout=True)\n",
    "        ##### Plot composition map \n",
    "        fig, ax = lpltq3d.Plotq3D(xx, yy, zz, fig=fig, ax=ax, x_label=x_p_label_text, y_label=x_label_text,\n",
    "                            xmin=0.475, xmax=0.975, ymin=0.525, ymax=1.025,\n",
    "                            interpolation_method='linear', interpolation_points = 100,\n",
    "                            tick_multiplicator=tick_multiplicator, norm=norm,color_map=color_map_plot,\n",
    "                            cbar_mappable=cbar_mapable, show_contour_lines=1,\n",
    "                            marker='s', marker_size=38**2, cbar_text=z_label_,\n",
    "                            show_colorbar=show_colorbar_, plot_controur=0, plot_scatter=1,\n",
    "                            save_file_name=f'Barrier_{barrier_thickness}_{which_mobility}_Paper.{FigFormatPaper}',\n",
    "                            savefigure=savefigure_, show_plot=False, dpi=fig_save_dpi)\n",
    "        if which_mobility in ['LFOM', 'R']:\n",
    "            cbar = fig.colorbar(cbar_mapable, ax=ax)         \n",
    "            cbar.ax.set_ylabel(z_label_)\n",
    "            cbar.formatter.set_powerlimits((0, 0))\n",
    "            # to get 10^3 instead of 1e3\n",
    "            cbar.formatter.set_useMathText(True)\n",
    "            cbar.ax.yaxis.set_offset_position('left')\n",
    "            cbar.update_ticks()\n",
    "\n",
    "        lpltq3d.save_figure(f'Barrier_{barrier_thickness}_{which_mobility}_Paper.{FigFormatPaper}', \n",
    "                            savefig=not savefigure_, show_plot=False, fig=fig, CountFig=None, dpi=fig_save_dpi) \n",
    "        \n",
    "    print('- Done', flush=True)\n",
    "    #break"
   ]
  },
  {
   "cell_type": "code",
   "execution_count": 61,
   "id": "789c8b0d-a98a-492c-84eb-f1ba30ce1662",
   "metadata": {},
   "outputs": [],
   "source": [
    "plt.close('all')"
   ]
  },
  {
   "cell_type": "code",
   "execution_count": 19,
   "id": "79fd763c-360e-4ea9-9fc4-40188cc6da91",
   "metadata": {},
   "outputs": [],
   "source": [
    "plt2deg = Plottings(save_figure_dir=f'{save_figure_dir}/Others')"
   ]
  },
  {
   "cell_type": "code",
   "execution_count": 48,
   "id": "d7bd1ee4-889e-4ed4-83cb-fb8872d196b4",
   "metadata": {
    "scrolled": true
   },
   "outputs": [
    {
     "name": "stderr",
     "output_type": "stream",
     "text": [
      "/tmp/ipykernel_2643920/2288647217.py:18: FutureWarning: `rcond` parameter will change to the default of machine precision times ``max(M, N)`` where M and N are the input matrix dimensions.\n",
      "To use the future default and silence this warning we advise to pass `rcond=None`, to keep using the old, explicitly pass `rcond=-1`.\n",
      "  m, c = np.linalg.lstsq(A, tmp_df[f'2DEG'])[0]\n",
      "/tmp/ipykernel_2643920/2288647217.py:18: FutureWarning: `rcond` parameter will change to the default of machine precision times ``max(M, N)`` where M and N are the input matrix dimensions.\n",
      "To use the future default and silence this warning we advise to pass `rcond=None`, to keep using the old, explicitly pass `rcond=-1`.\n",
      "  m, c = np.linalg.lstsq(A, tmp_df[f'2DEG'])[0]\n",
      "/tmp/ipykernel_2643920/2288647217.py:18: FutureWarning: `rcond` parameter will change to the default of machine precision times ``max(M, N)`` where M and N are the input matrix dimensions.\n",
      "To use the future default and silence this warning we advise to pass `rcond=None`, to keep using the old, explicitly pass `rcond=-1`.\n",
      "  m, c = np.linalg.lstsq(A, tmp_df[f'2DEG'])[0]\n",
      "/tmp/ipykernel_2643920/2288647217.py:18: FutureWarning: `rcond` parameter will change to the default of machine precision times ``max(M, N)`` where M and N are the input matrix dimensions.\n",
      "To use the future default and silence this warning we advise to pass `rcond=None`, to keep using the old, explicitly pass `rcond=-1`.\n",
      "  m, c = np.linalg.lstsq(A, tmp_df[f'2DEG'])[0]\n",
      "/tmp/ipykernel_2643920/2288647217.py:18: FutureWarning: `rcond` parameter will change to the default of machine precision times ``max(M, N)`` where M and N are the input matrix dimensions.\n",
      "To use the future default and silence this warning we advise to pass `rcond=None`, to keep using the old, explicitly pass `rcond=-1`.\n",
      "  m, c = np.linalg.lstsq(A, tmp_df[f'2DEG'])[0]\n",
      "/tmp/ipykernel_2643920/2288647217.py:18: FutureWarning: `rcond` parameter will change to the default of machine precision times ``max(M, N)`` where M and N are the input matrix dimensions.\n",
      "To use the future default and silence this warning we advise to pass `rcond=None`, to keep using the old, explicitly pass `rcond=-1`.\n",
      "  m, c = np.linalg.lstsq(A, tmp_df[f'2DEG'])[0]\n",
      "/tmp/ipykernel_2643920/2288647217.py:18: FutureWarning: `rcond` parameter will change to the default of machine precision times ``max(M, N)`` where M and N are the input matrix dimensions.\n",
      "To use the future default and silence this warning we advise to pass `rcond=None`, to keep using the old, explicitly pass `rcond=-1`.\n",
      "  m, c = np.linalg.lstsq(A, tmp_df[f'2DEG'])[0]\n",
      "/tmp/ipykernel_2643920/2288647217.py:18: FutureWarning: `rcond` parameter will change to the default of machine precision times ``max(M, N)`` where M and N are the input matrix dimensions.\n",
      "To use the future default and silence this warning we advise to pass `rcond=None`, to keep using the old, explicitly pass `rcond=-1`.\n",
      "  m, c = np.linalg.lstsq(A, tmp_df[f'2DEG'])[0]\n",
      "/tmp/ipykernel_2643920/2288647217.py:18: FutureWarning: `rcond` parameter will change to the default of machine precision times ``max(M, N)`` where M and N are the input matrix dimensions.\n",
      "To use the future default and silence this warning we advise to pass `rcond=None`, to keep using the old, explicitly pass `rcond=-1`.\n",
      "  m, c = np.linalg.lstsq(A, tmp_df[f'2DEG'])[0]\n",
      "/tmp/ipykernel_2643920/2288647217.py:18: FutureWarning: `rcond` parameter will change to the default of machine precision times ``max(M, N)`` where M and N are the input matrix dimensions.\n",
      "To use the future default and silence this warning we advise to pass `rcond=None`, to keep using the old, explicitly pass `rcond=-1`.\n",
      "  m, c = np.linalg.lstsq(A, tmp_df[f'2DEG'])[0]\n",
      "The PostScript backend does not support transparency; partially transparent artists will be rendered opaque.\n"
     ]
    }
   ],
   "source": [
    "output_dataframe = {}\n",
    "fig, ax = plt.subplots(figsize=(8,7))\n",
    "tick_multiplicator = [0.1, 0.05, 1, 0.5]\n",
    "markers_ = ['o', '*', 'd', '^', 's', 'p']*3\n",
    "ii=0\n",
    "for name, group in mobility_dff_300k.groupby(['ThicknessAlGaNBarrier']):\n",
    "    output_dataframe[f'{name[0]:.2f}'] = {}\n",
    "    group['AlContentContrast'] = (group['AlContentBarrier'] - group['AlContentChannel']) #/ group['AlContentChannel']\n",
    "    \n",
    "    #=====================================================================================\n",
    "    if name[0] in [5,10,20,50]:\n",
    "        ax.scatter(group['AlContentContrast'], group['2DEG'], marker=markers_[ii],label=f'{name[0]:.2f} nm',s=100)\n",
    "        ii+=1\n",
    "    \n",
    "    #=====================================================================================\n",
    "    tmp_df = group[group[f'2DEG']>0.01]\n",
    "    A = np.vstack([tmp_df['AlContentContrast'], np.ones(len(tmp_df))]).T\n",
    "    m, c = np.linalg.lstsq(A, tmp_df[f'2DEG'])[0]\n",
    "    y_eq_zero_point = -c/m\n",
    "    output_dataframe[f'{name[0]:.2f}'][f'2DEG_slope']       = f'{m:.3f}' \n",
    "    output_dataframe[f'{name[0]:.2f}'][f'2DEG_y_intersect'] = f'{c:.3f}'\n",
    "    output_dataframe[f'{name[0]:.2f}'][f'2DEG_x_intersect'] = f'{y_eq_zero_point:.3f}'\n",
    "    new_x = np.insert(np.array(tmp_df['AlContentContrast']),0,y_eq_zero_point)\n",
    "    #ax.plot(new_x, m*new_x + c, 'gray')\n",
    "    if name[0] in [5,10,20,50]: \n",
    "        ax.plot(new_x, m*new_x + c, 'gray')\n",
    "    \n",
    "    ax.legend(ncols=1, labelspacing=0.001, columnspacing=0.1, handletextpad=0.01)\n",
    "    ax.set_xlabel('Al composition contrast, $\\\\Delta_{yx}$')\n",
    "    ax.set_ylabel(z_label['2DEG'])\n",
    "    ax.axhline(color='k',ls='--')\n",
    "ax.axhline(y=1, c='c', ls='--')\n",
    "ax.set_xlim(0.05,0.5)\n",
    "plt2deg.set_tickers(ax, tick_multiplicator)\n",
    "circle = Ellipse((0.35,1.6), width=0.025, height=0.35, \n",
    "                        edgecolor='r', fc='None', lw=2)\n",
    "ax.add_patch(circle)\n",
    "plt2deg.save_figure(f'Comp_contrast_thickness_2DEG.{FigFormatPaper}', savefig=savefigure, show_plot=True,\n",
    "                    fig=fig, CountFig=None, dpi=fig_save_dpi)      "
   ]
  },
  {
   "cell_type": "code",
   "execution_count": 49,
   "id": "3951dc00-e3b1-48fc-9ff7-6f941ca47095",
   "metadata": {},
   "outputs": [],
   "source": [
    "#=============================================================================================\n",
    "output_data = pd.DataFrame.from_dict(output_dataframe, orient='index', dtype=float)\n",
    "## Plot cut-off composition contrast for each barrier thickness\n",
    "tick_multiplicator = [0.1, 0.05,10,5]\n",
    "XX = np.array(output_data.index, dtype=float)\n",
    "YY = np.array(output_data['2DEG_x_intersect'], dtype=float)\n",
    "fig, axs = plt.subplots(constrained_layout=True)\n",
    "axs.plot(YY, XX, 'ko-', ms=12)\n",
    "#axs.set_yscale('log')\n",
    "#axs.set_ylabel('Critical barrier thickness (nm)')\n",
    "#axs.set_xlabel('Critical composition contrast')\n",
    "#axs.legend(bbox_to_anchor=(1, 0.5),loc='center left', title='Al-content') \n",
    "axs.set_xlim(0.05, 0.54)\n",
    "plt2deg.set_tickers(axs, tick_multiplicator)\n",
    " \n",
    "\n",
    "fit_intercept = np.array(output_data['2DEG_y_intersect'], dtype=float)\n",
    "fit_slope = np.array(output_data['2DEG_slope'], dtype=float)\n",
    "YY = (1 - fit_intercept)/fit_slope\n",
    "axs.plot(YY, XX, 'cs-', ms=12)\n",
    "#axs.set_yscale('log')\n",
    "axs.set_ylabel('Critical barrier thickness (nm)')\n",
    "#axs.set_ylabel('Barrier thickness, L$_\\\\mathrm{B}$ (nm)')\n",
    "axs.set_xlabel('Al composition contrast, $\\\\Delta_{yx}$')\n",
    "\n",
    "plt2deg.save_figure(f'Critical_comp_contrast_2DEG.{FigFormatPaper}', savefig=savefigure, show_plot=True,\n",
    "                    fig=fig, CountFig=None, dpi=fig_save_dpi) \n",
    "\n",
    "# _ = lplt1d.PlotSweepsData(XX, YY, x_label=, y_label=,\n",
    "#                           tick_multiplicator=tick_multiplicator,\n",
    "#                           FigDpi=FigDpi, FigFormat=FigFormat, color='k', marker='o',\n",
    "#                           figs_path=f'{output_figs_sweep}/Others', filename=f'Critical_comp_contrast_2DEG',\n",
    "#                           savefigure=savefigure)"
   ]
  },
  {
   "cell_type": "markdown",
   "id": "e8a2bbe8-3b61-4a58-8d01-e72bfc336d37",
   "metadata": {},
   "source": [
    "## 2.5 Plots for AlN/AlGaN"
   ]
  },
  {
   "cell_type": "code",
   "execution_count": 20,
   "id": "901b4ff9-05f8-4d87-a20a-139571f7a5dd",
   "metadata": {},
   "outputs": [],
   "source": [
    "plt2deg = Plottings(save_figure_dir=f'{save_figure_dir}/Others')"
   ]
  },
  {
   "cell_type": "markdown",
   "id": "d6701223-da75-4254-92cb-0df62a8f4ece",
   "metadata": {},
   "source": [
    "### 2.5.1 Mobility plot"
   ]
  },
  {
   "cell_type": "code",
   "execution_count": 21,
   "id": "d3a9cc46-c11d-4377-8d98-20b7cc14628e",
   "metadata": {},
   "outputs": [],
   "source": [
    "mobility_df_300k_ = mobility_dff_300k[mobility_dff_300k['AlContentBarrier']>0.99]\n",
    "df_channel_comp_group = mobility_df_300k_.groupby(['AlContentChannel']) # Group by channel composition"
   ]
  },
  {
   "cell_type": "code",
   "execution_count": 22,
   "id": "8f390af2-c5ff-422b-9d2a-33c20cd19691",
   "metadata": {},
   "outputs": [],
   "source": [
    "x_label = 'Barrier thickness, L$_\\\\mathrm{B}$ (nm)'\n",
    "y_label = z_label['TOT'] #r'Electron mobility ($\\mathrm{cm}^2\\mathrm{V}^{-1}\\mathrm{s}^{-1}$)'\n",
    "save_file_name_ = f'mu_Tb_AlN_AlGaN.{FigFormatPaper}'\n",
    "tick_multiplicator=[10, 5, 50, 25]\n",
    "plot_selected_compositions = ['0.50', '0.65', '0.75', '0.85', '0.90', '0.95']\n",
    "markers_ = ['o', '*', 's', '^', 'd', 'p']*3"
   ]
  },
  {
   "cell_type": "code",
   "execution_count": 67,
   "id": "2717a3b9-509a-4790-bd2b-1353d815bb7c",
   "metadata": {},
   "outputs": [],
   "source": [
    "fig, axs = plt.subplots(constrained_layout=True)\n",
    "ii = 0\n",
    "for name, group in df_channel_comp_group:\n",
    "    xx, zz = group['ThicknessAlGaNBarrier'],  group['TOT']\n",
    "    if f'{name[0]:0.2f}' in plot_selected_compositions: \n",
    "        axs.plot(xx, zz, '-', marker=markers_[ii],label=f'x={name[0]:.2f}', ms=12)\n",
    "        ii+=1\n",
    "#axs.set_yscale('log')\n",
    "axs.set_xlabel(x_label)\n",
    "axs.set_ylabel(y_label)\n",
    "#axs.legend(bbox_to_anchor=(1, 0.5),loc='center left', title='Al-content') \n",
    "axs.set_xlim(5,50)\n",
    "plt2deg.set_tickers(axs, tick_multiplicator)\n",
    "plt2deg.save_figure(save_file_name_, fig=fig, savefig=savefigure, dpi=fig_save_dpi, show_plot=False)"
   ]
  },
  {
   "cell_type": "code",
   "execution_count": 68,
   "id": "24d3db41-5e23-4fd3-8b5a-2e3c7c454fa3",
   "metadata": {},
   "outputs": [
    {
     "name": "stderr",
     "output_type": "stream",
     "text": [
      "The PostScript backend does not support transparency; partially transparent artists will be rendered opaque.\n"
     ]
    }
   ],
   "source": [
    "save_file_name_ = f'channel_comp_legends.{FigFormatPaper}'\n",
    "# Now create a new image with legends only\n",
    "# adjust the figure size as necessary\n",
    "fig_leg = plt.figure(figsize=(1,1))\n",
    "ax_leg = fig_leg.add_subplot(111)\n",
    "# add the legend from the previous axes\n",
    "ax_leg.legend(*axs.get_legend_handles_labels(), ncol=3, loc='center')\n",
    "# hide the axes frame and the x/y labels\n",
    "ax_leg.axis('off')\n",
    "#ax_leg.set_frame_on(False)\n",
    "plt2deg.save_figure(save_file_name_, fig=fig_leg, savefig=savefigure, dpi=fig_save_dpi, show_plot=False)"
   ]
  },
  {
   "cell_type": "code",
   "execution_count": 69,
   "id": "11072ed6-50e0-4616-92e3-aaa492af7402",
   "metadata": {},
   "outputs": [],
   "source": [
    "fig, axs = plt.subplots(constrained_layout=True) #figsize=(9.5,6)\n",
    "ii = 0\n",
    "for name, group in df_channel_comp_group:\n",
    "    if name[0]< 0.74 or name[0]> 0.91: \n",
    "        axs.plot([None], [None], label=None)\n",
    "        continue\n",
    "    xx, zz = group['ThicknessAlGaNBarrier'],  group['TOT']\n",
    "    axs.plot(xx, zz, '-', marker=markers_[ii],label=f'{name[0]:.2f}', ms=12)\n",
    "    ii+=1\n",
    "#axs.set_yscale('log')\n",
    "axs.set_xlabel(x_label)\n",
    "axs.set_ylabel(y_label)\n",
    "#axs.legend(bbox_to_anchor=(1, 0.5),loc='center left') \n",
    "plt2deg.set_tickers(axs, tick_multiplicator)\n",
    "axs.set_xlim(5,50)\n",
    "plt2deg.save_figure(f'zoom_{save_file_name_}', fig=fig, savefig=savefigure, dpi=fig_save_dpi, show_plot=False)"
   ]
  },
  {
   "cell_type": "markdown",
   "id": "995dbcf2-2931-4719-8a34-f1b08c52e543",
   "metadata": {},
   "source": [
    "### 2.5.2 Individual mobility contributions for AlN/Al0.9Ga0.1N"
   ]
  },
  {
   "cell_type": "code",
   "execution_count": 70,
   "id": "165895cd-46b4-425b-8114-e563a62fb500",
   "metadata": {},
   "outputs": [],
   "source": [
    "Al90Ga10N_mu_df_300k_ = mobility_df_300k_[(mobility_df_300k_['AlContentChannel']>0.89) & (mobility_df_300k_['AlContentChannel']<0.91)]"
   ]
  },
  {
   "cell_type": "code",
   "execution_count": 72,
   "id": "cf7986b2-8234-41e4-ac1a-018b7d1df037",
   "metadata": {},
   "outputs": [],
   "source": [
    "fig, axs = plt.subplots(figsize=(9.5,6),constrained_layout=True)\n",
    "ii=0\n",
    "for name in plot_mobilities[:-3]:\n",
    "    axs.plot(Al90Ga10N_mu_df_300k_['ThicknessAlGaNBarrier'], Al90Ga10N_mu_df_300k_[name], '-', marker=markers_[ii],label=f'{name}', ms=12)\n",
    "    ii+=1\n",
    "axs.set_yscale('log')\n",
    "axs.set_xlabel(x_label)\n",
    "axs.set_ylabel(y_label)\n",
    "axs.legend(bbox_to_anchor=(1, 0.5),loc='center left') \n",
    "axs.set_ylim(100, 100000)\n",
    "axs.set_xlim(5,50)\n",
    "plt2deg.set_tickers(axs, [10,5,None, None])\n",
    "plt2deg.save_figure(f'mu_contibs_Tb_AlN_Al0.9Ga0.1N.{FigFormat}', fig=fig, savefig=savefigure, dpi=fig_save_dpi, show_plot=False)"
   ]
  },
  {
   "cell_type": "markdown",
   "id": "50b89298-06d3-4e82-8997-c533327f5d9b",
   "metadata": {},
   "source": [
    "### 2.5.3 FOM plot"
   ]
  },
  {
   "cell_type": "code",
   "execution_count": 23,
   "id": "a704a0c7-2218-4b56-afe3-0e6fd98a345a",
   "metadata": {},
   "outputs": [],
   "source": [
    "x_label = x_label_text_2d\n",
    "y_label = z_label['LFOMnorm_2']\n",
    "save_file_name_ = f'lfom_Tb_AlN_AlGaN.{FigFormatPaper}'\n",
    "tick_multiplicator=[10, 5, 0.5, 0.25]"
   ]
  },
  {
   "cell_type": "code",
   "execution_count": 75,
   "id": "90e5adad-0de0-4611-af53-a1dc3d5ee1c9",
   "metadata": {},
   "outputs": [],
   "source": [
    "fig, axs = plt.subplots(constrained_layout=True)\n",
    "ii=0\n",
    "for name, group in df_channel_comp_group:\n",
    "    xx, zz = group['ThicknessAlGaNBarrier'],  group['LFOMnorm']\n",
    "    if f'{name[0]:0.2f}' in plot_selected_compositions:\n",
    "        axs.plot(xx, zz, '-', marker=markers_[ii],label=f'{name[0]:.2f}', ms=12)\n",
    "        ii+=1\n",
    "#axs.set_yscale('log')\n",
    "axs.set_xlabel(x_label)\n",
    "axs.set_ylabel(y_label)\n",
    "axs.axhline(y=1.0, c='k', ls='--')\n",
    "#axs.legend(bbox_to_anchor=(1, 0.5),loc='center left') \n",
    "plt2deg.set_tickers(axs, tick_multiplicator)\n",
    "axs.set_xlim(5,50)\n",
    "plt2deg.save_figure(save_file_name_, fig=fig, savefig=savefigure, dpi=fig_save_dpi, show_plot=False)"
   ]
  },
  {
   "cell_type": "code",
   "execution_count": 76,
   "id": "10f6dff8-c0cd-47da-828a-fe0cf498b7a0",
   "metadata": {},
   "outputs": [],
   "source": [
    "fig, axs = plt.subplots(constrained_layout=True)\n",
    "ii=0\n",
    "for name, group in df_channel_comp_group:\n",
    "    if name[0]< 0.74 or name[0]> 0.91: \n",
    "        axs.plot([None], [None])\n",
    "        continue\n",
    "    xx, zz = group['ThicknessAlGaNBarrier'],  group['LFOMnorm']\n",
    "    axs.plot(xx, zz, '-', marker=markers_[ii],label=f'{name[0]:.2f}', ms=12)\n",
    "    ii+=1\n",
    "#axs.set_yscale('log')\n",
    "axs.axhline(y=1.0, c='k', ls='--')\n",
    "axs.set_xlabel(x_label)\n",
    "axs.set_ylabel(y_label)\n",
    "#axs.legend(bbox_to_anchor=(1, 0.5),loc='center left') \n",
    "plt2deg.set_tickers(axs, tick_multiplicator)\n",
    "axs.set_xlim(5,50)\n",
    "plt2deg.save_figure(f'zoom_{save_file_name_}', fig=fig, savefig=savefigure, dpi=fig_save_dpi, show_plot=False)"
   ]
  },
  {
   "cell_type": "markdown",
   "id": "59468cf2-a316-486f-b475-b40c1d1a49cd",
   "metadata": {},
   "source": [
    "### 2.5.4 2DEG density plot"
   ]
  },
  {
   "cell_type": "code",
   "execution_count": 77,
   "id": "2b71b387-bf88-496b-aa24-44bf3a2e8af4",
   "metadata": {},
   "outputs": [],
   "source": [
    "x_label = x_label_text_2d\n",
    "y_label = z_label['2DEG']\n",
    "save_file_name_ = f'deg_Tb_AlN_AlGaN.{FigFormatPaper}'\n",
    "tick_multiplicator=[10, 5, None, None]"
   ]
  },
  {
   "cell_type": "code",
   "execution_count": 78,
   "id": "97c931fc-839a-4986-b279-a5958a4b8f46",
   "metadata": {},
   "outputs": [],
   "source": [
    "fig, axs = plt.subplots(figsize=(8,6),constrained_layout=True)\n",
    "ii=0\n",
    "for name, group in df_channel_comp_group:\n",
    "    xx, zz = group['ThicknessAlGaNBarrier'],  group['2DEG']\n",
    "    if f'{name[0]:0.2f}' in plot_selected_compositions:\n",
    "        axs.plot(xx, zz, '-', marker=markers_[ii],label=f'{name[0]:.2f}', ms=12)\n",
    "        ii+=1\n",
    "#axs.set_yscale('log')\n",
    "axs.set_xlabel(x_label)\n",
    "axs.set_ylabel(y_label)\n",
    "axs.axhline(y=1.0, c='k', ls='--')\n",
    "#axs.legend(bbox_to_anchor=(1, 0.5),loc='center left') \n",
    "plt2deg.set_tickers(axs, tick_multiplicator)\n",
    "axs.set_xlim(5,50)\n",
    "plt2deg.save_figure(save_file_name_, fig=fig, savefig=savefigure, dpi=fig_save_dpi, show_plot=False)"
   ]
  },
  {
   "cell_type": "code",
   "execution_count": 80,
   "id": "64e75319-66bd-4cc5-8115-e105a52b31b1",
   "metadata": {},
   "outputs": [],
   "source": [
    "fig, axs = plt.subplots(figsize=(8,6),constrained_layout=True)\n",
    "ii=0\n",
    "for name, group in df_channel_comp_group:\n",
    "    xx, zz = group['ThicknessAlGaNBarrier'],  group['2DEG']\n",
    "    if f'{name[0]:0.2f}' in ['0.50']: \n",
    "        axs.plot(xx, zz, 'r-', marker=markers_[ii],label=f'{name[0]:.2f}', ms=12)\n",
    "        ii+=1\n",
    "axs.set_xlabel(x_label_text_2d)\n",
    "axs.set_ylabel(y_label)\n",
    "axs.axhline(y=1.0, c='k', ls='--')\n",
    "#axs.legend(bbox_to_anchor=(1, 0.5),loc='center left') \n",
    "plt2deg.set_tickers(axs, [10, 5, None, None])\n",
    "#axs.set_xlim(5,50)\n",
    "plt2deg.save_figure(f'two_deg_Tb_AlN_Al0.50GaN.{FigFormatPaper}', fig=fig, savefig=savefigure, dpi=fig_save_dpi, show_plot=False)"
   ]
  },
  {
   "cell_type": "markdown",
   "id": "40046962-4947-43e0-8b8d-2bc5e4566660",
   "metadata": {},
   "source": [
    "### 2.5.4 Sheet resitance plot"
   ]
  },
  {
   "cell_type": "code",
   "execution_count": 82,
   "id": "d829d370-fdfa-49fc-975b-da50a8fb8a5d",
   "metadata": {},
   "outputs": [],
   "source": [
    "x_label = x_label_text_2d\n",
    "y_label = z_label['R']\n",
    "save_file_name_ = f'R_Tb_AlN_AlGaN.{FigFormat}'\n",
    "tick_multiplicator=[10, 5, None, None]"
   ]
  },
  {
   "cell_type": "code",
   "execution_count": 44,
   "id": "e9095e7b-7817-4e1e-9c6e-7286c9f41f0c",
   "metadata": {},
   "outputs": [],
   "source": [
    "fig, axs = plt.subplots(figsize=(8,6),constrained_layout=True)\n",
    "ii=0\n",
    "for name, group in df_channel_comp_group:\n",
    "    xx, zz = group['ThicknessAlGaNBarrier'],  group['R'].copy()\n",
    "    zz[zz>1e8] = np.nan\n",
    "    if f'{name[0]:0.2f}' in plot_selected_compositions:\n",
    "        axs.plot(xx, zz, '-', marker=markers_[ii],label=f'{name[0]:.2f}', ms=12)\n",
    "        ii+=1\n",
    "axs.set_yscale('log')\n",
    "axs.set_xlabel(x_label)\n",
    "axs.set_ylabel(y_label)\n",
    "#axs.axhline(y=1.0, c='k', ls='--')\n",
    "#axs.legend(bbox_to_anchor=(1, 0.5),loc='center left') \n",
    "plt2deg.set_tickers(axs, tick_multiplicator)\n",
    "axs.set_xlim(5,50)\n",
    "plt2deg.save_figure(save_file_name_, fig=fig, savefig=savefigure, dpi=fig_save_dpi, show_plot=False)"
   ]
  },
  {
   "cell_type": "code",
   "execution_count": 45,
   "id": "31cdd4eb-5135-4ae8-b6a5-ece20aa1003f",
   "metadata": {},
   "outputs": [],
   "source": [
    "fig, axs = plt.subplots(figsize=(8,6),constrained_layout=True)\n",
    "ii=0\n",
    "for name, group in df_channel_comp_group:\n",
    "    xx, zz = group['ThicknessAlGaNBarrier'],  group['R'].copy()\n",
    "    zz[zz>1e8] = np.nan\n",
    "    if f'{name[0]:0.2f}' in plot_selected_compositions:\n",
    "        axs.plot(xx, zz, '-', marker=markers_[ii],label=f'{name[0]:.2f}', ms=12)\n",
    "        ii+=1\n",
    "axs.set_yscale('log')\n",
    "axs.set_xlabel(x_label)\n",
    "axs.set_ylabel(y_label)\n",
    "#axs.axhline(y=1.0, c='k', ls='--')\n",
    "#axs.legend(bbox_to_anchor=(1, 0.5),loc='center left') \n",
    "plt2deg.set_tickers(axs, tick_multiplicator)\n",
    "axs.set_xlim(5,50)\n",
    "axs.set_ylim(ymax=5e4)\n",
    "plt2deg.save_figure(f'zoom_{save_file_name_}', fig=fig, savefig=savefigure, dpi=fig_save_dpi, show_plot=False)"
   ]
  },
  {
   "cell_type": "markdown",
   "id": "3b46923c-a097-47ed-af6a-035d1837c40c",
   "metadata": {},
   "source": [
    "### 2.5.5 Mobility contributions for AlN(50nm)/AlGaN"
   ]
  },
  {
   "cell_type": "code",
   "execution_count": 24,
   "id": "58b2a6b4-98dc-4066-b830-2e821bc51e29",
   "metadata": {},
   "outputs": [],
   "source": [
    "aln_algan_300k = mobility_dff_300k[(mobility_dff_300k['AlContentBarrier']>0.99) & (mobility_dff_300k['ThicknessAlGaNBarrier']>49)]\n",
    "aln_algan_dff = aln_algan_300k[['AlContentChannel','IFR','AD','DIS','DP','PE','AP','POP','TOT']].copy()\n",
    "aln_algan_dff.rename(columns={'AlContentChannel':'comp'}, inplace=True)\n",
    "\n",
    "x_label = x_p_label_text\n",
    "y_label = z_label['TOT']\n",
    "save_file_name_ = f'mu_AlN50_AlGaN.{FigFormatPaper}'\n",
    "tick_multiplicator=[0.1, 0.05, None, None]"
   ]
  },
  {
   "cell_type": "code",
   "execution_count": 84,
   "id": "bfd3d445-2342-4887-8906-c64ae56632c6",
   "metadata": {},
   "outputs": [],
   "source": [
    "# Mobility contributions at 300K\n",
    "save_file_name_ = f'Mobility_contribs_AlN50AlGaN_300K.{FigFormatPaper}'\n",
    "x_label = x_p_label_text\n",
    "y_label = z_label['TOT']\n",
    "fig, ax,_ = plt2deg.plot_2d_carrier_mobilities(aln_algan_dff, save_file_name=save_file_name_,\n",
    "                                               ymin=5e1, ymax=2e5, xmax=0.9, xmin=0.5, y_scale_log=True, \n",
    "                                               annotate_pos=(2,2), annotatetextoffset=(0,-20),show_right_ticks=True,\n",
    "                                               mode='2d_carrier_mobility', yaxis_label=y_label, xaxis_label=x_label,\n",
    "                                               color=None, color_map='viridis', savefig=0, show_plot=False)\n",
    "plt2deg.set_tickers(ax, tick_multiplicator)\n",
    "plt2deg.save_figure(save_file_name_, fig=fig, savefig= savefigure, dpi=fig_save_dpi, show_plot=False)"
   ]
  },
  {
   "cell_type": "code",
   "execution_count": 86,
   "id": "611ae553-ce83-47d1-a4ec-fded1142f0c7",
   "metadata": {},
   "outputs": [],
   "source": [
    "fig, ax = plt.subplots(figsize=(9,6), constrained_layout=True)\n",
    "XX = np.array(aln_algan_300k['AlContentChannel'], dtype=float)\n",
    "ax.plot(XX, aln_algan_300k['2DEG_device']/rescale_2deg_fact, 'o-', c='k')\n",
    "ax.set_xlim(0.5,0.9)\n",
    "ax.set_xlabel(x_p_label_text)\n",
    "ax.set_ylabel(z_label['2DEG'])\n",
    "plt2deg.set_tickers(ax, tick_multiplicator)\n",
    "\n",
    "# Plotting mobility\n",
    "ax2 = ax.twinx() \n",
    "ax2.plot(XX, aln_algan_300k['TOT'], 'o-', c='r')\n",
    "\n",
    "# Plotting bandgap\n",
    "bandgap_ = (6.20*XX + 3.43*(1-XX) + 0.7*XX*(1-XX))**5 \n",
    "ax2.plot(XX, bandgap_, 'o-', c='m')\n",
    "\n",
    "ax2.set_ylabel(z_label['TOT'], c='r')\n",
    "ax2.set_yscale('log')\n",
    "ax2.set_ylim(ymin=70, ymax=1e4)\n",
    "ax2.annotate(r'E$_\\mathrm{g}^{5}$', xy=(XX[3], bandgap_[3]+1e3), color='m')\n",
    "\n",
    "# Plotting sheet resistance\n",
    "R_300k = np.array(aln_algan_300k['R'], dtype=float) #/20000 #1/20000 is to rescale\n",
    "ax2.plot(XX, R_300k, 'o-', c='g')\n",
    "ax2.annotate(r'R', xy=(XX[3], R_300k[3]-1e3), color='g')\n",
    "\n",
    "# Plotting LFOM\n",
    "LFOM_300k = np.array(aln_algan_300k['LFOM'], dtype=float)/ref_LFOM \n",
    "ax.plot(XX, LFOM_300k, 'o-', c='b')\n",
    "ax.annotate(r'LFOM$_{\\mathrm{norm}}$', xy=(XX[3], LFOM_300k[3]-0.2), color='b')\n",
    "\n",
    "plt2deg.save_figure(f'AlN50AlGaN_300K_mu_FOM.{FigFormat}', savefig=savefigure, show_plot=True,\n",
    "                    fig=fig, CountFig=None, dpi=fig_save_dpi)"
   ]
  },
  {
   "cell_type": "code",
   "execution_count": 50,
   "id": "f0dedb44-0f52-4d13-b1c0-49b1f81a26dd",
   "metadata": {},
   "outputs": [],
   "source": [
    "fig, ax = plt.subplots(figsize=(8,6), constrained_layout=True)\n",
    "XX = np.array(aln_algan_300k['AlContentChannel'], dtype=float)\n",
    "yy_2deg_density = np.array(aln_algan_300k['2DEG_device']/rescale_2deg_fact, dtype=float)\n",
    "ax.plot(XX, yy_2deg_density, 's-.', c='g', ms=12)\n",
    "ax.axhline(y=1, c='k', ls='--')\n",
    "ax.annotate(z_label['2DEG'][14:], xy=(XX[3], yy_2deg_density[3]+0.08), color='g')\n",
    "circle0 = Ellipse((XX[2], yy_2deg_density[2]), width=0.015, height=0.2, \n",
    "                        edgecolor='g', fc='None', lw=2)\n",
    "ax.add_patch(circle0)\n",
    "ax.annotate(\"\", xy=(XX[2]-0.05, yy_2deg_density[2]-0.1), xytext=(XX[2], yy_2deg_density[2]-0.1),\n",
    "             arrowprops=dict(arrowstyle=\"->\",color='g', linewidth=2))\n",
    "ax.set_xlim(0.5,0.9)\n",
    "ax.set_xlabel(x_p_label_text)\n",
    "ax.set_ylabel('')\n",
    "plt2deg.set_tickers(ax, tick_multiplicator)\n",
    "\n",
    "#=========================================================================\n",
    "ax2 = ax.twinx() \n",
    "ax2.set_ylabel('', c='r')\n",
    "ax2.set_yscale('log')\n",
    "ax2.set_ylim(ymin=50, ymax=1e4)\n",
    "\n",
    "# Plotting mobility\n",
    "yy_mobility = np.array(aln_algan_300k['TOT'], dtype=float)\n",
    "ax2.plot(XX, yy_mobility, '*-.', c='c', ms=12)\n",
    "ax2.annotate(z_label['TOT'][15:], xy=(XX[3], yy_mobility[3]-25), color='c')\n",
    "circle1 = Ellipse((XX[6], yy_mobility[6]), width=0.014, height=30, \n",
    "                        edgecolor='c', fc='None', lw=2)\n",
    "ax2.add_patch(circle1)\n",
    "ax2.annotate(\"\", xy=(XX[6]+0.05, yy_mobility[6]-15), xytext=(XX[6], yy_mobility[6]-15),\n",
    "             arrowprops=dict(arrowstyle=\"->\",color='c', linewidth=2))\n",
    "\n",
    "# Plotting bandgap\n",
    "bandgap_ = (6.25*XX + 3.51*(1-XX) + 0.7*XX*(1-XX))**5 \n",
    "ax2.plot(XX, bandgap_, '^-.', c='m', ms=12)\n",
    "ax2.annotate(r'E$_\\mathrm{g}^{5}$ (eV$^{5}$)', xy=(XX[3], bandgap_[3]+1.2e3), color='m')\n",
    "circle2 = Ellipse((XX[6], bandgap_[6]), width=0.015, height=1.6e3, \n",
    "                        edgecolor='m', fc='None', lw=2)\n",
    "ax2.add_patch(circle2)\n",
    "ax2.annotate(\"\", xy=(XX[6]+0.05, bandgap_[3]+1.e3), xytext=(XX[6], bandgap_[3]+1.e3),\n",
    "             arrowprops=dict(arrowstyle=\"->\",color='m', linewidth=2))\n",
    "\n",
    "# Plotting LFOM\n",
    "LFOM_300k = np.array(aln_algan_300k['LFOM'], dtype=float)/ref_LFOM \n",
    "ax.plot(XX, LFOM_300k, 'o-', c='r', ms=12)\n",
    "ax.annotate(r'LFOM$^{\\mathrm{B}}_{\\mathrm{norm}}$', xy=(XX[1], LFOM_300k[1]+0.3), color='r')\n",
    "circle3 = Ellipse((XX[2], LFOM_300k[2]), width=0.015, height=0.2, \n",
    "                        edgecolor='r', fc='None', lw=2)\n",
    "ax.add_patch(circle3)\n",
    "ax.annotate(\"\", xy=(XX[2]-0.05, LFOM_300k[2]+0.1), xytext=(XX[2], LFOM_300k[2]+0.1),\n",
    "             arrowprops=dict(arrowstyle=\"->\",color='r', linewidth=2))\n",
    "\n",
    "LFOM_300k_cnst = np.array(aln_algan_300k['LFOM_2DEG1e13'], dtype=float)/ref_LFOM \n",
    "ax.plot(XX, LFOM_300k_cnst, 'd-', c='b', ms=12)\n",
    "ax.annotate(r'LFOM$^{\\mathrm{A}}_{\\mathrm{norm}}$', xy=(XX[1], LFOM_300k_cnst[1]+0.3), color='b')\n",
    "circle4 = Ellipse((XX[2], LFOM_300k_cnst[2]), width=0.015, height=0.2, \n",
    "                        edgecolor='b', fc='None', lw=2)\n",
    "ax.add_patch(circle4)\n",
    "ax.annotate(\"\", xy=(XX[2]-0.05, LFOM_300k_cnst[2]+0.1), xytext=(XX[2], LFOM_300k_cnst[2]+0.1),\n",
    "             arrowprops=dict(arrowstyle=\"->\",color='b', linewidth=2))\n",
    "\n",
    "plt2deg.set_tickers(ax, [0.1,0.05,0.5,0.25])\n",
    "\n",
    "plt2deg.save_figure(f'AlN50AlGaN_300K_mu_FOM_paper.{FigFormatPaper}', savefig=savefigure, show_plot=True,\n",
    "                    fig=fig, CountFig=None, dpi=fig_save_dpi)"
   ]
  },
  {
   "cell_type": "code",
   "execution_count": 89,
   "id": "06da5ff8-6658-48ce-af80-301f345dd897",
   "metadata": {},
   "outputs": [],
   "source": [
    "ii=0\n",
    "for ii in range(5):\n",
    "    fig, ax = plt.subplots(figsize=(8,6.), constrained_layout=True)\n",
    "    XX = np.array(aln_algan_300k['AlContentChannel'], dtype=float)\n",
    "\n",
    "    if ii >2:\n",
    "        yy_2deg_density = np.array(aln_algan_300k['2DEG_device']/rescale_2deg_fact, dtype=float)\n",
    "        ax.plot(XX, yy_2deg_density, 's-', c='k', ms=12)\n",
    "        ax.annotate(z_label['2DEG'][14:], xy=(XX[3], yy_2deg_density[3]+0.08), color='k')\n",
    "        circle0 = Ellipse((XX[2], yy_2deg_density[2]), width=0.015, height=0.2, \n",
    "                                edgecolor='k', fc='None', lw=2)\n",
    "        ax.add_patch(circle0)\n",
    "        ax.annotate(\"\", xy=(XX[2]-0.05, yy_2deg_density[2]-0.1), xytext=(XX[2], yy_2deg_density[2]-0.1),\n",
    "                     arrowprops=dict(arrowstyle=\"->\",color='k', linewidth=2))\n",
    "        \n",
    "    ax.axhline(y=1, c='k', ls='--')\n",
    "    ax.set_xlim(0.5,0.9)\n",
    "    ax.set_ylim(-0.12,3.55)\n",
    "    ax.set_xlabel(x_p_label_text)\n",
    "    ax.set_ylabel('')\n",
    "    plt2deg.set_tickers(ax, [0.1,0.05,0.5,0.25])\n",
    "    \n",
    "    #=========================================================================\n",
    "    ax2 = ax.twinx() \n",
    "    ax2.set_ylabel('', c='r')\n",
    "    ax2.set_yscale('log')\n",
    "    ax2.set_ylim(ymin=50, ymax=1e4)\n",
    "    \n",
    "    # Plotting mobility\n",
    "    if ii >1:\n",
    "        yy_mobility = np.array(aln_algan_300k['TOT'], dtype=float)\n",
    "        ax2.plot(XX, yy_mobility, '*-', c='c', ms=12)\n",
    "        ax2.annotate(z_label['TOT'][15:], xy=(XX[3], yy_mobility[3]-25), color='c')\n",
    "        circle1 = Ellipse((XX[6], yy_mobility[6]), width=0.014, height=30, \n",
    "                                edgecolor='c', fc='None', lw=2)\n",
    "        ax2.add_patch(circle1)\n",
    "        ax2.annotate(\"\", xy=(XX[6]+0.05, yy_mobility[6]-15), xytext=(XX[6], yy_mobility[6]-15),\n",
    "                     arrowprops=dict(arrowstyle=\"->\",color='c', linewidth=2))\n",
    "    if ii >0:\n",
    "        # Plotting bandgap\n",
    "        bandgap_ = (6.25*XX + 3.51*(1-XX) + 0.7*XX*(1-XX))**5 \n",
    "        ax2.plot(XX, bandgap_, '^-', c='m', ms=12)\n",
    "        ax2.annotate(r'E$_\\mathrm{g}^{5}$ (eV$^{5}$)', xy=(XX[3], bandgap_[3]+1.2e3), color='m')\n",
    "        circle2 = Ellipse((XX[6], bandgap_[6]), width=0.015, height=1.6e3, \n",
    "                                edgecolor='m', fc='None', lw=2)\n",
    "        ax2.add_patch(circle2)\n",
    "        ax2.annotate(\"\", xy=(XX[6]+0.05, bandgap_[3]+1.e3), xytext=(XX[6], bandgap_[3]+1.e3),\n",
    "                     arrowprops=dict(arrowstyle=\"->\",color='m', linewidth=2))\n",
    "    \n",
    "    # Plotting LFOM\n",
    "    LFOM_300k = np.array(aln_algan_300k['LFOM'], dtype=float)/ref_LFOM \n",
    "    ax.plot(XX, LFOM_300k, 'o-', c='r', ms=12)\n",
    "    ax.annotate(r'LFOM$_{\\mathrm{norm}}$', xy=(XX[1], LFOM_300k[1]+0.3), color='r')\n",
    "    circle3 = Ellipse((XX[2], LFOM_300k[2]), width=0.015, height=0.2, \n",
    "                            edgecolor='r', fc='None', lw=2)\n",
    "    ax.add_patch(circle3)\n",
    "    ax.annotate(\"\", xy=(XX[2]-0.05, LFOM_300k[2]+0.1), xytext=(XX[2], LFOM_300k[2]+0.1),\n",
    "                 arrowprops=dict(arrowstyle=\"->\",color='r', linewidth=2))\n",
    "    if ii >3:\n",
    "        LFOM_300k_cnst = np.array(aln_algan_300k['LFOM_2DEG1e13'], dtype=float)/ref_LFOM \n",
    "        ax.plot(XX, LFOM_300k_cnst, 'd-', c='b', ms=12)\n",
    "        ax.annotate(r'LFOM$^*_{\\mathrm{norm}}$', xy=(XX[1], LFOM_300k_cnst[1]+0.3), color='b')\n",
    "        circle4 = Ellipse((XX[2], LFOM_300k_cnst[2]), width=0.015, height=0.2, \n",
    "                                edgecolor='b', fc='None', lw=2)\n",
    "        ax.add_patch(circle4)\n",
    "        ax.annotate(\"\", xy=(XX[2]-0.05, LFOM_300k_cnst[2]+0.1), xytext=(XX[2], LFOM_300k_cnst[2]+0.1),\n",
    "                     arrowprops=dict(arrowstyle=\"->\",color='b', linewidth=2))\n",
    "    \n",
    "    plt2deg.save_figure(f'{ii}_AlN50AlGaN_300K_mu_FOM_paper.{FigFormat}', savefig=savefigure, show_plot=True,\n",
    "                        fig=fig, CountFig=None, dpi=fig_save_dpi)\n",
    "    ii+=1\n",
    "    #break"
   ]
  },
  {
   "cell_type": "code",
   "execution_count": 91,
   "id": "4f541e95-925a-4f86-8388-abfb8a7214d7",
   "metadata": {},
   "outputs": [],
   "source": [
    "fig, ax = plt.subplots(constrained_layout=True)\n",
    "XX = np.array(aln_algan_300k['AlContentChannel'], dtype=float)\n",
    "#ax.plot(XX, aln_algan_300k['2DEG_device']/rescale_2deg_fact, 'o-', c='k')\n",
    "ax.set_xlim(0.5,0.9)\n",
    "ax.set_xlabel(x_p_label_text)\n",
    "ax.set_ylabel(z_label['2DEG'])\n",
    "plt2deg.set_tickers(ax, tick_multiplicator)\n",
    "\n",
    "# # Plotting mobility\n",
    "# ax2 = ax.twinx() \n",
    "# ax2.plot(XX, aln_algan_300k['TOT'], 'o-', c='r')\n",
    "\n",
    "# # Plotting bandgap\n",
    "# bandgap_ = (6.20*XX + 3.43*(1-XX) + 0.7*XX*(1-XX))**5 \n",
    "# ax2.plot(XX, bandgap_, 'o-', c='m')\n",
    "\n",
    "# ax2.set_ylabel(z_label['TOT'], c='r')\n",
    "# ax2.set_yscale('log')\n",
    "# ax2.set_ylim(ymin=70, ymax=1e4)\n",
    "# ax2.annotate(r'E$_\\mathrm{g}^{5}$', xy=(XX[3], bandgap_[3]+1e3), color='m')\n",
    "\n",
    "# # Plotting sheet resistance\n",
    "# R_300k = np.array(aln_algan_300k['R'], dtype=float) #/20000 #1/20000 is to rescale\n",
    "# ax2.plot(XX, R_300k, 'o-', c='g')\n",
    "# ax2.annotate(r'R', xy=(XX[3], R_300k[3]-1e3), color='g')\n",
    "\n",
    "# Plotting LFOM\n",
    "LFOM_300k = np.array(aln_algan_300k['LFOM'], dtype=float)/ref_LFOM \n",
    "ax.plot(XX, LFOM_300k, 'o-', c='r')\n",
    "LFOM_300k = np.array(aln_algan_300k['LFOM_2DEG1e13'], dtype=float)/ref_LFOM \n",
    "ax.plot(XX, LFOM_300k, 'o-', c='b')\n",
    "ax.set_ylabel(z_label['LFOMnorm_2'])\n",
    "ax.axhline(y=1, c='k', ls='--')\n",
    "#ax.annotate(r'LFOM$_{\\mathrm{norm}}$', xy=(XX[3], LFOM_300k[3]-0.2), color='b')\n",
    "\n",
    "plt2deg.save_figure(f'AlN50AlGaN_300K_mu_FOM_paper1.{FigFormat}', savefig=savefigure, show_plot=True,\n",
    "                    fig=fig, CountFig=None, dpi=fig_save_dpi)"
   ]
  },
  {
   "cell_type": "code",
   "execution_count": null,
   "id": "e7e34877-2de9-4edf-a9e5-e3cf9f743c02",
   "metadata": {},
   "outputs": [],
   "source": []
  }
 ],
 "metadata": {
  "kernelspec": {
   "display_name": "Python 3 (ipykernel)",
   "language": "python",
   "name": "python3"
  },
  "language_info": {
   "codemirror_mode": {
    "name": "ipython",
    "version": 3
   },
   "file_extension": ".py",
   "mimetype": "text/x-python",
   "name": "python",
   "nbconvert_exporter": "python",
   "pygments_lexer": "ipython3",
   "version": "3.12.3"
  }
 },
 "nbformat": 4,
 "nbformat_minor": 5
}
