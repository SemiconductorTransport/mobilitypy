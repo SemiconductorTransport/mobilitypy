{
 "cells": [
  {
   "cell_type": "markdown",
   "id": "7786e513-1800-4a76-9bdf-bbbc50b5eda4",
   "metadata": {},
   "source": [
    "# 2DEG mobility calculation using analytical formula\n",
    "\n",
    "Ref-1: J. Bassaler, J. Mehta, I. Abid, L. Konczewicz, S. Juillaguet, S. Contreras, S. Rennesson, S. Tamariz, M. Nemoz, F. Semond, J. Pernot, F. Medjdoub, Y. Cordier, P. Ferrandis, Al-Rich AlGaN Channel High Electron Mobility Transistors on Silicon: A Relevant Approach for High Temperature Stability of Electron Mobility. Adv. Electron. Mater. 2024, 2400069. https://doi.org/10.1002/aelm.202400069\n",
    "\n",
    "Ref-2: Zhang, J., Hao, Y., Zhang, J. et al. The mobility of two-dimensional electron gas in AlGaN/GaN heterostructures with varied Al content. Sci. China Ser. F-Inf. Sci. 51, 780–789 (2008). https://doi.org/10.1007/s11432-008-0056-7\n"
   ]
  },
  {
   "cell_type": "markdown",
   "id": "9e52d7c6-f0a0-47d0-84b8-667d6a1d58a2",
   "metadata": {},
   "source": [
    "# 1. Settings"
   ]
  },
  {
   "cell_type": "markdown",
   "id": "12a36278-e0f1-4a35-93be-7ddbe089be35",
   "metadata": {},
   "source": [
    "## 1.1 Import modules"
   ]
  },
  {
   "cell_type": "code",
   "execution_count": 1,
   "id": "f8068cb9-b57a-4141-a049-2bd20c4285cf",
   "metadata": {},
   "outputs": [],
   "source": [
    "import numpy as np\n",
    "import scipy as sc\n",
    "import matplotlib.pyplot as plt\n",
    "import pandas as pd"
   ]
  },
  {
   "cell_type": "code",
   "execution_count": 2,
   "id": "89f5eeaa-a049-481e-be9b-460d297a585f",
   "metadata": {},
   "outputs": [],
   "source": [
    "%load_ext autoreload\n",
    "%autoreload 2"
   ]
  },
  {
   "cell_type": "code",
   "execution_count": 3,
   "id": "ea470300-8e85-45a2-a94a-c4489518b2de",
   "metadata": {},
   "outputs": [],
   "source": [
    "import sys, os\n",
    "from pathlib import Path\n",
    "mobilitypy_tutorial_path = Path().absolute()\n",
    "sys.path.insert(0, os.path.join(mobilitypy_tutorial_path, '../'))\n",
    "from mobilitypy import AlloyParams, Mobility2DCarrier, Plottings"
   ]
  },
  {
   "cell_type": "code",
   "execution_count": 4,
   "id": "2bddf97e-0bde-4b7e-aeea-827e2bd52b7d",
   "metadata": {},
   "outputs": [],
   "source": [
    "save_figure_dir = os.path.join(mobilitypy_tutorial_path, '../imgs')\n",
    "savefigure = True\n",
    "fig_dpi = 75"
   ]
  },
  {
   "cell_type": "markdown",
   "id": "87f4fe5c-c009-4d5c-b2b4-81cf3e8a9566",
   "metadata": {},
   "source": [
    "## 1.2 Set physical constants"
   ]
  },
  {
   "cell_type": "code",
   "execution_count": 5,
   "id": "6fc041c7-180f-4a4d-8b36-72108cbc65eb",
   "metadata": {
    "scrolled": true
   },
   "outputs": [],
   "source": [
    "'''\n",
    "n_2d => in nm^-2\n",
    "rms_roughness => nm^-1\n",
    "corr_len => nm^-1\n",
    "n_dis => nm^-2\n",
    "f_dis => unit less\n",
    "'''\n",
    "alloy_disordered_effect=1\n",
    "interface_roughness_effect=1\n",
    "dislocation_effect=1\n",
    "deformation_potential_effect=1 \n",
    "piezoelectric_effect=1\n",
    "acoustic_phonon_effect=1\n",
    "polar_optical_phonon_effect=1\n",
    "total_mobility=1\n",
    "mobility_model='Bassaler'\n",
    "density_2deg = 0.1 # nm^-2\n",
    "irf_rms_roughness = 0.3 # nm\n",
    "irf_corr_length = 3.0 # nm\n",
    "dislocation_density = 1e-4 # nm^-2\n",
    "occup_dislocation = 0.3\n",
    "T=300 #K"
   ]
  },
  {
   "cell_type": "markdown",
   "id": "106bb743-33d3-4657-b6ac-9b65ea856c7d",
   "metadata": {},
   "source": [
    "# 2. Calculate mobilities"
   ]
  },
  {
   "cell_type": "code",
   "execution_count": 6,
   "id": "be88c1aa-5795-4d7a-8959-271bc69e16f9",
   "metadata": {},
   "outputs": [],
   "source": [
    "compositions = np.linspace(0,1,101)\n",
    "mu2deg = Mobility2DCarrier(compositions=compositions, binaries=['AlN', 'GaN'], alloy='AlGaN', system='ternary')"
   ]
  },
  {
   "cell_type": "code",
   "execution_count": null,
   "id": "716c0e43-5e7b-4b2b-991e-d9b3a9df97b5",
   "metadata": {},
   "outputs": [],
   "source": [
    "deg_series = [0.01, 0.05, 0.1, 0.5, 1.0, 5.0, 10.0] # nm^-2"
   ]
  },
  {
   "cell_type": "code",
   "execution_count": 7,
   "id": "ef4a1498-1052-4369-96f7-a71b7a374fe9",
   "metadata": {
    "scrolled": true
   },
   "outputs": [],
   "source": [
    "mobility_dff = {}\n",
    "for n_2deg in deg_series:\n",
    "    mobility_dff[n_2deg] = mu2deg.calculate_sheet_mobility(n_2d=n_2deg, rms_roughness=irf_rms_roughness, \n",
    "                                                           corr_len=irf_corr_length, n_dis=dislocation_density, \n",
    "                                                           f_dis=occup_dislocation, T=T,\n",
    "                                                           alloy_disordered_effect=alloy_disordered_effect,\n",
    "                                                           interface_roughness_effect=interface_roughness_effect,\n",
    "                                                           dislocation_effect=dislocation_effect,\n",
    "                                                           deformation_potential_effect=deformation_potential_effect,\n",
    "                                                           piezoelectric_effect=piezoelectric_effect,\n",
    "                                                           acoustic_phonon_effect=acoustic_phonon_effect,\n",
    "                                                           polar_optical_phonon_effect=polar_optical_phonon_effect,\n",
    "                                                           total_mobility=total_mobility,\n",
    "                                                           calculate_total_mobility_only=True,\n",
    "                                                           mobility_model=mobility_model)"
   ]
  },
  {
   "cell_type": "markdown",
   "id": "6aa63119-9caf-4b9a-8356-9893f1c84d2c",
   "metadata": {},
   "source": [
    "# 3. Plot mobilities"
   ]
  },
  {
   "cell_type": "code",
   "execution_count": 8,
   "id": "3750f595-dc61-4ac0-883e-aa8c920b45c3",
   "metadata": {},
   "outputs": [],
   "source": [
    "plt2deg = Plottings(save_figure_dir=save_figure_dir)\n",
    "x_label = 'Al composition'\n",
    "y_label = r'Electron mobility ($\\mathrm{cm}^2\\mathrm{V}^{-1}\\mathrm{s}^{-1}$)'"
   ]
  },
  {
   "cell_type": "code",
   "execution_count": 9,
   "id": "84d9f51e-cbe9-47b4-8e00-903efffacb44",
   "metadata": {},
   "outputs": [],
   "source": [
    "fig, ax = plt.subplots(figsize=(9.5,6),constrained_layout=True)\n",
    "ymin, ymax = 1e10, 0\n",
    "legend_text = []\n",
    "for n_2deg, mobility_df in mobility_dff.items():\n",
    "    xx = np.array(mobility_df['comp'], dtype=float)\n",
    "    data_2_plot = np.column_stack((xx, mobility_df['TOT']))\n",
    "    fig, ax,_ = plt2deg.plot_2d(data_2_plot, fig=fig, ax=ax,\n",
    "                                             ymin=None, ymax=None, xmax=1, xmin=0, y_scale_log=True, \n",
    "                                             annotate_pos=(11,11), show_right_ticks=False,\n",
    "                                             yaxis_label=y_label, xaxis_label=x_label,\n",
    "                                             color=None, color_map='viridis', savefig=0, dpi=75, show_plot=False)\n",
    "    min_y = mobility_df['TOT'].min()\n",
    "    max_y = mobility_df['TOT'].max()\n",
    "\n",
    "    if min_y < ymin: ymin = min_y\n",
    "    if max_y > ymax: ymax = max_y\n",
    "    legend_text.append(f'{n_2deg: .2f}')\n",
    "ax.set_ylim(ymin, ymax)\n",
    "ax.legend(legend_text,bbox_to_anchor=(1, 0.5),loc='center left', title=r'n$_{2DEG}$ (nm$^{-2}$)')\n",
    "plt2deg.save_figure('mu_2deg_dependence.png', fig=fig, savefig=savefigure, dpi=fig_dpi, show_plot=False)"
   ]
  },
  {
   "cell_type": "code",
   "execution_count": null,
   "id": "f7759e55-5de5-456c-9311-ff648c3aed6e",
   "metadata": {},
   "outputs": [],
   "source": []
  }
 ],
 "metadata": {
  "kernelspec": {
   "display_name": "Python 3 (ipykernel)",
   "language": "python",
   "name": "python3"
  },
  "language_info": {
   "codemirror_mode": {
    "name": "ipython",
    "version": 3
   },
   "file_extension": ".py",
   "mimetype": "text/x-python",
   "name": "python",
   "nbconvert_exporter": "python",
   "pygments_lexer": "ipython3",
   "version": "3.12.3"
  }
 },
 "nbformat": 4,
 "nbformat_minor": 5
}
