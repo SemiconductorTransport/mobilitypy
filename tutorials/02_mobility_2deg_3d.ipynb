{
 "cells": [
  {
   "cell_type": "markdown",
   "id": "7786e513-1800-4a76-9bdf-bbbc50b5eda4",
   "metadata": {},
   "source": [
    "# 2DEG mobility calculation using analytical formula\n",
    "\n",
    "Ref-1: J. Bassaler, J. Mehta, I. Abid, L. Konczewicz, S. Juillaguet, S. Contreras, S. Rennesson, S. Tamariz, M. Nemoz, F. Semond, J. Pernot, F. Medjdoub, Y. Cordier, P. Ferrandis, Al-Rich AlGaN Channel High Electron Mobility Transistors on Silicon: A Relevant Approach for High Temperature Stability of Electron Mobility. Adv. Electron. Mater. 2024, 2400069. https://doi.org/10.1002/aelm.202400069\n",
    "\n",
    "Ref-2: Zhang, J., Hao, Y., Zhang, J. et al. The mobility of two-dimensional electron gas in AlGaN/GaN heterostructures with varied Al content. Sci. China Ser. F-Inf. Sci. 51, 780–789 (2008). https://doi.org/10.1007/s11432-008-0056-7\n"
   ]
  },
  {
   "cell_type": "markdown",
   "id": "9e52d7c6-f0a0-47d0-84b8-667d6a1d58a2",
   "metadata": {},
   "source": [
    "# 1. Settings"
   ]
  },
  {
   "cell_type": "markdown",
   "id": "12a36278-e0f1-4a35-93be-7ddbe089be35",
   "metadata": {},
   "source": [
    "## 1.1 Import modules"
   ]
  },
  {
   "cell_type": "code",
   "execution_count": 1,
   "id": "f8068cb9-b57a-4141-a049-2bd20c4285cf",
   "metadata": {},
   "outputs": [],
   "source": [
    "import numpy as np\n",
    "import scipy as sc\n",
    "import matplotlib.pyplot as plt\n",
    "import pandas as pd\n",
    "from matplotlib import colors, cm"
   ]
  },
  {
   "cell_type": "code",
   "execution_count": 2,
   "id": "89f5eeaa-a049-481e-be9b-460d297a585f",
   "metadata": {},
   "outputs": [],
   "source": [
    "%load_ext autoreload\n",
    "%autoreload 2"
   ]
  },
  {
   "cell_type": "code",
   "execution_count": 3,
   "id": "ea470300-8e85-45a2-a94a-c4489518b2de",
   "metadata": {},
   "outputs": [],
   "source": [
    "import sys, os\n",
    "from pathlib import Path\n",
    "mobilitypy_tutorial_path = Path().absolute()\n",
    "sys.path.insert(0, os.path.join(mobilitypy_tutorial_path, '../'))\n",
    "from mobilitypy import AlloyParams, Mobility2DEG, Plottings, PlotQuasi3DFuns"
   ]
  },
  {
   "cell_type": "code",
   "execution_count": 4,
   "id": "2bddf97e-0bde-4b7e-aeea-827e2bd52b7d",
   "metadata": {},
   "outputs": [],
   "source": [
    "save_figure_dir = '/home/Docs5/badal.mondal/linuxhome/MyFolder/Projects/DeviceSimulation/MobilityCalc2DEG/OUTPUTS/FIGS'\n",
    "savefigure=True"
   ]
  },
  {
   "cell_type": "code",
   "execution_count": 5,
   "id": "4aba3017-df24-4595-97b7-4adca48a3e0b",
   "metadata": {},
   "outputs": [],
   "source": [
    "folder_post_data_ = '/home/Docs5/badal.mondal/linuxhome/MyFolder/Projects/DeviceSimulation/NextnanoSimulations/DATAs/AlGaN_HEMT/AlGaN_AlGaN_AlN_HEMT/nnp/2DEHG_density/OneDim/'\n",
    "data_file = 'sim_post_process_data.xlsx'\n",
    "excel_file = f'{folder_post_data_}/{data_file}' "
   ]
  },
  {
   "cell_type": "markdown",
   "id": "87f4fe5c-c009-4d5c-b2b4-81cf3e8a9566",
   "metadata": {},
   "source": [
    "## 1.2 Set physical constants"
   ]
  },
  {
   "cell_type": "code",
   "execution_count": 6,
   "id": "6fc041c7-180f-4a4d-8b36-72108cbc65eb",
   "metadata": {
    "scrolled": true
   },
   "outputs": [],
   "source": [
    "'''\n",
    "n_2d => in nm^-2\n",
    "rms_roughness => nm^-1\n",
    "corr_len => nm^-1\n",
    "n_dis => nm^-2\n",
    "f_dis => unit less\n",
    "'''\n",
    "alloy_disordered_effect=1\n",
    "interface_roughness_effect=1\n",
    "dislocation_effect=1\n",
    "deformation_potential_effect=1 \n",
    "piezoelectric_effect=1\n",
    "acoustic_phonon_effect=1\n",
    "polar_optical_phonon_effect=1\n",
    "total_mobility=1\n",
    "mobility_model='Bassaler'\n",
    "density_2deg = 0.1 # nm^-2\n",
    "irf_rms_roughness = 0.3 # nm\n",
    "irf_corr_length = 3.0 # nm\n",
    "dislocation_density = 1e-4 # nm^-2\n",
    "occup_dislocation = 0.3\n",
    "T=300 #K"
   ]
  },
  {
   "cell_type": "code",
   "execution_count": 7,
   "id": "e99b9b47-808d-4f11-83d6-01c362ab3827",
   "metadata": {},
   "outputs": [],
   "source": [
    "plot_mobilities = ['IFR', 'DIS', 'AD', 'AP', 'POP', 'TOT', 'LFOM', 'LFOMnorm', '2DEG']\n",
    "len_plots = len(plot_mobilities)\n",
    "rescale_2deg_fact=1e13"
   ]
  },
  {
   "cell_type": "code",
   "execution_count": 8,
   "id": "dcaff472-1654-45f2-bdda-359b967220ad",
   "metadata": {},
   "outputs": [],
   "source": [
    "params = {'axes.labelsize': 20,'axes.titlesize': 20,\n",
    "          'xtick.labelsize':20,\n",
    "                  'xtick.major.width':2,\n",
    "                  'xtick.major.size':5,\n",
    "                  'xtick.minor.width':2,\n",
    "                  'xtick.minor.size':3,\n",
    "                  'ytick.labelsize': 20,\n",
    "                  'ytick.major.width':2,\n",
    "                  'ytick.major.size':5,\n",
    "                  'ytick.minor.width':2,\n",
    "                  'ytick.minor.size':3,\n",
    "                  'errorbar.capsize':2}\n",
    "plt.rcParams.update(params)\n",
    "plt.rc('font', size=20)"
   ]
  },
  {
   "cell_type": "markdown",
   "id": "106bb743-33d3-4657-b6ac-9b65ea856c7d",
   "metadata": {},
   "source": [
    "# 2. Calculate mobilities"
   ]
  },
  {
   "cell_type": "markdown",
   "id": "f676c345-1c0a-4e0c-9875-972fc63cb9e6",
   "metadata": {},
   "source": [
    "## 2.1 GaN channel LFOM for normalization"
   ]
  },
  {
   "cell_type": "markdown",
   "id": "fb9d394d-e885-485a-91f3-c79fafb36047",
   "metadata": {},
   "source": [
    "### 2.1.1 Read 2DEG data from nextnano simulation"
   ]
  },
  {
   "cell_type": "code",
   "execution_count": 9,
   "id": "ffc7577f-9743-4a52-a064-cce1722b116d",
   "metadata": {},
   "outputs": [],
   "source": [
    "data_sheet_name =  'GaN_C_sweep__AlContentBarrier__ThicknessAlGaNBarrier'\n",
    "n_2d_df_ref = pd.read_excel(excel_file, sheet_name=data_sheet_name, index_col=0)\n",
    "density_2deg_comp_ref = np.array(n_2d_df_ref['2DEG_device'], dtype=float)/1e+14 # cm^-2 to nm^-2 conversion\n",
    "channel_comp_ref = np.zeros(len(density_2deg_comp_ref))"
   ]
  },
  {
   "cell_type": "markdown",
   "id": "75846e7f-27c5-46a2-95c8-877b4d910658",
   "metadata": {},
   "source": [
    "### 2.1.2 Calculate AlGaN/GaN mobilities"
   ]
  },
  {
   "cell_type": "code",
   "execution_count": 10,
   "id": "d9f75824-5091-4ecf-8a28-56748d34ef53",
   "metadata": {
    "scrolled": true
   },
   "outputs": [],
   "source": [
    "mu2deg = Mobility2DEG(compositions=channel_comp_ref, binaries=['AlN', 'GaN'], alloy='AlGaN', system='ternary', \n",
    "                      print_log=None, eps_n_2d=1e-10)"
   ]
  },
  {
   "cell_type": "code",
   "execution_count": 11,
   "id": "351ddf44-a8b0-4022-a0a1-8219b43452eb",
   "metadata": {
    "scrolled": true
   },
   "outputs": [],
   "source": [
    "mobility_ref = mu2deg.calculate_mobility(n_2d=density_2deg_comp_ref, rms_roughness=irf_rms_roughness, \n",
    "                                        corr_len=irf_corr_length, n_dis=dislocation_density, \n",
    "                                        f_dis=occup_dislocation, T=T,\n",
    "                                        alloy_disordered_effect=False,\n",
    "                                        interface_roughness_effect=interface_roughness_effect,\n",
    "                                        dislocation_effect=dislocation_effect,\n",
    "                                        deformation_potential_effect=deformation_potential_effect,\n",
    "                                        piezoelectric_effect=piezoelectric_effect,\n",
    "                                        acoustic_phonon_effect=acoustic_phonon_effect,\n",
    "                                        polar_optical_phonon_effect=polar_optical_phonon_effect,\n",
    "                                        total_mobility=total_mobility,\n",
    "                                        mobility_model=mobility_model)"
   ]
  },
  {
   "cell_type": "markdown",
   "id": "41e78924-6e98-49d5-b99e-1e83a72f2c10",
   "metadata": {},
   "source": [
    "### 2.1.3 Calculate AlGaN/GaN device figure-of-merits"
   ]
  },
  {
   "cell_type": "code",
   "execution_count": 12,
   "id": "0bde0767-d270-428c-8d8f-9f2800129ae7",
   "metadata": {
    "scrolled": true
   },
   "outputs": [],
   "source": [
    "mobility_ref['LFOM'] = mu2deg.calculate_figure_of_merit(density_2deg_comp_ref, np.array(mobility_ref['TOT']))\n",
    "Combined_df_ref = pd.concat([n_2d_df_ref, mobility_ref], axis=1)"
   ]
  },
  {
   "cell_type": "code",
   "execution_count": 13,
   "id": "3a1e3954-0857-4f31-b638-cea92ad70a40",
   "metadata": {},
   "outputs": [
    {
     "name": "stdout",
     "output_type": "stream",
     "text": [
      "- AlGaN/GaN with highest LFOM (MW/cm^2):\n",
      "\n"
     ]
    },
    {
     "data": {
      "text/html": [
       "<div>\n",
       "<style scoped>\n",
       "    .dataframe tbody tr th:only-of-type {\n",
       "        vertical-align: middle;\n",
       "    }\n",
       "\n",
       "    .dataframe tbody tr th {\n",
       "        vertical-align: top;\n",
       "    }\n",
       "\n",
       "    .dataframe thead th {\n",
       "        text-align: right;\n",
       "    }\n",
       "</style>\n",
       "<table border=\"1\" class=\"dataframe\">\n",
       "  <thead>\n",
       "    <tr style=\"text-align: right;\">\n",
       "      <th></th>\n",
       "      <th>AlContentBarrier</th>\n",
       "      <th>ThicknessAlGaNBarrier</th>\n",
       "      <th>2DEG_device</th>\n",
       "      <th>2DEG_BC</th>\n",
       "      <th>2DEG_SC</th>\n",
       "      <th>2DHG_device</th>\n",
       "      <th>2DHG_BC</th>\n",
       "      <th>2DHG_SC</th>\n",
       "      <th>comp</th>\n",
       "      <th>IFR</th>\n",
       "      <th>DIS</th>\n",
       "      <th>DP</th>\n",
       "      <th>PE</th>\n",
       "      <th>AP</th>\n",
       "      <th>POP</th>\n",
       "      <th>TOT</th>\n",
       "      <th>LFOM</th>\n",
       "    </tr>\n",
       "  </thead>\n",
       "  <tbody>\n",
       "    <tr>\n",
       "      <th>189</th>\n",
       "      <td>1.0</td>\n",
       "      <td>50</td>\n",
       "      <td>5.234338e+13</td>\n",
       "      <td>5.234338e+13</td>\n",
       "      <td>1.076399e-41</td>\n",
       "      <td>55093120000000</td>\n",
       "      <td>2.862996e-43</td>\n",
       "      <td>55093119000000</td>\n",
       "      <td>0.000</td>\n",
       "      <td>18748.949898</td>\n",
       "      <td>523781.628432</td>\n",
       "      <td>4629.583066</td>\n",
       "      <td>54305.7741</td>\n",
       "      <td>4265.91276</td>\n",
       "      <td>1297.054369</td>\n",
       "      <td>942.827294</td>\n",
       "      <td>112348.462817</td>\n",
       "    </tr>\n",
       "  </tbody>\n",
       "</table>\n",
       "</div>"
      ],
      "text/plain": [
       "     AlContentBarrier  ThicknessAlGaNBarrier   2DEG_device       2DEG_BC  \\\n",
       "189               1.0                     50  5.234338e+13  5.234338e+13   \n",
       "\n",
       "          2DEG_SC     2DHG_device       2DHG_BC         2DHG_SC   comp  \\\n",
       "189  1.076399e-41  55093120000000  2.862996e-43  55093119000000  0.000   \n",
       "\n",
       "              IFR            DIS           DP          PE          AP  \\\n",
       "189  18748.949898  523781.628432  4629.583066  54305.7741  4265.91276   \n",
       "\n",
       "             POP         TOT           LFOM  \n",
       "189  1297.054369  942.827294  112348.462817  "
      ]
     },
     "execution_count": 13,
     "metadata": {},
     "output_type": "execute_result"
    }
   ],
   "source": [
    "print('- AlGaN/GaN with highest LFOM (MW/cm^2):\\n')\n",
    "Combined_df_ref.loc[[Combined_df_ref['LFOM'].idxmax()]]"
   ]
  },
  {
   "cell_type": "code",
   "execution_count": 14,
   "id": "f34bd36a-0347-4061-b069-1675d64f9633",
   "metadata": {},
   "outputs": [
    {
     "name": "stdout",
     "output_type": "stream",
     "text": [
      "- AlGaN/GaN with highest LFOM = 1.12348e+05 MW/cm^2\n"
     ]
    }
   ],
   "source": [
    "ref_LFOM = Combined_df_ref['LFOM'].max()\n",
    "print(f'- AlGaN/GaN with highest LFOM = {ref_LFOM:.5e} MW/cm^2')"
   ]
  },
  {
   "cell_type": "markdown",
   "id": "5ed12f8b-cdb2-4196-b9a7-ee33db7aa32b",
   "metadata": {},
   "source": [
    "### 2.1.4 Alternative refrence AlGaN/GaN device\n",
    "\n",
    "o This is a AlGaN barrier-GaN channel device with barrier AlGaN composition and barrier thickness such that 2DEG density=1x10^13 /cm^2"
   ]
  },
  {
   "cell_type": "code",
   "execution_count": 15,
   "id": "c4d400ba-aa0e-4b1d-8ae3-ae9cf9fa0213",
   "metadata": {},
   "outputs": [
    {
     "name": "stdout",
     "output_type": "stream",
     "text": [
      "- This specific AlGaN/GaN has LFOM = 3.16497e+04 MW/cm^2\n"
     ]
    }
   ],
   "source": [
    "mu2deg = Mobility2DEG(compositions=0, binaries=['AlN', 'GaN'], alloy='AlGaN', system='ternary')\n",
    "mobility_ref_a = mu2deg.calculate_mobility(n_2d=0.1, rms_roughness=irf_rms_roughness, \n",
    "                                        corr_len=irf_corr_length, n_dis=dislocation_density, \n",
    "                                        f_dis=occup_dislocation, T=T,\n",
    "                                        interface_roughness_effect=interface_roughness_effect,\n",
    "                                        dislocation_effect=dislocation_effect,\n",
    "                                        deformation_potential_effect=deformation_potential_effect,\n",
    "                                        piezoelectric_effect=piezoelectric_effect,\n",
    "                                        acoustic_phonon_effect=acoustic_phonon_effect,\n",
    "                                        polar_optical_phonon_effect=polar_optical_phonon_effect,\n",
    "                                        total_mobility=total_mobility,\n",
    "                                        mobility_model=mobility_model)\n",
    "ref_LFOM_a = mu2deg.calculate_figure_of_merit(0.1, np.array(mobility_ref_a['TOT']))[0]\n",
    "print(f'- This specific AlGaN/GaN has LFOM = {ref_LFOM_a:.5e} MW/cm^2')"
   ]
  },
  {
   "cell_type": "markdown",
   "id": "8aeb82bb-41a3-43ff-ab2f-fbec05df6cff",
   "metadata": {},
   "source": [
    "### 2.1.5 Normalized AlGaN/GaN device"
   ]
  },
  {
   "cell_type": "code",
   "execution_count": 16,
   "id": "c2897712-2ca1-44f5-a9e0-edd29afcbb3c",
   "metadata": {},
   "outputs": [],
   "source": [
    "Combined_df_ref['LFOMnorm'] = Combined_df_ref['LFOM'].copy()/ref_LFOM"
   ]
  },
  {
   "cell_type": "code",
   "execution_count": 17,
   "id": "551cc5f2-d7b5-487c-aa2b-9d75f4ba9f45",
   "metadata": {},
   "outputs": [
    {
     "data": {
      "text/html": [
       "<div>\n",
       "<style scoped>\n",
       "    .dataframe tbody tr th:only-of-type {\n",
       "        vertical-align: middle;\n",
       "    }\n",
       "\n",
       "    .dataframe tbody tr th {\n",
       "        vertical-align: top;\n",
       "    }\n",
       "\n",
       "    .dataframe thead th {\n",
       "        text-align: right;\n",
       "    }\n",
       "</style>\n",
       "<table border=\"1\" class=\"dataframe\">\n",
       "  <thead>\n",
       "    <tr style=\"text-align: right;\">\n",
       "      <th></th>\n",
       "      <th>AlContentBarrier</th>\n",
       "      <th>ThicknessAlGaNBarrier</th>\n",
       "      <th>2DEG_device</th>\n",
       "      <th>2DEG_BC</th>\n",
       "      <th>2DEG_SC</th>\n",
       "      <th>2DHG_device</th>\n",
       "      <th>2DHG_BC</th>\n",
       "      <th>2DHG_SC</th>\n",
       "      <th>comp</th>\n",
       "      <th>IFR</th>\n",
       "      <th>DIS</th>\n",
       "      <th>DP</th>\n",
       "      <th>PE</th>\n",
       "      <th>AP</th>\n",
       "      <th>POP</th>\n",
       "      <th>TOT</th>\n",
       "      <th>LFOM</th>\n",
       "      <th>LFOMnorm</th>\n",
       "    </tr>\n",
       "  </thead>\n",
       "  <tbody>\n",
       "    <tr>\n",
       "      <th>0</th>\n",
       "      <td>0.1</td>\n",
       "      <td>5</td>\n",
       "      <td>2.618620e-05</td>\n",
       "      <td>2.618579e-05</td>\n",
       "      <td>3.618691e-43</td>\n",
       "      <td>55267126000000</td>\n",
       "      <td>4.069552e-27</td>\n",
       "      <td>55267120000000</td>\n",
       "      <td>0.000</td>\n",
       "      <td>NaN</td>\n",
       "      <td>3.822296e-14</td>\n",
       "      <td>NaN</td>\n",
       "      <td>NaN</td>\n",
       "      <td>NaN</td>\n",
       "      <td>NaN</td>\n",
       "      <td>3.822296e-14</td>\n",
       "      <td>2.278610e-30</td>\n",
       "      <td>2.028163e-35</td>\n",
       "    </tr>\n",
       "    <tr>\n",
       "      <th>1</th>\n",
       "      <td>0.1</td>\n",
       "      <td>10</td>\n",
       "      <td>1.681836e+00</td>\n",
       "      <td>1.681792e+00</td>\n",
       "      <td>9.360279e-43</td>\n",
       "      <td>55217285000000</td>\n",
       "      <td>6.271308e-30</td>\n",
       "      <td>55217282000000</td>\n",
       "      <td>0.000</td>\n",
       "      <td>NaN</td>\n",
       "      <td>2.454912e-09</td>\n",
       "      <td>NaN</td>\n",
       "      <td>NaN</td>\n",
       "      <td>NaN</td>\n",
       "      <td>NaN</td>\n",
       "      <td>2.454912e-09</td>\n",
       "      <td>9.399242e-21</td>\n",
       "      <td>8.366151e-26</td>\n",
       "    </tr>\n",
       "    <tr>\n",
       "      <th>2</th>\n",
       "      <td>0.1</td>\n",
       "      <td>15</td>\n",
       "      <td>7.689244e+04</td>\n",
       "      <td>7.689176e+04</td>\n",
       "      <td>2.390214e-42</td>\n",
       "      <td>55169079000000</td>\n",
       "      <td>9.660822e-35</td>\n",
       "      <td>55169078000000</td>\n",
       "      <td>0.000</td>\n",
       "      <td>4.834625e+26</td>\n",
       "      <td>1.122591e-04</td>\n",
       "      <td>1.569811e+14</td>\n",
       "      <td>9.929912e+06</td>\n",
       "      <td>9.929911e+06</td>\n",
       "      <td>1.110991e+06</td>\n",
       "      <td>1.122591e-04</td>\n",
       "      <td>1.965072e-11</td>\n",
       "      <td>1.749087e-16</td>\n",
       "    </tr>\n",
       "    <tr>\n",
       "      <th>3</th>\n",
       "      <td>0.1</td>\n",
       "      <td>20</td>\n",
       "      <td>2.712707e+09</td>\n",
       "      <td>2.712699e+09</td>\n",
       "      <td>5.979782e-42</td>\n",
       "      <td>55122617000000</td>\n",
       "      <td>2.007350e-39</td>\n",
       "      <td>55122616000000</td>\n",
       "      <td>0.000</td>\n",
       "      <td>5.784175e+12</td>\n",
       "      <td>4.065894e+00</td>\n",
       "      <td>4.602133e+07</td>\n",
       "      <td>3.288230e+04</td>\n",
       "      <td>3.285883e+04</td>\n",
       "      <td>3.402420e+04</td>\n",
       "      <td>4.064906e+00</td>\n",
       "      <td>2.510305e-02</td>\n",
       "      <td>2.234392e-07</td>\n",
       "    </tr>\n",
       "    <tr>\n",
       "      <th>4</th>\n",
       "      <td>0.1</td>\n",
       "      <td>25</td>\n",
       "      <td>3.142068e+11</td>\n",
       "      <td>3.142065e+11</td>\n",
       "      <td>8.653905e-42</td>\n",
       "      <td>55104046000000</td>\n",
       "      <td>4.136819e-42</td>\n",
       "      <td>55104045000000</td>\n",
       "      <td>0.000</td>\n",
       "      <td>5.065016e+06</td>\n",
       "      <td>6.416729e+02</td>\n",
       "      <td>8.952478e+04</td>\n",
       "      <td>6.375812e+03</td>\n",
       "      <td>5.951925e+03</td>\n",
       "      <td>7.300236e+03</td>\n",
       "      <td>5.365905e+02</td>\n",
       "      <td>3.838237e+02</td>\n",
       "      <td>3.416368e-03</td>\n",
       "    </tr>\n",
       "    <tr>\n",
       "      <th>...</th>\n",
       "      <td>...</td>\n",
       "      <td>...</td>\n",
       "      <td>...</td>\n",
       "      <td>...</td>\n",
       "      <td>...</td>\n",
       "      <td>...</td>\n",
       "      <td>...</td>\n",
       "      <td>...</td>\n",
       "      <td>...</td>\n",
       "      <td>...</td>\n",
       "      <td>...</td>\n",
       "      <td>...</td>\n",
       "      <td>...</td>\n",
       "      <td>...</td>\n",
       "      <td>...</td>\n",
       "      <td>...</td>\n",
       "      <td>...</td>\n",
       "      <td>...</td>\n",
       "    </tr>\n",
       "    <tr>\n",
       "      <th>185</th>\n",
       "      <td>1.0</td>\n",
       "      <td>30</td>\n",
       "      <td>5.055013e+13</td>\n",
       "      <td>5.055012e+13</td>\n",
       "      <td>1.075161e-41</td>\n",
       "      <td>55093178000000</td>\n",
       "      <td>2.896870e-43</td>\n",
       "      <td>55093176000000</td>\n",
       "      <td>0.000</td>\n",
       "      <td>1.898060e+04</td>\n",
       "      <td>4.980135e+05</td>\n",
       "      <td>4.690574e+03</td>\n",
       "      <td>5.308460e+04</td>\n",
       "      <td>4.309762e+03</td>\n",
       "      <td>1.305105e+03</td>\n",
       "      <td>9.497157e+02</td>\n",
       "      <td>1.092922e+05</td>\n",
       "      <td>9.727964e-01</td>\n",
       "    </tr>\n",
       "    <tr>\n",
       "      <th>186</th>\n",
       "      <td>1.0</td>\n",
       "      <td>35</td>\n",
       "      <td>5.118690e+13</td>\n",
       "      <td>5.118690e+13</td>\n",
       "      <td>1.075606e-41</td>\n",
       "      <td>55093157000000</td>\n",
       "      <td>2.884641e-43</td>\n",
       "      <td>55093156000000</td>\n",
       "      <td>0.000</td>\n",
       "      <td>1.889724e+04</td>\n",
       "      <td>5.071153e+05</td>\n",
       "      <td>4.668562e+03</td>\n",
       "      <td>5.351959e+04</td>\n",
       "      <td>4.293993e+03</td>\n",
       "      <td>1.302195e+03</td>\n",
       "      <td>9.472324e+02</td>\n",
       "      <td>1.103795e+05</td>\n",
       "      <td>9.824748e-01</td>\n",
       "    </tr>\n",
       "    <tr>\n",
       "      <th>187</th>\n",
       "      <td>1.0</td>\n",
       "      <td>40</td>\n",
       "      <td>5.166716e+13</td>\n",
       "      <td>5.166716e+13</td>\n",
       "      <td>1.075938e-41</td>\n",
       "      <td>55093141000000</td>\n",
       "      <td>2.875562e-43</td>\n",
       "      <td>55093140000000</td>\n",
       "      <td>0.000</td>\n",
       "      <td>1.883518e+04</td>\n",
       "      <td>5.140152e+05</td>\n",
       "      <td>4.652222e+03</td>\n",
       "      <td>5.384667e+04</td>\n",
       "      <td>4.282246e+03</td>\n",
       "      <td>1.300038e+03</td>\n",
       "      <td>9.453869e+02</td>\n",
       "      <td>1.111981e+05</td>\n",
       "      <td>9.897608e-01</td>\n",
       "    </tr>\n",
       "    <tr>\n",
       "      <th>188</th>\n",
       "      <td>1.0</td>\n",
       "      <td>45</td>\n",
       "      <td>5.204229e+13</td>\n",
       "      <td>5.204228e+13</td>\n",
       "      <td>1.076194e-41</td>\n",
       "      <td>55093129000000</td>\n",
       "      <td>2.868560e-43</td>\n",
       "      <td>55093128000000</td>\n",
       "      <td>0.000</td>\n",
       "      <td>1.878718e+04</td>\n",
       "      <td>5.194256e+05</td>\n",
       "      <td>4.639611e+03</td>\n",
       "      <td>5.410156e+04</td>\n",
       "      <td>4.273156e+03</td>\n",
       "      <td>1.298375e+03</td>\n",
       "      <td>9.439614e+02</td>\n",
       "      <td>1.118366e+05</td>\n",
       "      <td>9.954437e-01</td>\n",
       "    </tr>\n",
       "    <tr>\n",
       "      <th>189</th>\n",
       "      <td>1.0</td>\n",
       "      <td>50</td>\n",
       "      <td>5.234338e+13</td>\n",
       "      <td>5.234338e+13</td>\n",
       "      <td>1.076399e-41</td>\n",
       "      <td>55093120000000</td>\n",
       "      <td>2.862996e-43</td>\n",
       "      <td>55093119000000</td>\n",
       "      <td>0.000</td>\n",
       "      <td>1.874895e+04</td>\n",
       "      <td>5.237816e+05</td>\n",
       "      <td>4.629583e+03</td>\n",
       "      <td>5.430577e+04</td>\n",
       "      <td>4.265913e+03</td>\n",
       "      <td>1.297054e+03</td>\n",
       "      <td>9.428273e+02</td>\n",
       "      <td>1.123485e+05</td>\n",
       "      <td>1.000000e+00</td>\n",
       "    </tr>\n",
       "  </tbody>\n",
       "</table>\n",
       "<p>190 rows × 18 columns</p>\n",
       "</div>"
      ],
      "text/plain": [
       "     AlContentBarrier  ThicknessAlGaNBarrier   2DEG_device       2DEG_BC  \\\n",
       "0                 0.1                      5  2.618620e-05  2.618579e-05   \n",
       "1                 0.1                     10  1.681836e+00  1.681792e+00   \n",
       "2                 0.1                     15  7.689244e+04  7.689176e+04   \n",
       "3                 0.1                     20  2.712707e+09  2.712699e+09   \n",
       "4                 0.1                     25  3.142068e+11  3.142065e+11   \n",
       "..                ...                    ...           ...           ...   \n",
       "185               1.0                     30  5.055013e+13  5.055012e+13   \n",
       "186               1.0                     35  5.118690e+13  5.118690e+13   \n",
       "187               1.0                     40  5.166716e+13  5.166716e+13   \n",
       "188               1.0                     45  5.204229e+13  5.204228e+13   \n",
       "189               1.0                     50  5.234338e+13  5.234338e+13   \n",
       "\n",
       "          2DEG_SC     2DHG_device       2DHG_BC         2DHG_SC   comp  \\\n",
       "0    3.618691e-43  55267126000000  4.069552e-27  55267120000000  0.000   \n",
       "1    9.360279e-43  55217285000000  6.271308e-30  55217282000000  0.000   \n",
       "2    2.390214e-42  55169079000000  9.660822e-35  55169078000000  0.000   \n",
       "3    5.979782e-42  55122617000000  2.007350e-39  55122616000000  0.000   \n",
       "4    8.653905e-42  55104046000000  4.136819e-42  55104045000000  0.000   \n",
       "..            ...             ...           ...             ...    ...   \n",
       "185  1.075161e-41  55093178000000  2.896870e-43  55093176000000  0.000   \n",
       "186  1.075606e-41  55093157000000  2.884641e-43  55093156000000  0.000   \n",
       "187  1.075938e-41  55093141000000  2.875562e-43  55093140000000  0.000   \n",
       "188  1.076194e-41  55093129000000  2.868560e-43  55093128000000  0.000   \n",
       "189  1.076399e-41  55093120000000  2.862996e-43  55093119000000  0.000   \n",
       "\n",
       "              IFR           DIS            DP            PE            AP  \\\n",
       "0             NaN  3.822296e-14           NaN           NaN           NaN   \n",
       "1             NaN  2.454912e-09           NaN           NaN           NaN   \n",
       "2    4.834625e+26  1.122591e-04  1.569811e+14  9.929912e+06  9.929911e+06   \n",
       "3    5.784175e+12  4.065894e+00  4.602133e+07  3.288230e+04  3.285883e+04   \n",
       "4    5.065016e+06  6.416729e+02  8.952478e+04  6.375812e+03  5.951925e+03   \n",
       "..            ...           ...           ...           ...           ...   \n",
       "185  1.898060e+04  4.980135e+05  4.690574e+03  5.308460e+04  4.309762e+03   \n",
       "186  1.889724e+04  5.071153e+05  4.668562e+03  5.351959e+04  4.293993e+03   \n",
       "187  1.883518e+04  5.140152e+05  4.652222e+03  5.384667e+04  4.282246e+03   \n",
       "188  1.878718e+04  5.194256e+05  4.639611e+03  5.410156e+04  4.273156e+03   \n",
       "189  1.874895e+04  5.237816e+05  4.629583e+03  5.430577e+04  4.265913e+03   \n",
       "\n",
       "              POP           TOT          LFOM      LFOMnorm  \n",
       "0             NaN  3.822296e-14  2.278610e-30  2.028163e-35  \n",
       "1             NaN  2.454912e-09  9.399242e-21  8.366151e-26  \n",
       "2    1.110991e+06  1.122591e-04  1.965072e-11  1.749087e-16  \n",
       "3    3.402420e+04  4.064906e+00  2.510305e-02  2.234392e-07  \n",
       "4    7.300236e+03  5.365905e+02  3.838237e+02  3.416368e-03  \n",
       "..            ...           ...           ...           ...  \n",
       "185  1.305105e+03  9.497157e+02  1.092922e+05  9.727964e-01  \n",
       "186  1.302195e+03  9.472324e+02  1.103795e+05  9.824748e-01  \n",
       "187  1.300038e+03  9.453869e+02  1.111981e+05  9.897608e-01  \n",
       "188  1.298375e+03  9.439614e+02  1.118366e+05  9.954437e-01  \n",
       "189  1.297054e+03  9.428273e+02  1.123485e+05  1.000000e+00  \n",
       "\n",
       "[190 rows x 18 columns]"
      ]
     },
     "execution_count": 17,
     "metadata": {},
     "output_type": "execute_result"
    }
   ],
   "source": [
    "Combined_df_ref"
   ]
  },
  {
   "cell_type": "markdown",
   "id": "e4515744-de1d-42c4-b1b6-0e47363b00e7",
   "metadata": {},
   "source": [
    "## 2.2 Plotting reference AlGaN/GaN HEMT properties"
   ]
  },
  {
   "cell_type": "code",
   "execution_count": 18,
   "id": "cf302ae6-9904-4b05-b941-19f31582a07e",
   "metadata": {},
   "outputs": [],
   "source": [
    "lpltq3d = PlotQuasi3DFuns(save_figure_dir=f'{save_figure_dir}/2DEG_mobilities_ref')"
   ]
  },
  {
   "cell_type": "code",
   "execution_count": 19,
   "id": "c01d5241-c494-41a2-ae24-1aa0a1c3cad9",
   "metadata": {},
   "outputs": [],
   "source": [
    "Combined_df_ref['2DEG'] =  Combined_df_ref['2DEG_device'].copy()/rescale_2deg_fact\n",
    "Combined_df_ref['2DHG'] =  Combined_df_ref['2DHG_device'].copy()/rescale_2deg_fact"
   ]
  },
  {
   "cell_type": "code",
   "execution_count": 20,
   "id": "1b230358-fd60-4045-a3ca-ad7099809141",
   "metadata": {},
   "outputs": [
    {
     "name": "stdout",
     "output_type": "stream",
     "text": [
      "\t-- Plotting IFR...\n",
      "\t-- Plotting DIS...\n",
      "\t-- Plotting AP...\n",
      "\t-- Plotting POP...\n",
      "\t-- Plotting TOT...\n",
      "\t-- Plotting LFOM...\n",
      "\t-- Plotting LFOMnorm...\n",
      "\t-- Plotting 2DEG...\n"
     ]
    },
    {
     "name": "stderr",
     "output_type": "stream",
     "text": [
      "/home/Docs5/badal.mondal/linuxhome/MyFolder/Projects/DeviceSimulation/MobilityCalc2DEG/mobilitypy/tutorials/../mobilitypy/utilities/_quasi3d_plot_fns.py:56: UserWarning: Log scale: values of z <= 0 have been masked\n",
      "  CS = axs.contourf(xi, yi, zi, cmap=color_map, norm=norm)\n"
     ]
    },
    {
     "name": "stdout",
     "output_type": "stream",
     "text": [
      "- Done\n"
     ]
    }
   ],
   "source": [
    "fig_ncols, fig_nrows = 3, 3\n",
    "fig, axs = plt.subplots(fig_ncols, fig_nrows, figsize=(16,12), \n",
    "                        sharey=True,constrained_layout=True)\n",
    "show_colorbar = False\n",
    "tick_multiplicator=[0.2, 0.1, 10, 5]\n",
    "for ii in range(fig_ncols*fig_nrows):\n",
    "    if ii < len(plot_mobilities):\n",
    "        which_mobility = plot_mobilities[ii]\n",
    "        if which_mobility not in Combined_df_ref: \n",
    "            #axs[ii//3][ii%3].axis(\"off\") \n",
    "            axs[ii//3][ii%3].get_yaxis().set_visible(False)\n",
    "            axs[ii//3][ii%3].get_xaxis().set_visible(False)\n",
    "            axs[ii//3][ii%3].set_title(which_mobility)\n",
    "            continue\n",
    "    else:\n",
    "        axs[ii//3][ii%3].axis(\"off\") \n",
    "        continue\n",
    "    x_label_text, y_label_text, z_label = '','',''\n",
    "    print(f'\\t-- Plotting {which_mobility}...')\n",
    "    xx, yy, zz = Combined_df_ref['AlContentBarrier'], Combined_df_ref['ThicknessAlGaNBarrier'], Combined_df_ref[which_mobility]\n",
    "\n",
    "    vmin = 1E-5 if which_mobility in ['2DEG', 'LFOM', 'LFOMnorm'] else 1 #Combined_df_ref[which_mobility].min(numeric_only = True)\n",
    "    vmax = min(Combined_df_ref[which_mobility].max(numeric_only = True), 1e10)\n",
    "    #vmin, vmax = zz.min(numeric_only = True)+1e-20, zz.max(numeric_only = True)\n",
    "    norm = colors.Normalize(vmin=vmin, vmax=vmax) if which_mobility in ['2DEG', 'LFOMnorm'] else colors.LogNorm(vmin=vmin, vmax=vmax)\n",
    "    cbar_mapable = cm.ScalarMappable(norm=norm, cmap='viridis')\n",
    "    if ii-6>=0: x_label_text = 'Al composition barrier'\n",
    "    if ii%3==0: y_label_text = 'Barrier thickness (nm)'\n",
    "    if ii%3-2==0: z_label=r'$\\mu$ ($\\mathrm{cm}^2\\mathrm{V}^{-1}\\mathrm{s}^{-1}$)'\n",
    "    if which_mobility == 'LFOM': z_label=r'LFOM (MW/cm$^2$)'\n",
    "    if which_mobility == 'LFOMnorm': z_label=r'LFOM$_\\mathrm{AlGaN}$/LFOM$_\\mathrm{highest}$'\n",
    "    if which_mobility == '2DEG': z_label=r'2DEG ($\\mathrm{10}^{13}\\mathrm{cm}^{-2}$)'\n",
    "\n",
    "    ##### Plot composition map \n",
    "    _, _ = lpltq3d.Plotq3D(xx,yy,zz, fig=fig, ax=axs[ii//3][ii%3], \n",
    "                           x_label=x_label_text, y_label=y_label_text,\n",
    "                           z_label=z_label, interpolation_method='linear',\n",
    "                           interpolation_points = 20,\n",
    "                           tick_multiplicator=tick_multiplicator,\n",
    "                           title_label=which_mobility, norm=norm,\n",
    "                           cbar_mappable=cbar_mapable, show_contour_lines=1,\n",
    "                           marker='s', marker_size=24**2,\n",
    "                           cbar_text=z_label, show_colorbar=1,\n",
    "                           plot_controur=1, plot_scatter=0, \n",
    "                           savefigure=False, show_plot=False)\n",
    "    if ii%3 != 0: axs[ii//3][ii%3].get_yaxis().set_visible(False)\n",
    "lpltq3d.save_figure(f'GaNChannel_AlGaN.png', savefig=savefigure, show_plot=True,\n",
    "                    fig=fig, CountFig=None, dpi=75)\n",
    "print('- Done', flush=True)\n",
    "#break"
   ]
  },
  {
   "cell_type": "markdown",
   "id": "48797a51-45d9-4ff3-95e1-1b1ab1a861d9",
   "metadata": {},
   "source": [
    "## 2.3 AlGaN/AlGaN mobilities and figure-of-merit"
   ]
  },
  {
   "cell_type": "markdown",
   "id": "96c357b1-39f4-464b-9cde-db160195ce03",
   "metadata": {},
   "source": [
    "### 2.3.1 Read 2DEG data from nextnano simulation"
   ]
  },
  {
   "cell_type": "code",
   "execution_count": 21,
   "id": "0714ac87-a67c-4c50-b015-e51a64092060",
   "metadata": {},
   "outputs": [],
   "source": [
    "data_sheet_name =  'sim_sweep__AlContentBarrier__AlContentChannel__ThicknessAlGaNBarrier'\n",
    "n_2d_df = pd.read_excel(excel_file, sheet_name=data_sheet_name, index_col=0)\n",
    "density_2deg_comp = np.array(n_2d_df['2DEG_device'], dtype=float)/1e+14 # cm^-2 to nm^-2 conversion\n",
    "channel_comp = np.array(n_2d_df['AlContentChannel'], dtype=float)"
   ]
  },
  {
   "cell_type": "markdown",
   "id": "5c5596bd-adae-4341-ad7e-5e6d38a62cf0",
   "metadata": {},
   "source": [
    "### 2.3.2 Calculate mobilities"
   ]
  },
  {
   "cell_type": "code",
   "execution_count": 22,
   "id": "279fe1ec-1798-4f85-81a8-b865496330a2",
   "metadata": {},
   "outputs": [],
   "source": [
    "mu2deg = Mobility2DEG(compositions=channel_comp, binaries=['AlN', 'GaN'], alloy='AlGaN', system='ternary')"
   ]
  },
  {
   "cell_type": "code",
   "execution_count": 23,
   "id": "1ff0d5ca-9195-4335-a9ef-9de26db24564",
   "metadata": {
    "scrolled": true
   },
   "outputs": [],
   "source": [
    "mobility_df = mu2deg.calculate_mobility(n_2d=density_2deg_comp, rms_roughness=irf_rms_roughness, \n",
    "                                        corr_len=irf_corr_length, n_dis=dislocation_density, \n",
    "                                        f_dis=occup_dislocation, T=T,\n",
    "                                        alloy_disordered_effect=alloy_disordered_effect,\n",
    "                                        interface_roughness_effect=interface_roughness_effect,\n",
    "                                        dislocation_effect=dislocation_effect,\n",
    "                                        deformation_potential_effect=deformation_potential_effect,\n",
    "                                        piezoelectric_effect=piezoelectric_effect,\n",
    "                                        acoustic_phonon_effect=acoustic_phonon_effect,\n",
    "                                        polar_optical_phonon_effect=polar_optical_phonon_effect,\n",
    "                                        total_mobility=total_mobility,\n",
    "                                        mobility_model=mobility_model)"
   ]
  },
  {
   "cell_type": "markdown",
   "id": "cbd221b4-a385-40ac-be41-39076dae098e",
   "metadata": {},
   "source": [
    "### 2.3.3 Calculate AlGaN lateral figure-of-merit"
   ]
  },
  {
   "cell_type": "code",
   "execution_count": 24,
   "id": "72ba5b78-d307-4c37-8a26-b749e00c2bd0",
   "metadata": {},
   "outputs": [],
   "source": [
    "mobility_df['LFOM'] = mu2deg.calculate_figure_of_merit(density_2deg_comp, np.array(mobility_df['TOT']))\n",
    "mobility_df['LFOMnorm'] = mobility_df['LFOM'].copy()/ref_LFOM"
   ]
  },
  {
   "cell_type": "markdown",
   "id": "2668e1ed-6e5e-475d-9132-5a2cf20820f6",
   "metadata": {},
   "source": [
    "### 2.3.3 Combine AlGaN mobilities and lateral figure-of-merit dataframe"
   ]
  },
  {
   "cell_type": "code",
   "execution_count": 25,
   "id": "2176c733-911b-4e45-8cd1-265afbb77cbc",
   "metadata": {},
   "outputs": [],
   "source": [
    "Combined_df = pd.concat([n_2d_df, mobility_df], axis=1)"
   ]
  },
  {
   "cell_type": "markdown",
   "id": "723d085d-a8d5-4e83-907a-3ea68d3d8910",
   "metadata": {},
   "source": [
    "## 2.4 Plot AlGaN/AlGaN HEMT mobilities"
   ]
  },
  {
   "cell_type": "code",
   "execution_count": 26,
   "id": "d7e8258e-4b0b-419e-b049-f7589d7508bd",
   "metadata": {},
   "outputs": [],
   "source": [
    "lpltq3d = PlotQuasi3DFuns(save_figure_dir=f'{save_figure_dir}/2DEG_mobilities')"
   ]
  },
  {
   "cell_type": "code",
   "execution_count": 27,
   "id": "ebbb8d58-9102-4c0d-b363-6dbb204d4e40",
   "metadata": {},
   "outputs": [],
   "source": [
    "Combined_df['2DEG'] =  Combined_df['2DEG_device'].copy()/rescale_2deg_fact\n",
    "Combined_df['2DHG'] =  Combined_df['2DHG_device'].copy()/rescale_2deg_fact"
   ]
  },
  {
   "cell_type": "code",
   "execution_count": 28,
   "id": "1288d0ff-0fe9-4f0f-9b37-73ca008caa0c",
   "metadata": {},
   "outputs": [
    {
     "name": "stdout",
     "output_type": "stream",
     "text": [
      "- Plotting barrier thickness = 5.00 nm\n",
      "\t-- Plotting IFR...\n",
      "\t-- Plotting DIS...\n",
      "\t-- Plotting AD...\n",
      "\t-- Plotting AP...\n",
      "\t-- Plotting POP...\n",
      "\t-- Plotting TOT...\n",
      "\t-- Plotting LFOM...\n",
      "\t-- Plotting LFOMnorm...\n",
      "\t-- Plotting 2DEG...\n",
      "- Done\n",
      "- Plotting barrier thickness = 10.00 nm\n",
      "\t-- Plotting IFR...\n",
      "\t-- Plotting DIS...\n",
      "\t-- Plotting AD...\n",
      "\t-- Plotting AP...\n",
      "\t-- Plotting POP...\n",
      "\t-- Plotting TOT...\n",
      "\t-- Plotting LFOM...\n",
      "\t-- Plotting LFOMnorm...\n",
      "\t-- Plotting 2DEG...\n",
      "- Done\n",
      "- Plotting barrier thickness = 15.00 nm\n",
      "\t-- Plotting IFR...\n",
      "\t-- Plotting DIS...\n",
      "\t-- Plotting AD...\n",
      "\t-- Plotting AP...\n",
      "\t-- Plotting POP...\n",
      "\t-- Plotting TOT...\n",
      "\t-- Plotting LFOM...\n",
      "\t-- Plotting LFOMnorm...\n",
      "\t-- Plotting 2DEG...\n",
      "- Done\n",
      "- Plotting barrier thickness = 20.00 nm\n",
      "\t-- Plotting IFR...\n",
      "\t-- Plotting DIS...\n",
      "\t-- Plotting AD...\n",
      "\t-- Plotting AP...\n",
      "\t-- Plotting POP...\n",
      "\t-- Plotting TOT...\n",
      "\t-- Plotting LFOM...\n",
      "\t-- Plotting LFOMnorm...\n",
      "\t-- Plotting 2DEG...\n",
      "- Done\n",
      "- Plotting barrier thickness = 25.00 nm\n",
      "\t-- Plotting IFR...\n",
      "\t-- Plotting DIS...\n",
      "\t-- Plotting AD...\n",
      "\t-- Plotting AP...\n",
      "\t-- Plotting POP...\n",
      "\t-- Plotting TOT...\n",
      "\t-- Plotting LFOM...\n",
      "\t-- Plotting LFOMnorm...\n",
      "\t-- Plotting 2DEG...\n",
      "- Done\n",
      "- Plotting barrier thickness = 30.00 nm\n",
      "\t-- Plotting IFR...\n",
      "\t-- Plotting DIS...\n",
      "\t-- Plotting AD...\n",
      "\t-- Plotting AP...\n",
      "\t-- Plotting POP...\n",
      "\t-- Plotting TOT...\n",
      "\t-- Plotting LFOM...\n",
      "\t-- Plotting LFOMnorm...\n",
      "\t-- Plotting 2DEG...\n",
      "- Done\n",
      "- Plotting barrier thickness = 35.00 nm\n",
      "\t-- Plotting IFR...\n",
      "\t-- Plotting DIS...\n",
      "\t-- Plotting AD...\n",
      "\t-- Plotting AP...\n",
      "\t-- Plotting POP...\n",
      "\t-- Plotting TOT...\n",
      "\t-- Plotting LFOM...\n",
      "\t-- Plotting LFOMnorm...\n",
      "\t-- Plotting 2DEG...\n",
      "- Done\n",
      "- Plotting barrier thickness = 40.00 nm\n",
      "\t-- Plotting IFR...\n",
      "\t-- Plotting DIS...\n",
      "\t-- Plotting AD...\n",
      "\t-- Plotting AP...\n",
      "\t-- Plotting POP...\n",
      "\t-- Plotting TOT...\n",
      "\t-- Plotting LFOM...\n",
      "\t-- Plotting LFOMnorm...\n",
      "\t-- Plotting 2DEG...\n",
      "- Done\n",
      "- Plotting barrier thickness = 45.00 nm\n",
      "\t-- Plotting IFR...\n",
      "\t-- Plotting DIS...\n",
      "\t-- Plotting AD...\n",
      "\t-- Plotting AP...\n",
      "\t-- Plotting POP...\n",
      "\t-- Plotting TOT...\n",
      "\t-- Plotting LFOM...\n",
      "\t-- Plotting LFOMnorm...\n",
      "\t-- Plotting 2DEG...\n",
      "- Done\n",
      "- Plotting barrier thickness = 50.00 nm\n",
      "\t-- Plotting IFR...\n",
      "\t-- Plotting DIS...\n",
      "\t-- Plotting AD...\n",
      "\t-- Plotting AP...\n",
      "\t-- Plotting POP...\n",
      "\t-- Plotting TOT...\n",
      "\t-- Plotting LFOM...\n",
      "\t-- Plotting LFOMnorm...\n",
      "\t-- Plotting 2DEG...\n",
      "- Done\n"
     ]
    }
   ],
   "source": [
    "df_cap_thickness_group = Combined_df.groupby(['ThicknessAlGaNBarrier']) # Group by thickness\n",
    "\n",
    "fig_ncols, fig_nrows = 3, 3\n",
    "for name, group in df_cap_thickness_group:\n",
    "    barrier_thickness = f'{name[0]:.2f}'\n",
    "    print(f'- Plotting barrier thickness = {barrier_thickness} nm')\n",
    "    fig, axs = plt.subplots(fig_ncols, fig_nrows, figsize=(16,13.2), \n",
    "                            sharey=True,constrained_layout=True)\n",
    "    show_colorbar = False\n",
    "    tick_multiplicator=[0.1, 0.05, 0.1, 0.05]\n",
    "    for ii in range(fig_ncols*fig_nrows):\n",
    "        if ii < len(plot_mobilities):\n",
    "            which_mobility = plot_mobilities[ii]\n",
    "        else:\n",
    "            axs[ii//3][ii%3].axis(\"off\") \n",
    "            continue\n",
    "        x_label_text, y_label_text, z_label = '','',''\n",
    "        print(f'\\t-- Plotting {which_mobility}...')\n",
    "        xx, yy, zz = group['AlContentChannel'], group['AlContentBarrier'], group[which_mobility]\n",
    "\n",
    "        vmin = 1e-5 if which_mobility in ['2DEG', 'LFOM', 'LFOMnorm'] else 1\n",
    "        vmax = min(Combined_df[which_mobility].max(numeric_only=True), 1e10)\n",
    "        #vmin, vmax = zz.min()+1e-20, zz.max()\n",
    "        norm = colors.Normalize(vmin=vmin, vmax=vmax) if which_mobility in ['LFOMnorm','2DEG'] else colors.LogNorm(vmin=vmin, vmax=vmax)\n",
    "        cbar_mapable = cm.ScalarMappable(norm=norm, cmap='viridis')\n",
    "        #print(ii, ii%3)\n",
    "        if ii-6>=0: x_label_text = 'Al composition channel'\n",
    "        if ii%3==0: y_label_text = 'Al composition barrier'\n",
    "        if ii%3-2==0: z_label=r'$\\mu$ ($\\mathrm{cm}^2\\mathrm{V}^{-1}\\mathrm{s}^{-1}$)'\n",
    "        if which_mobility == 'LFOM': z_label=r'LFOM (MW/cm$^2$)'\n",
    "        if which_mobility == 'LFOMnorm': z_label=r'LFOM$_\\mathrm{AlGaN}$/LFOM$_\\mathrm{GaN}$'\n",
    "        if which_mobility == '2DEG': z_label=r'2DEG ($\\mathrm{10}^{13}\\mathrm{cm}^{-2}$)'\n",
    "\n",
    "        ##### Plot composition map \n",
    "        fig, _ = lpltq3d.Plotq3D(xx,yy,zz, fig=fig, ax=axs[ii//3][ii%3],\n",
    "                                 vmin=vmin, vmax=vmax, xmin=0.475, xmax=0.975, ymin=0.525, ymax=1.025,\n",
    "                                                x_label=x_label_text, y_label=y_label_text,\n",
    "                                                z_label=z_label, interpolation_method='linear',\n",
    "                                                interpolation_points = 20,\n",
    "                                                tick_multiplicator=tick_multiplicator,\n",
    "                                                title_label=which_mobility[:], \n",
    "                                                cbar_mappable=cbar_mapable, norm=norm,\n",
    "                                                show_contour_lines=False, \n",
    "                                                marker='s', marker_size=24**2,\n",
    "                                                cbar_text=z_label,show_colorbar=True,\n",
    "                                                plot_controur=0, plot_scatter=1, \n",
    "                                                savefigure=False, show_plot=False)\n",
    "        plt.suptitle(f\"Barrier thickness = {barrier_thickness} nm\", size=24)\n",
    "        if ii%3 != 0: axs[ii//3][ii%3].get_yaxis().set_visible(False)\n",
    "    lpltq3d.save_figure(f'Barrier_{barrier_thickness}.png', savefig=savefigure, show_plot=True,\n",
    "                        fig=fig, CountFig=None, dpi=75)\n",
    "    print('- Done', flush=True)\n",
    "    #break"
   ]
  },
  {
   "cell_type": "markdown",
   "id": "e8a2bbe8-3b61-4a58-8d01-e72bfc336d37",
   "metadata": {},
   "source": [
    "## 2.5 Plot 2D plots"
   ]
  },
  {
   "cell_type": "code",
   "execution_count": 29,
   "id": "901b4ff9-05f8-4d87-a20a-139571f7a5dd",
   "metadata": {},
   "outputs": [],
   "source": [
    "plt2deg = Plottings(save_figure_dir=f'{save_figure_dir}/Others')"
   ]
  },
  {
   "cell_type": "markdown",
   "id": "d6701223-da75-4254-92cb-0df62a8f4ece",
   "metadata": {},
   "source": [
    "### 2.5.1 Mobility plot"
   ]
  },
  {
   "cell_type": "code",
   "execution_count": 30,
   "id": "8f390af2-c5ff-422b-9d2a-33c20cd19691",
   "metadata": {},
   "outputs": [],
   "source": [
    "x_label = 'Barrier thickness (nm)'\n",
    "y_label = r'Electron mobility ($\\mathrm{cm}^2\\mathrm{V}^{-1}\\mathrm{s}^{-1}$)'\n",
    "save_file_name_ = 'mu_Tb_AlNB_AlGaNC.png'\n",
    "tick_multiplicator=[10, 5, 50, 25]"
   ]
  },
  {
   "cell_type": "code",
   "execution_count": 31,
   "id": "4bd40f7a-cb8b-4039-a763-207dc4824cd7",
   "metadata": {},
   "outputs": [],
   "source": [
    "Combined_df_ = Combined_df[Combined_df['AlContentBarrier']>0.99]\n",
    "df_cap_thickness_group = Combined_df_.groupby(['AlContentChannel']) # Group by thickness\n",
    "\n",
    "fig, axs = plt.subplots(figsize=(9,6),constrained_layout=True)\n",
    "for name, group in df_cap_thickness_group:\n",
    "    xx, zz = group['ThicknessAlGaNBarrier'],  group['TOT']\n",
    "    axs.plot(xx, zz, 'o-',label=f'{name[0]:.2f}')\n",
    "#axs.set_yscale('log')\n",
    "axs.set_xlabel(x_label)\n",
    "axs.set_ylabel(y_label)\n",
    "axs.legend(bbox_to_anchor=(1, 0.5),loc='center left') \n",
    "plt2deg.set_tickers(axs, tick_multiplicator)\n",
    "plt2deg.save_figure(save_file_name_, fig=fig, savefig=savefigure, dpi=75, show_plot=False)"
   ]
  },
  {
   "cell_type": "markdown",
   "id": "50b89298-06d3-4e82-8997-c533327f5d9b",
   "metadata": {},
   "source": [
    "### 2.5.1 FOM plot"
   ]
  },
  {
   "cell_type": "code",
   "execution_count": 32,
   "id": "a704a0c7-2218-4b56-afe3-0e6fd98a345a",
   "metadata": {},
   "outputs": [],
   "source": [
    "x_label = 'Barrier thickness (nm)'\n",
    "y_label = r'LFOM$_\\mathrm{AlGaN}$/LFOM$_\\mathrm{GaN}$'\n",
    "save_file_name_ = 'lfom_Tb_AlNB_AlGaNC.png'\n",
    "tick_multiplicator=[10, 5, 0.05, 0.025]"
   ]
  },
  {
   "cell_type": "code",
   "execution_count": 33,
   "id": "90e5adad-0de0-4611-af53-a1dc3d5ee1c9",
   "metadata": {},
   "outputs": [],
   "source": [
    "# Combined_df_ = Combined_df[Combined_df['AlContentBarrier']>0.99]\n",
    "# df_cap_thickness_group = Combined_df_.groupby(['AlContentChannel']) # Group by thickness\n",
    "\n",
    "fig, axs = plt.subplots(figsize=(9,6),constrained_layout=True)\n",
    "for name, group in df_cap_thickness_group:\n",
    "    xx, zz = group['ThicknessAlGaNBarrier'],  group['LFOMnorm']\n",
    "    axs.plot(xx, zz, 'o-',label=f'{name[0]:.2f}')\n",
    "#axs.set_yscale('log')\n",
    "axs.set_xlabel(x_label)\n",
    "axs.set_ylabel(y_label)\n",
    "axs.legend(bbox_to_anchor=(1, 0.5),loc='center left') \n",
    "plt2deg.set_tickers(axs, tick_multiplicator)\n",
    "plt2deg.save_figure(save_file_name_, fig=fig, savefig=savefigure, dpi=75, show_plot=False)"
   ]
  },
  {
   "cell_type": "code",
   "execution_count": null,
   "id": "54727d7d-5856-4dc6-a15b-8b3b8865c62d",
   "metadata": {},
   "outputs": [],
   "source": []
  }
 ],
 "metadata": {
  "kernelspec": {
   "display_name": "Python 3 (ipykernel)",
   "language": "python",
   "name": "python3"
  },
  "language_info": {
   "codemirror_mode": {
    "name": "ipython",
    "version": 3
   },
   "file_extension": ".py",
   "mimetype": "text/x-python",
   "name": "python",
   "nbconvert_exporter": "python",
   "pygments_lexer": "ipython3",
   "version": "3.12.3"
  }
 },
 "nbformat": 4,
 "nbformat_minor": 5
}
