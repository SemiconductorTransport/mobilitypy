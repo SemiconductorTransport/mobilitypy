{
 "cells": [
  {
   "cell_type": "markdown",
   "id": "7786e513-1800-4a76-9bdf-bbbc50b5eda4",
   "metadata": {},
   "source": [
    "# Project: 2DEG mobility calculation using mobilitypy¶\n",
    "\n",
    "The mobility models are implemented using the following refs:\n",
    "\n",
    "Ref-1: J. Bassaler, J. Mehta, I. Abid, L. Konczewicz, S. Juillaguet, S. Contreras, S. Rennesson, S. Tamariz, M. Nemoz, F. Semond, J. Pernot, F. Medjdoub, Y. Cordier, P. Ferrandis, Al-Rich AlGaN Channel High Electron Mobility Transistors on Silicon: A Relevant Approach for High Temperature Stability of Electron Mobility. Adv. Electron. Mater. 2024, 2400069. https://doi.org/10.1002/aelm.202400069\n",
    "\n",
    "Ref-2: Zhang, J., Hao, Y., Zhang, J. et al. The mobility of two-dimensional electron gas in AlGaN/GaN heterostructures with varied Al content. Sci. China Ser. F-Inf. Sci. 51, 780–789 (2008). https://doi.org/10.1007/s11432-008-0056-7\n",
    "\n",
    "Ref-3: "
   ]
  },
  {
   "cell_type": "markdown",
   "id": "9e52d7c6-f0a0-47d0-84b8-667d6a1d58a2",
   "metadata": {},
   "source": [
    "# 1. Settings"
   ]
  },
  {
   "cell_type": "markdown",
   "id": "12a36278-e0f1-4a35-93be-7ddbe089be35",
   "metadata": {},
   "source": [
    "## 1.1 Import modules"
   ]
  },
  {
   "cell_type": "code",
   "execution_count": 1,
   "id": "f8068cb9-b57a-4141-a049-2bd20c4285cf",
   "metadata": {},
   "outputs": [],
   "source": [
    "import numpy as np\n",
    "import scipy as sc\n",
    "import matplotlib.pyplot as plt\n",
    "import pandas as pd"
   ]
  },
  {
   "cell_type": "code",
   "execution_count": 2,
   "id": "89f5eeaa-a049-481e-be9b-460d297a585f",
   "metadata": {},
   "outputs": [],
   "source": [
    "%load_ext autoreload\n",
    "%autoreload 2"
   ]
  },
  {
   "cell_type": "code",
   "execution_count": 3,
   "id": "ea470300-8e85-45a2-a94a-c4489518b2de",
   "metadata": {},
   "outputs": [],
   "source": [
    "import sys, os\n",
    "from pathlib import Path\n",
    "mobilitypy_tutorial_path = Path().absolute()\n",
    "sys.path.insert(0, os.path.join(mobilitypy_tutorial_path, '../'))\n",
    "from mobilitypy import AlloyParams, Mobility2DCarrier, Plottings"
   ]
  },
  {
   "cell_type": "code",
   "execution_count": 4,
   "id": "2bddf97e-0bde-4b7e-aeea-827e2bd52b7d",
   "metadata": {},
   "outputs": [],
   "source": [
    "save_figure_dir = os.path.join(mobilitypy_tutorial_path,'../imgs')\n",
    "save_file_name = 'mobilities'\n",
    "savefigure = True\n",
    "fig_dpi = 75"
   ]
  },
  {
   "cell_type": "markdown",
   "id": "87f4fe5c-c009-4d5c-b2b4-81cf3e8a9566",
   "metadata": {},
   "source": [
    "## 1.2 Set physical constants"
   ]
  },
  {
   "cell_type": "code",
   "execution_count": 5,
   "id": "6fc041c7-180f-4a4d-8b36-72108cbc65eb",
   "metadata": {
    "scrolled": true
   },
   "outputs": [],
   "source": [
    "'''\n",
    "n_2d => in nm^-2\n",
    "rms_roughness => nm^-1\n",
    "corr_len => nm^-1\n",
    "n_dis => nm^-2\n",
    "f_dis => unit less\n",
    "'''\n",
    "alloy_disordered_effect=1\n",
    "interface_roughness_effect=1\n",
    "dislocation_effect=1\n",
    "deformation_potential_effect=1 \n",
    "piezoelectric_effect=1\n",
    "acoustic_phonon_effect=1\n",
    "polar_optical_phonon_effect=1\n",
    "total_mobility=1\n",
    "mobility_model='Bassaler'\n",
    "density_2deg = 0.1 # nm^-2\n",
    "irf_rms_roughness = 0.3 # nm\n",
    "irf_corr_length = 3.0 # nm\n",
    "dislocation_density = 1e-4 # nm^-2\n",
    "occup_dislocation = 0.3\n",
    "T=300 #K"
   ]
  },
  {
   "cell_type": "markdown",
   "id": "106bb743-33d3-4657-b6ac-9b65ea856c7d",
   "metadata": {},
   "source": [
    "# 2. Calculate mobilities"
   ]
  },
  {
   "cell_type": "code",
   "execution_count": 6,
   "id": "be88c1aa-5795-4d7a-8959-271bc69e16f9",
   "metadata": {},
   "outputs": [],
   "source": [
    "compositions = np.linspace(0,1,101)\n",
    "mu2deg = Mobility2DCarrier(compositions=compositions, binaries=['AlN', 'GaN'], alloy='AlGaN', system='ternary')"
   ]
  },
  {
   "cell_type": "code",
   "execution_count": 7,
   "id": "ef4a1498-1052-4369-96f7-a71b7a374fe9",
   "metadata": {
    "scrolled": true
   },
   "outputs": [],
   "source": [
    "mobility_df = mu2deg.calculate_sheet_mobility(n_2d=density_2deg, rms_roughness=irf_rms_roughness, \n",
    "                                              corr_len=irf_corr_length, n_dis=dislocation_density, \n",
    "                                              f_dis=occup_dislocation, T=T,\n",
    "                                              alloy_disordered_effect=alloy_disordered_effect,\n",
    "                                              interface_roughness_effect=interface_roughness_effect,\n",
    "                                              dislocation_effect=dislocation_effect,\n",
    "                                              deformation_potential_effect=deformation_potential_effect,\n",
    "                                              piezoelectric_effect=piezoelectric_effect,\n",
    "                                              acoustic_phonon_effect=acoustic_phonon_effect,\n",
    "                                              polar_optical_phonon_effect=polar_optical_phonon_effect,\n",
    "                                              total_mobility=total_mobility,\n",
    "                                              mobility_model=mobility_model)"
   ]
  },
  {
   "cell_type": "code",
   "execution_count": 8,
   "id": "c4139416-6a71-457b-b765-0923ba252a04",
   "metadata": {},
   "outputs": [
    {
     "data": {
      "text/html": [
       "<div>\n",
       "<style scoped>\n",
       "    .dataframe tbody tr th:only-of-type {\n",
       "        vertical-align: middle;\n",
       "    }\n",
       "\n",
       "    .dataframe tbody tr th {\n",
       "        vertical-align: top;\n",
       "    }\n",
       "\n",
       "    .dataframe thead th {\n",
       "        text-align: right;\n",
       "    }\n",
       "</style>\n",
       "<table border=\"1\" class=\"dataframe\">\n",
       "  <thead>\n",
       "    <tr style=\"text-align: right;\">\n",
       "      <th></th>\n",
       "      <th>comp</th>\n",
       "      <th>AD</th>\n",
       "      <th>IFR</th>\n",
       "      <th>DIS</th>\n",
       "      <th>POP</th>\n",
       "      <th>AP</th>\n",
       "      <th>DP</th>\n",
       "      <th>PE</th>\n",
       "      <th>TOT</th>\n",
       "    </tr>\n",
       "  </thead>\n",
       "  <tbody>\n",
       "    <tr>\n",
       "      <th>0</th>\n",
       "      <td>0.000</td>\n",
       "      <td>NaN</td>\n",
       "      <td>29521.190222</td>\n",
       "      <td>52086.338699</td>\n",
       "      <td>2098.639802</td>\n",
       "      <td>6837.793042</td>\n",
       "      <td>9963.126580</td>\n",
       "      <td>21797.928689</td>\n",
       "      <td>1479.688333</td>\n",
       "    </tr>\n",
       "    <tr>\n",
       "      <th>1</th>\n",
       "      <td>0.010</td>\n",
       "      <td>18850.521227</td>\n",
       "      <td>29292.522316</td>\n",
       "      <td>51812.142657</td>\n",
       "      <td>2084.447468</td>\n",
       "      <td>6728.944787</td>\n",
       "      <td>9847.621505</td>\n",
       "      <td>21247.505719</td>\n",
       "      <td>1360.834930</td>\n",
       "    </tr>\n",
       "    <tr>\n",
       "      <th>2</th>\n",
       "      <td>0.020</td>\n",
       "      <td>8990.041088</td>\n",
       "      <td>29067.232583</td>\n",
       "      <td>51540.939329</td>\n",
       "      <td>2070.432139</td>\n",
       "      <td>6622.200800</td>\n",
       "      <td>9733.699566</td>\n",
       "      <td>20716.226458</td>\n",
       "      <td>1251.505865</td>\n",
       "    </tr>\n",
       "    <tr>\n",
       "      <th>3</th>\n",
       "      <td>0.030</td>\n",
       "      <td>5726.796516</td>\n",
       "      <td>28845.251985</td>\n",
       "      <td>51272.679348</td>\n",
       "      <td>2056.590558</td>\n",
       "      <td>6517.512743</td>\n",
       "      <td>9621.329262</td>\n",
       "      <td>20203.235495</td>\n",
       "      <td>1151.458962</td>\n",
       "    </tr>\n",
       "    <tr>\n",
       "      <th>4</th>\n",
       "      <td>0.040</td>\n",
       "      <td>4111.046923</td>\n",
       "      <td>28626.513277</td>\n",
       "      <td>51007.314418</td>\n",
       "      <td>2042.919542</td>\n",
       "      <td>6414.833542</td>\n",
       "      <td>9510.479896</td>\n",
       "      <td>19707.724481</td>\n",
       "      <td>1060.255427</td>\n",
       "    </tr>\n",
       "    <tr>\n",
       "      <th>...</th>\n",
       "      <td>...</td>\n",
       "      <td>...</td>\n",
       "      <td>...</td>\n",
       "      <td>...</td>\n",
       "      <td>...</td>\n",
       "      <td>...</td>\n",
       "      <td>...</td>\n",
       "      <td>...</td>\n",
       "      <td>...</td>\n",
       "    </tr>\n",
       "    <tr>\n",
       "      <th>96</th>\n",
       "      <td>0.960</td>\n",
       "      <td>614.753586</td>\n",
       "      <td>16864.012614</td>\n",
       "      <td>34735.829977</td>\n",
       "      <td>1244.544507</td>\n",
       "      <td>1766.446133</td>\n",
       "      <td>3283.933076</td>\n",
       "      <td>3822.695744</td>\n",
       "      <td>324.215335</td>\n",
       "    </tr>\n",
       "    <tr>\n",
       "      <th>97</th>\n",
       "      <td>0.970</td>\n",
       "      <td>811.137366</td>\n",
       "      <td>16790.590013</td>\n",
       "      <td>34617.203351</td>\n",
       "      <td>1238.999471</td>\n",
       "      <td>1743.685151</td>\n",
       "      <td>3242.459121</td>\n",
       "      <td>3772.301849</td>\n",
       "      <td>370.112358</td>\n",
       "    </tr>\n",
       "    <tr>\n",
       "      <th>98</th>\n",
       "      <td>0.980</td>\n",
       "      <td>1204.661497</td>\n",
       "      <td>16717.862515</td>\n",
       "      <td>34499.401594</td>\n",
       "      <td>1233.496525</td>\n",
       "      <td>1721.216892</td>\n",
       "      <td>3201.324328</td>\n",
       "      <td>3722.819965</td>\n",
       "      <td>432.788241</td>\n",
       "    </tr>\n",
       "    <tr>\n",
       "      <th>99</th>\n",
       "      <td>0.990</td>\n",
       "      <td>2386.712137</td>\n",
       "      <td>16645.820966</td>\n",
       "      <td>34382.415735</td>\n",
       "      <td>1228.035157</td>\n",
       "      <td>1699.035788</td>\n",
       "      <td>3160.524296</td>\n",
       "      <td>3674.229295</td>\n",
       "      <td>523.279595</td>\n",
       "    </tr>\n",
       "    <tr>\n",
       "      <th>100</th>\n",
       "      <td>1.000</td>\n",
       "      <td>NaN</td>\n",
       "      <td>16574.456364</td>\n",
       "      <td>34266.236929</td>\n",
       "      <td>1222.614867</td>\n",
       "      <td>1677.136366</td>\n",
       "      <td>3120.054694</td>\n",
       "      <td>3626.509617</td>\n",
       "      <td>665.030451</td>\n",
       "    </tr>\n",
       "  </tbody>\n",
       "</table>\n",
       "<p>101 rows × 9 columns</p>\n",
       "</div>"
      ],
      "text/plain": [
       "      comp            AD           IFR           DIS          POP  \\\n",
       "0    0.000           NaN  29521.190222  52086.338699  2098.639802   \n",
       "1    0.010  18850.521227  29292.522316  51812.142657  2084.447468   \n",
       "2    0.020   8990.041088  29067.232583  51540.939329  2070.432139   \n",
       "3    0.030   5726.796516  28845.251985  51272.679348  2056.590558   \n",
       "4    0.040   4111.046923  28626.513277  51007.314418  2042.919542   \n",
       "..     ...           ...           ...           ...          ...   \n",
       "96   0.960    614.753586  16864.012614  34735.829977  1244.544507   \n",
       "97   0.970    811.137366  16790.590013  34617.203351  1238.999471   \n",
       "98   0.980   1204.661497  16717.862515  34499.401594  1233.496525   \n",
       "99   0.990   2386.712137  16645.820966  34382.415735  1228.035157   \n",
       "100  1.000           NaN  16574.456364  34266.236929  1222.614867   \n",
       "\n",
       "              AP           DP            PE          TOT  \n",
       "0    6837.793042  9963.126580  21797.928689  1479.688333  \n",
       "1    6728.944787  9847.621505  21247.505719  1360.834930  \n",
       "2    6622.200800  9733.699566  20716.226458  1251.505865  \n",
       "3    6517.512743  9621.329262  20203.235495  1151.458962  \n",
       "4    6414.833542  9510.479896  19707.724481  1060.255427  \n",
       "..           ...          ...           ...          ...  \n",
       "96   1766.446133  3283.933076   3822.695744   324.215335  \n",
       "97   1743.685151  3242.459121   3772.301849   370.112358  \n",
       "98   1721.216892  3201.324328   3722.819965   432.788241  \n",
       "99   1699.035788  3160.524296   3674.229295   523.279595  \n",
       "100  1677.136366  3120.054694   3626.509617   665.030451  \n",
       "\n",
       "[101 rows x 9 columns]"
      ]
     },
     "execution_count": 8,
     "metadata": {},
     "output_type": "execute_result"
    }
   ],
   "source": [
    "mobility_df"
   ]
  },
  {
   "cell_type": "code",
   "execution_count": 9,
   "id": "b79de5b8-5223-4875-a48d-9e0e3ba40383",
   "metadata": {},
   "outputs": [],
   "source": [
    "composition_axis = np.array(mobility_df['comp'], dtype=float)\n",
    "mu_total = np.array(mobility_df['TOT'], dtype=float)"
   ]
  },
  {
   "cell_type": "code",
   "execution_count": 10,
   "id": "98cc6134-90d5-4d90-a6fc-264d0de90f6e",
   "metadata": {},
   "outputs": [],
   "source": [
    "# Unit of sheet resitance: ohm per square\n",
    "sheet_resistance = mu2deg.calculate_sheet_resitance(density_2deg, mu_total)\n",
    "data_sheet_resitance_2_plot = np.column_stack((composition_axis, sheet_resistance))"
   ]
  },
  {
   "cell_type": "code",
   "execution_count": 11,
   "id": "7b1346c2-eda7-4396-8eea-62e688399c52",
   "metadata": {},
   "outputs": [],
   "source": [
    "# Unit of lateral_FOM: MW/cm^2\n",
    "lateral_FOM = mu2deg.calculate_figure_of_merit(density_2deg, mu_total)\n",
    "data_FOM_2_plot = np.column_stack((composition_axis, lateral_FOM))# LFOM: MW/cm^2"
   ]
  },
  {
   "cell_type": "markdown",
   "id": "6aa63119-9caf-4b9a-8356-9893f1c84d2c",
   "metadata": {},
   "source": [
    "# 3. Plot mobilities"
   ]
  },
  {
   "cell_type": "code",
   "execution_count": 12,
   "id": "3750f595-dc61-4ac0-883e-aa8c920b45c3",
   "metadata": {},
   "outputs": [],
   "source": [
    "plt2deg = Plottings(save_figure_dir=save_figure_dir)\n",
    "x_label = 'Al composition'\n",
    "y_label = r'Electron mobility ($\\mathrm{cm}^2\\mathrm{V}^{-1}\\mathrm{s}^{-1}$)'"
   ]
  },
  {
   "cell_type": "code",
   "execution_count": 13,
   "id": "84d9f51e-cbe9-47b4-8e00-903efffacb44",
   "metadata": {},
   "outputs": [],
   "source": [
    "save_file_name_ = f'{save_file_name}_{T}K.png'\n",
    "fig, ax,_ = plt2deg.plot_2d_carrier_mobilities(mobility_df, save_file_name=save_file_name_,\n",
    "                                               ymin=None, ymax=None, xmax=1, xmin=0, y_scale_log=True, \n",
    "                                               annotate_pos=(11,11), show_right_ticks=True,\n",
    "                                               mode='2d_carrier_mobility', yaxis_label=y_label, \n",
    "                                               xaxis_label=x_label, color=None, color_map='viridis', \n",
    "                                               savefig=savefigure, dpi=fig_dpi, show_plot=True)"
   ]
  },
  {
   "cell_type": "code",
   "execution_count": 14,
   "id": "4ae4bde8-f37a-4d8d-87e6-db1234699d8e",
   "metadata": {},
   "outputs": [
    {
     "data": {
      "text/plain": [
       "<matplotlib.lines.Line2D at 0x7f97c28d2c00>"
      ]
     },
     "execution_count": 14,
     "metadata": {},
     "output_type": "execute_result"
    }
   ],
   "source": [
    "save_file_name_ = f'LFOM_{T}K.png'\n",
    "fig, ax, _ = plt2deg.plot_2d(data_FOM_2_plot, save_file_name=save_file_name_,\n",
    "                             ymin=None, ymax=None, xmax=1.0, xmin=0, y_scale_log=True,\n",
    "                             yaxis_label=r'LFOM (MW/cm$^2$)', xaxis_label=x_label,\n",
    "                             color='k', color_map='viridis', savefig=savefigure, \n",
    "                             dpi=fig_dpi, show_plot=False)\n",
    "ax.axhline(y=data_FOM_2_plot[0,1], c='k', ls='--')\n",
    "#plt.show()"
   ]
  },
  {
   "cell_type": "code",
   "execution_count": 15,
   "id": "99456cc0-d226-43d9-ad6c-9c2a3bcb7e29",
   "metadata": {},
   "outputs": [],
   "source": [
    "save_file_name_ = f'LFOM_norm_{T}K.png'\n",
    "YY = data_FOM_2_plot.copy()\n",
    "YY[:, 1] /= YY[0, 1]\n",
    "fig, ax, _ = plt2deg.plot_2d(YY, save_file_name=save_file_name_,\n",
    "                             ymin=None, ymax=None, xmax=1, xmin=0, y_scale_log=True,\n",
    "                             yaxis_label=r'LFOM$_\\mathrm{AlGaN}$ / LFOM$_\\mathrm{GaN}$', \n",
    "                             xaxis_label=x_label, color='k', color_map='viridis', \n",
    "                             savefig=0, show_plot=False)\n",
    "ax.axhline(y=1, c='k', ls='--')\n",
    "plt2deg.save_figure(save_file_name_,fig=fig, savefig=savefigure, dpi=fig_dpi)"
   ]
  },
  {
   "cell_type": "code",
   "execution_count": 16,
   "id": "85ed27df-408e-48d0-bcdb-e46b1185e0fa",
   "metadata": {},
   "outputs": [],
   "source": [
    "save_file_name_ = f'sheet_resistamce_{T}K.png'\n",
    "#data_sheet_resitance_2_plot[:, 1] /= data_sheet_resitance_2_plot[0, 1]\n",
    "fig, ax, _ = plt2deg.plot_2d(data_sheet_resitance_2_plot, save_file_name=save_file_name_,\n",
    "                             ymin=None, ymax=None, xmax=1, xmin=0, y_scale_log=True,\n",
    "                             yaxis_label=r'Sheet resistance ($\\Omega /\\boxdot$)', \n",
    "                             xaxis_label=x_label, color='k', color_map='viridis', \n",
    "                             savefig=0, show_plot=False)\n",
    "#ax.axhline(y=data_FOM_2_plot[0,1], c='k', ls='--')\n",
    "plt2deg.save_figure(save_file_name_,fig=fig, savefig=savefigure, dpi=fig_dpi)"
   ]
  }
 ],
 "metadata": {
  "kernelspec": {
   "display_name": "Python 3 (ipykernel)",
   "language": "python",
   "name": "python3"
  },
  "language_info": {
   "codemirror_mode": {
    "name": "ipython",
    "version": 3
   },
   "file_extension": ".py",
   "mimetype": "text/x-python",
   "name": "python",
   "nbconvert_exporter": "python",
   "pygments_lexer": "ipython3",
   "version": "3.12.3"
  }
 },
 "nbformat": 4,
 "nbformat_minor": 5
}
