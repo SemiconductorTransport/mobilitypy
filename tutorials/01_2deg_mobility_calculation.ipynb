{
 "cells": [
  {
   "cell_type": "markdown",
   "id": "7786e513-1800-4a76-9bdf-bbbc50b5eda4",
   "metadata": {},
   "source": [
    "# Project: 2DEG mobility calculation using mobilitypy¶\n",
    "\n",
    "The mobility models are implemented using the following refs:\n",
    "\n",
    "Ref-1: J. Bassaler, J. Mehta, I. Abid, L. Konczewicz, S. Juillaguet, S. Contreras, S. Rennesson, S. Tamariz, M. Nemoz, F. Semond, J. Pernot, F. Medjdoub, Y. Cordier, P. Ferrandis, Al-Rich AlGaN Channel High Electron Mobility Transistors on Silicon: A Relevant Approach for High Temperature Stability of Electron Mobility. Adv. Electron. Mater. 2024, 2400069. https://doi.org/10.1002/aelm.202400069\n",
    "\n",
    "Ref-2: Zhang, J., Hao, Y., Zhang, J. et al. The mobility of two-dimensional electron gas in AlGaN/GaN heterostructures with varied Al content. Sci. China Ser. F-Inf. Sci. 51, 780–789 (2008). https://doi.org/10.1007/s11432-008-0056-7\n",
    "\n",
    "Ref-3: "
   ]
  },
  {
   "cell_type": "markdown",
   "id": "9e52d7c6-f0a0-47d0-84b8-667d6a1d58a2",
   "metadata": {},
   "source": [
    "# 1. Settings"
   ]
  },
  {
   "cell_type": "markdown",
   "id": "12a36278-e0f1-4a35-93be-7ddbe089be35",
   "metadata": {},
   "source": [
    "## 1.1 Import modules"
   ]
  },
  {
   "cell_type": "code",
   "execution_count": null,
   "id": "f8068cb9-b57a-4141-a049-2bd20c4285cf",
   "metadata": {},
   "outputs": [],
   "source": [
    "import numpy as np\n",
    "import scipy as sc\n",
    "import matplotlib.pyplot as plt\n",
    "import pandas as pd"
   ]
  },
  {
   "cell_type": "code",
   "execution_count": null,
   "id": "89f5eeaa-a049-481e-be9b-460d297a585f",
   "metadata": {},
   "outputs": [],
   "source": [
    "%load_ext autoreload\n",
    "%autoreload 2"
   ]
  },
  {
   "cell_type": "code",
   "execution_count": null,
   "id": "ea470300-8e85-45a2-a94a-c4489518b2de",
   "metadata": {},
   "outputs": [],
   "source": [
    "import sys, os\n",
    "from pathlib import Path\n",
    "mobilitypy_tutorial_path = Path().absolute()\n",
    "sys.path.insert(0, os.path.join(mobilitypy_tutorial_path, '../'))\n",
    "from mobilitypy import AlloyParams, Mobility2DCarrier, Plottings"
   ]
  },
  {
   "cell_type": "code",
   "execution_count": null,
   "id": "2bddf97e-0bde-4b7e-aeea-827e2bd52b7d",
   "metadata": {},
   "outputs": [],
   "source": [
    "save_figure_dir = os.path.join(mobilitypy_tutorial_path,'../imgs')\n",
    "save_file_name = 'mobilities'\n",
    "savefigure = True\n",
    "fig_dpi = 75"
   ]
  },
  {
   "cell_type": "markdown",
   "id": "87f4fe5c-c009-4d5c-b2b4-81cf3e8a9566",
   "metadata": {},
   "source": [
    "## 1.2 Set physical constants"
   ]
  },
  {
   "cell_type": "code",
   "execution_count": null,
   "id": "6fc041c7-180f-4a4d-8b36-72108cbc65eb",
   "metadata": {
    "scrolled": true
   },
   "outputs": [],
   "source": [
    "'''\n",
    "n_2d => in nm^-2\n",
    "rms_roughness => nm^-1\n",
    "corr_len => nm^-1\n",
    "n_dis => nm^-2\n",
    "f_dis => unit less\n",
    "'''\n",
    "alloy_disordered_effect=1\n",
    "interface_roughness_effect=1\n",
    "dislocation_effect=1\n",
    "deformation_potential_effect=1 \n",
    "piezoelectric_effect=1\n",
    "acoustic_phonon_effect=1\n",
    "polar_optical_phonon_effect=1\n",
    "total_mobility=1\n",
    "mobility_model='Bassaler'\n",
    "density_2deg = 0.1 # nm^-2\n",
    "irf_rms_roughness = 0.3 # nm\n",
    "irf_corr_length = 3.0 # nm\n",
    "dislocation_density = 1e-4 # nm^-2\n",
    "occup_dislocation = 0.3\n",
    "T=300 #K"
   ]
  },
  {
   "cell_type": "markdown",
   "id": "106bb743-33d3-4657-b6ac-9b65ea856c7d",
   "metadata": {},
   "source": [
    "# 2. Calculate mobilities"
   ]
  },
  {
   "cell_type": "code",
   "execution_count": null,
   "id": "be88c1aa-5795-4d7a-8959-271bc69e16f9",
   "metadata": {},
   "outputs": [],
   "source": [
    "compositions = np.linspace(0,1,101)\n",
    "mu2deg = Mobility2DCarrier(compositions=compositions, binaries=['AlN', 'GaN'], alloy='AlGaN', system='ternary')"
   ]
  },
  {
   "cell_type": "code",
   "execution_count": null,
   "id": "ef4a1498-1052-4369-96f7-a71b7a374fe9",
   "metadata": {
    "scrolled": true
   },
   "outputs": [],
   "source": [
    "mobility_df = mu2deg.calculate_sheet_mobility(n_2d=density_2deg, rms_roughness=irf_rms_roughness, \n",
    "                                              corr_len=irf_corr_length, n_dis=dislocation_density, \n",
    "                                              f_dis=occup_dislocation, T=T,\n",
    "                                              alloy_disordered_effect=alloy_disordered_effect,\n",
    "                                              interface_roughness_effect=interface_roughness_effect,\n",
    "                                              dislocation_effect=dislocation_effect,\n",
    "                                              deformation_potential_effect=deformation_potential_effect,\n",
    "                                              piezoelectric_effect=piezoelectric_effect,\n",
    "                                              acoustic_phonon_effect=acoustic_phonon_effect,\n",
    "                                              polar_optical_phonon_effect=polar_optical_phonon_effect,\n",
    "                                              total_mobility=total_mobility,\n",
    "                                              mobility_model=mobility_model)"
   ]
  },
  {
   "cell_type": "code",
   "execution_count": null,
   "id": "c4139416-6a71-457b-b765-0923ba252a04",
   "metadata": {},
   "outputs": [],
   "source": [
    "mobility_df"
   ]
  },
  {
   "cell_type": "code",
   "execution_count": null,
   "id": "b79de5b8-5223-4875-a48d-9e0e3ba40383",
   "metadata": {},
   "outputs": [],
   "source": [
    "composition_axis = np.array(mobility_df['comp'], dtype=float)\n",
    "mu_total = np.array(mobility_df['TOT'], dtype=float)"
   ]
  },
  {
   "cell_type": "code",
   "execution_count": null,
   "id": "98cc6134-90d5-4d90-a6fc-264d0de90f6e",
   "metadata": {},
   "outputs": [],
   "source": [
    "# Unit of sheet resitance: ohm per square\n",
    "sheet_resistance = mu2deg.calculate_sheet_resitance(density_2deg, mu_total)\n",
    "data_sheet_resitance_2_plot = np.column_stack((composition_axis, sheet_resistance))"
   ]
  },
  {
   "cell_type": "code",
   "execution_count": null,
   "id": "7b1346c2-eda7-4396-8eea-62e688399c52",
   "metadata": {},
   "outputs": [],
   "source": [
    "# Unit of lateral_FOM: MW/cm^2\n",
    "lateral_FOM = mu2deg.calculate_figure_of_merit(density_2deg, mu_total)\n",
    "data_FOM_2_plot = np.column_stack((composition_axis, lateral_FOM))# LFOM: MW/cm^2"
   ]
  },
  {
   "cell_type": "markdown",
   "id": "6aa63119-9caf-4b9a-8356-9893f1c84d2c",
   "metadata": {},
   "source": [
    "# 3. Plot mobilities"
   ]
  },
  {
   "cell_type": "code",
   "execution_count": null,
   "id": "3750f595-dc61-4ac0-883e-aa8c920b45c3",
   "metadata": {},
   "outputs": [],
   "source": [
    "plt2deg = Plottings(save_figure_dir=save_figure_dir)\n",
    "x_label = 'Al composition'\n",
    "y_label = r'Electron mobility ($\\mathrm{cm}^2\\mathrm{V}^{-1}\\mathrm{s}^{-1}$)'"
   ]
  },
  {
   "cell_type": "code",
   "execution_count": null,
   "id": "84d9f51e-cbe9-47b4-8e00-903efffacb44",
   "metadata": {},
   "outputs": [],
   "source": [
    "save_file_name_ = f'{save_file_name}_{T}K.png'\n",
    "fig, ax,_ = plt2deg.plot_2d_carrier_mobilities(mobility_df, save_file_name=save_file_name_,\n",
    "                                               ymin=None, ymax=None, xmax=1, xmin=0, y_scale_log=True, \n",
    "                                               annotate_pos=(11,11), show_right_ticks=True,\n",
    "                                               mode='2d_carrier_mobility', yaxis_label=y_label, \n",
    "                                               xaxis_label=x_label, color=None, color_map='viridis', \n",
    "                                               savefig=savefigure, dpi=fig_dpi, show_plot=True)"
   ]
  },
  {
   "cell_type": "code",
   "execution_count": null,
   "id": "4ae4bde8-f37a-4d8d-87e6-db1234699d8e",
   "metadata": {},
   "outputs": [],
   "source": [
    "save_file_name_ = f'LFOM_{T}K.png'\n",
    "fig, ax, _ = plt2deg.plot_2d(data_FOM_2_plot, save_file_name=save_file_name_,\n",
    "                             ymin=None, ymax=None, xmax=1.0, xmin=0, y_scale_log=True,\n",
    "                             yaxis_label=r'LFOM (MW/cm$^2$)', xaxis_label=x_label,\n",
    "                             color='k', color_map='viridis', savefig=savefigure, \n",
    "                             dpi=fig_dpi, show_plot=False)\n",
    "ax.axhline(y=data_FOM_2_plot[0,1], c='k', ls='--')\n",
    "#plt.show()"
   ]
  },
  {
   "cell_type": "code",
   "execution_count": null,
   "id": "99456cc0-d226-43d9-ad6c-9c2a3bcb7e29",
   "metadata": {},
   "outputs": [],
   "source": [
    "save_file_name_ = f'LFOM_norm_{T}K.png'\n",
    "YY = data_FOM_2_plot.copy()\n",
    "YY[:, 1] /= YY[0, 1]\n",
    "fig, ax, _ = plt2deg.plot_2d(YY, save_file_name=save_file_name_,\n",
    "                             ymin=None, ymax=None, xmax=1, xmin=0, y_scale_log=True,\n",
    "                             yaxis_label=r'LFOM$_\\mathrm{AlGaN}$ / LFOM$_\\mathrm{GaN}$', \n",
    "                             xaxis_label=x_label, color='k', color_map='viridis', \n",
    "                             savefig=0, show_plot=False)\n",
    "ax.axhline(y=1, c='k', ls='--')\n",
    "plt2deg.save_figure(save_file_name_,fig=fig, savefig=savefigure, dpi=fig_dpi)"
   ]
  },
  {
   "cell_type": "code",
   "execution_count": null,
   "id": "85ed27df-408e-48d0-bcdb-e46b1185e0fa",
   "metadata": {},
   "outputs": [],
   "source": [
    "save_file_name_ = f'sheet_resistamce_{T}K.png'\n",
    "#data_sheet_resitance_2_plot[:, 1] /= data_sheet_resitance_2_plot[0, 1]\n",
    "fig, ax, _ = plt2deg.plot_2d(data_sheet_resitance_2_plot, save_file_name=save_file_name_,\n",
    "                             ymin=None, ymax=None, xmax=1, xmin=0, y_scale_log=True,\n",
    "                             yaxis_label=r'Sheet resistance ($\\Omega /\\boxdot$)', \n",
    "                             xaxis_label=x_label, color='k', color_map='viridis', \n",
    "                             savefig=0, show_plot=False)\n",
    "#ax.axhline(y=data_FOM_2_plot[0,1], c='k', ls='--')\n",
    "plt2deg.save_figure(save_file_name_,fig=fig, savefig=savefigure, dpi=fig_dpi)"
   ]
  }
 ],
 "metadata": {
  "kernelspec": {
   "display_name": "Python 3 (ipykernel)",
   "language": "python",
   "name": "python3"
  },
  "language_info": {
   "codemirror_mode": {
    "name": "ipython",
    "version": 3
   },
   "file_extension": ".py",
   "mimetype": "text/x-python",
   "name": "python",
   "nbconvert_exporter": "python",
   "pygments_lexer": "ipython3",
   "version": "3.12.3"
  }
 },
 "nbformat": 4,
 "nbformat_minor": 5
}
