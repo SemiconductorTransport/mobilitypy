{
 "cells": [
  {
   "cell_type": "markdown",
   "id": "7786e513-1800-4a76-9bdf-bbbc50b5eda4",
   "metadata": {},
   "source": [
    "# Project: 2DEG mobility calculation using mobilitypy¶\n",
    "\n",
    "The mobility models are implemented using the following refs:\n",
    "\n",
    "Ref-1: J. Bassaler, J. Mehta, I. Abid, L. Konczewicz, S. Juillaguet, S. Contreras, S. Rennesson, S. Tamariz, M. Nemoz, F. Semond, J. Pernot, F. Medjdoub, Y. Cordier, P. Ferrandis, Al-Rich AlGaN Channel High Electron Mobility Transistors on Silicon: A Relevant Approach for High Temperature Stability of Electron Mobility. Adv. Electron. Mater. 2024, 2400069. https://doi.org/10.1002/aelm.202400069\n",
    "\n",
    "Ref-2: Zhang, J., Hao, Y., Zhang, J. et al. The mobility of two-dimensional electron gas in AlGaN/GaN heterostructures with varied Al content. Sci. China Ser. F-Inf. Sci. 51, 780–789 (2008). https://doi.org/10.1007/s11432-008-0056-7\n",
    "\n",
    "Ref-3: "
   ]
  },
  {
   "cell_type": "markdown",
   "id": "9e52d7c6-f0a0-47d0-84b8-667d6a1d58a2",
   "metadata": {},
   "source": [
    "# 1. Settings"
   ]
  },
  {
   "cell_type": "markdown",
   "id": "12a36278-e0f1-4a35-93be-7ddbe089be35",
   "metadata": {},
   "source": [
    "## 1.1 Import modules"
   ]
  },
  {
   "cell_type": "code",
   "execution_count": 1,
   "id": "f8068cb9-b57a-4141-a049-2bd20c4285cf",
   "metadata": {},
   "outputs": [],
   "source": [
    "import numpy as np\n",
    "import scipy as sc\n",
    "import matplotlib.pyplot as plt\n",
    "import pandas as pd"
   ]
  },
  {
   "cell_type": "code",
   "execution_count": 2,
   "id": "89f5eeaa-a049-481e-be9b-460d297a585f",
   "metadata": {},
   "outputs": [],
   "source": [
    "%load_ext autoreload\n",
    "%autoreload 2"
   ]
  },
  {
   "cell_type": "code",
   "execution_count": 3,
   "id": "ea470300-8e85-45a2-a94a-c4489518b2de",
   "metadata": {},
   "outputs": [],
   "source": [
    "import sys, os\n",
    "from pathlib import Path\n",
    "mobilitypy_tutorial_path = Path().absolute()\n",
    "sys.path.insert(0, os.path.join(mobilitypy_tutorial_path, '../'))\n",
    "from mobilitypy import AlloyParams, Mobility2DCarrier, Plottings"
   ]
  },
  {
   "cell_type": "code",
   "execution_count": 4,
   "id": "2bddf97e-0bde-4b7e-aeea-827e2bd52b7d",
   "metadata": {},
   "outputs": [],
   "source": [
    "save_figure_dir = os.path.join(mobilitypy_tutorial_path,'../imgs')\n",
    "save_file_name = 'mobilities'\n",
    "savefigure = True\n",
    "fig_dpi = 75"
   ]
  },
  {
   "cell_type": "markdown",
   "id": "87f4fe5c-c009-4d5c-b2b4-81cf3e8a9566",
   "metadata": {},
   "source": [
    "## 1.2 Set physical constants"
   ]
  },
  {
   "cell_type": "code",
   "execution_count": 5,
   "id": "6fc041c7-180f-4a4d-8b36-72108cbc65eb",
   "metadata": {
    "scrolled": true
   },
   "outputs": [],
   "source": [
    "'''\n",
    "n_2d => in nm^-2\n",
    "rms_roughness => nm^-1\n",
    "corr_len => nm^-1\n",
    "n_dis => nm^-2\n",
    "f_dis => unit less\n",
    "'''\n",
    "alloy_disordered_effect=1\n",
    "interface_roughness_effect=1\n",
    "dislocation_effect=1\n",
    "deformation_potential_effect=1 \n",
    "piezoelectric_effect=1\n",
    "acoustic_phonon_effect=1\n",
    "polar_optical_phonon_effect=1\n",
    "total_mobility=1\n",
    "mobility_model='Bassaler'\n",
    "density_2deg = 0.1 # nm^-2\n",
    "irf_rms_roughness = 0.3 # nm\n",
    "irf_corr_length = 3.0 # nm\n",
    "dislocation_density = 1e-4 # nm^-2\n",
    "occup_dislocation = 0.3\n",
    "T=300 #K"
   ]
  },
  {
   "cell_type": "markdown",
   "id": "106bb743-33d3-4657-b6ac-9b65ea856c7d",
   "metadata": {},
   "source": [
    "# 2. Calculate mobilities"
   ]
  },
  {
   "cell_type": "code",
   "execution_count": 6,
   "id": "be88c1aa-5795-4d7a-8959-271bc69e16f9",
   "metadata": {},
   "outputs": [],
   "source": [
    "compositions = np.linspace(0,1,101)\n",
    "mu2deg = Mobility2DCarrier(compositions=compositions, binaries=['AlN', 'GaN'], alloy='AlGaN', system='ternary')"
   ]
  },
  {
   "cell_type": "code",
   "execution_count": 7,
   "id": "ef4a1498-1052-4369-96f7-a71b7a374fe9",
   "metadata": {
    "scrolled": true
   },
   "outputs": [],
   "source": [
    "mobility_df = mu2deg.calculate_sheet_mobility(n_2d=density_2deg, rms_roughness=irf_rms_roughness, \n",
    "                                              corr_len=irf_corr_length, n_dis=dislocation_density, \n",
    "                                              f_dis=occup_dislocation, T=T,\n",
    "                                              alloy_disordered_effect=alloy_disordered_effect,\n",
    "                                              interface_roughness_effect=interface_roughness_effect,\n",
    "                                              dislocation_effect=dislocation_effect,\n",
    "                                              deformation_potential_effect=deformation_potential_effect,\n",
    "                                              piezoelectric_effect=piezoelectric_effect,\n",
    "                                              acoustic_phonon_effect=acoustic_phonon_effect,\n",
    "                                              polar_optical_phonon_effect=polar_optical_phonon_effect,\n",
    "                                              total_mobility=total_mobility,\n",
    "                                              mobility_model=mobility_model)"
   ]
  },
  {
   "cell_type": "code",
   "execution_count": 8,
   "id": "c4139416-6a71-457b-b765-0923ba252a04",
   "metadata": {},
   "outputs": [
    {
     "data": {
      "text/html": [
       "<div>\n",
       "<style scoped>\n",
       "    .dataframe tbody tr th:only-of-type {\n",
       "        vertical-align: middle;\n",
       "    }\n",
       "\n",
       "    .dataframe tbody tr th {\n",
       "        vertical-align: top;\n",
       "    }\n",
       "\n",
       "    .dataframe thead th {\n",
       "        text-align: right;\n",
       "    }\n",
       "</style>\n",
       "<table border=\"1\" class=\"dataframe\">\n",
       "  <thead>\n",
       "    <tr style=\"text-align: right;\">\n",
       "      <th></th>\n",
       "      <th>comp</th>\n",
       "      <th>IFR</th>\n",
       "      <th>AD</th>\n",
       "      <th>DIS</th>\n",
       "      <th>DP</th>\n",
       "      <th>PE</th>\n",
       "      <th>AP</th>\n",
       "      <th>POP</th>\n",
       "      <th>TOT</th>\n",
       "    </tr>\n",
       "  </thead>\n",
       "  <tbody>\n",
       "    <tr>\n",
       "      <th>0</th>\n",
       "      <td>0.000</td>\n",
       "      <td>27877.662014</td>\n",
       "      <td>NaN</td>\n",
       "      <td>50387.952966</td>\n",
       "      <td>9081.733838</td>\n",
       "      <td>19864.282032</td>\n",
       "      <td>6232.364520</td>\n",
       "      <td>1987.595360</td>\n",
       "      <td>1390.259284</td>\n",
       "    </tr>\n",
       "    <tr>\n",
       "      <th>1</th>\n",
       "      <td>0.010</td>\n",
       "      <td>27683.710698</td>\n",
       "      <td>17031.262347</td>\n",
       "      <td>50145.183770</td>\n",
       "      <td>8986.905363</td>\n",
       "      <td>19385.552960</td>\n",
       "      <td>6140.325518</td>\n",
       "      <td>1975.475576</td>\n",
       "      <td>1275.762412</td>\n",
       "    </tr>\n",
       "    <tr>\n",
       "      <th>2</th>\n",
       "      <td>0.020</td>\n",
       "      <td>27492.351320</td>\n",
       "      <td>8132.195863</td>\n",
       "      <td>49904.809583</td>\n",
       "      <td>8893.175338</td>\n",
       "      <td>18922.899750</td>\n",
       "      <td>6049.906928</td>\n",
       "      <td>1963.491834</td>\n",
       "      <td>1171.003431</td>\n",
       "    </tr>\n",
       "    <tr>\n",
       "      <th>3</th>\n",
       "      <td>0.030</td>\n",
       "      <td>27303.535928</td>\n",
       "      <td>5186.509676</td>\n",
       "      <td>49666.794591</td>\n",
       "      <td>8800.524909</td>\n",
       "      <td>18475.621722</td>\n",
       "      <td>5961.075491</td>\n",
       "      <td>1951.641863</td>\n",
       "      <td>1075.602583</td>\n",
       "    </tr>\n",
       "    <tr>\n",
       "      <th>4</th>\n",
       "      <td>0.040</td>\n",
       "      <td>27117.217699</td>\n",
       "      <td>3727.587558</td>\n",
       "      <td>49431.103686</td>\n",
       "      <td>8708.935640</td>\n",
       "      <td>18043.056110</td>\n",
       "      <td>5873.798702</td>\n",
       "      <td>1939.923441</td>\n",
       "      <td>989.013075</td>\n",
       "    </tr>\n",
       "    <tr>\n",
       "      <th>...</th>\n",
       "      <td>...</td>\n",
       "      <td>...</td>\n",
       "      <td>...</td>\n",
       "      <td>...</td>\n",
       "      <td>...</td>\n",
       "      <td>...</td>\n",
       "      <td>...</td>\n",
       "      <td>...</td>\n",
       "      <td>...</td>\n",
       "    </tr>\n",
       "    <tr>\n",
       "      <th>96</th>\n",
       "      <td>0.960</td>\n",
       "      <td>16674.391963</td>\n",
       "      <td>599.810344</td>\n",
       "      <td>34501.856331</td>\n",
       "      <td>3217.143663</td>\n",
       "      <td>3745.479734</td>\n",
       "      <td>1730.633082</td>\n",
       "      <td>1228.916196</td>\n",
       "      <td>317.692468</td>\n",
       "    </tr>\n",
       "    <tr>\n",
       "      <th>97</th>\n",
       "      <td>0.970</td>\n",
       "      <td>16606.277172</td>\n",
       "      <td>791.847607</td>\n",
       "      <td>34389.498289</td>\n",
       "      <td>3177.999721</td>\n",
       "      <td>3697.827059</td>\n",
       "      <td>1709.131678</td>\n",
       "      <td>1223.782482</td>\n",
       "      <td>363.055844</td>\n",
       "    </tr>\n",
       "    <tr>\n",
       "      <th>98</th>\n",
       "      <td>0.980</td>\n",
       "      <td>16538.766704</td>\n",
       "      <td>1176.643576</td>\n",
       "      <td>34277.870689</td>\n",
       "      <td>3139.138835</td>\n",
       "      <td>3651.009205</td>\n",
       "      <td>1687.890266</td>\n",
       "      <td>1218.684899</td>\n",
       "      <td>425.075257</td>\n",
       "    </tr>\n",
       "    <tr>\n",
       "      <th>99</th>\n",
       "      <td>0.990</td>\n",
       "      <td>16471.853104</td>\n",
       "      <td>2332.442970</td>\n",
       "      <td>34166.966092</td>\n",
       "      <td>3100.557696</td>\n",
       "      <td>3605.007675</td>\n",
       "      <td>1666.904082</td>\n",
       "      <td>1213.623037</td>\n",
       "      <td>514.772341</td>\n",
       "    </tr>\n",
       "    <tr>\n",
       "      <th>100</th>\n",
       "      <td>1.000</td>\n",
       "      <td>16405.529035</td>\n",
       "      <td>NaN</td>\n",
       "      <td>34056.777162</td>\n",
       "      <td>3062.253050</td>\n",
       "      <td>3559.804472</td>\n",
       "      <td>1646.168440</td>\n",
       "      <td>1208.596489</td>\n",
       "      <td>655.653845</td>\n",
       "    </tr>\n",
       "  </tbody>\n",
       "</table>\n",
       "<p>101 rows × 9 columns</p>\n",
       "</div>"
      ],
      "text/plain": [
       "      comp           IFR            AD           DIS           DP  \\\n",
       "0    0.000  27877.662014           NaN  50387.952966  9081.733838   \n",
       "1    0.010  27683.710698  17031.262347  50145.183770  8986.905363   \n",
       "2    0.020  27492.351320   8132.195863  49904.809583  8893.175338   \n",
       "3    0.030  27303.535928   5186.509676  49666.794591  8800.524909   \n",
       "4    0.040  27117.217699   3727.587558  49431.103686  8708.935640   \n",
       "..     ...           ...           ...           ...          ...   \n",
       "96   0.960  16674.391963    599.810344  34501.856331  3217.143663   \n",
       "97   0.970  16606.277172    791.847607  34389.498289  3177.999721   \n",
       "98   0.980  16538.766704   1176.643576  34277.870689  3139.138835   \n",
       "99   0.990  16471.853104   2332.442970  34166.966092  3100.557696   \n",
       "100  1.000  16405.529035           NaN  34056.777162  3062.253050   \n",
       "\n",
       "               PE           AP          POP          TOT  \n",
       "0    19864.282032  6232.364520  1987.595360  1390.259284  \n",
       "1    19385.552960  6140.325518  1975.475576  1275.762412  \n",
       "2    18922.899750  6049.906928  1963.491834  1171.003431  \n",
       "3    18475.621722  5961.075491  1951.641863  1075.602583  \n",
       "4    18043.056110  5873.798702  1939.923441   989.013075  \n",
       "..            ...          ...          ...          ...  \n",
       "96    3745.479734  1730.633082  1228.916196   317.692468  \n",
       "97    3697.827059  1709.131678  1223.782482   363.055844  \n",
       "98    3651.009205  1687.890266  1218.684899   425.075257  \n",
       "99    3605.007675  1666.904082  1213.623037   514.772341  \n",
       "100   3559.804472  1646.168440  1208.596489   655.653845  \n",
       "\n",
       "[101 rows x 9 columns]"
      ]
     },
     "execution_count": 8,
     "metadata": {},
     "output_type": "execute_result"
    }
   ],
   "source": [
    "mobility_df"
   ]
  },
  {
   "cell_type": "code",
   "execution_count": 9,
   "id": "b79de5b8-5223-4875-a48d-9e0e3ba40383",
   "metadata": {},
   "outputs": [],
   "source": [
    "composition_axis = np.array(mobility_df['comp'], dtype=float)\n",
    "mu_total = np.array(mobility_df['TOT'], dtype=float)"
   ]
  },
  {
   "cell_type": "code",
   "execution_count": 10,
   "id": "98cc6134-90d5-4d90-a6fc-264d0de90f6e",
   "metadata": {},
   "outputs": [],
   "source": [
    "# Unit of sheet resitance: ohm per square\n",
    "sheet_resistance = mu2deg.calculate_sheet_resitance(density_2deg, mu_total)\n",
    "data_sheet_resitance_2_plot = np.column_stack((composition_axis, sheet_resistance))"
   ]
  },
  {
   "cell_type": "code",
   "execution_count": 11,
   "id": "7b1346c2-eda7-4396-8eea-62e688399c52",
   "metadata": {},
   "outputs": [],
   "source": [
    "# Unit of lateral_FOM: MW/cm^2\n",
    "lateral_FOM = mu2deg.calculate_figure_of_merit(density_2deg, mu_total)\n",
    "data_FOM_2_plot = np.column_stack((composition_axis, lateral_FOM))# LFOM: MW/cm^2"
   ]
  },
  {
   "cell_type": "markdown",
   "id": "6aa63119-9caf-4b9a-8356-9893f1c84d2c",
   "metadata": {},
   "source": [
    "# 3. Plot mobilities"
   ]
  },
  {
   "cell_type": "code",
   "execution_count": 12,
   "id": "3750f595-dc61-4ac0-883e-aa8c920b45c3",
   "metadata": {},
   "outputs": [],
   "source": [
    "plt2deg = Plottings(save_figure_dir=save_figure_dir)\n",
    "x_label = 'Al composition'\n",
    "y_label = r'Electron mobility ($\\mathrm{cm}^2\\mathrm{V}^{-1}\\mathrm{s}^{-1}$)'"
   ]
  },
  {
   "cell_type": "code",
   "execution_count": 13,
   "id": "84d9f51e-cbe9-47b4-8e00-903efffacb44",
   "metadata": {},
   "outputs": [],
   "source": [
    "save_file_name_ = f'{save_file_name}_{T}K.png'\n",
    "fig, ax,_ = plt2deg.plot_2d_carrier_mobilities(mobility_df, save_file_name=save_file_name_,\n",
    "                                               ymin=None, ymax=None, xmax=1, xmin=0, y_scale_log=True, \n",
    "                                               annotate_pos=(11,11), show_right_ticks=True,\n",
    "                                               mode='2d_carrier_mobility', yaxis_label=y_label, \n",
    "                                               xaxis_label=x_label, color=None, color_map='viridis', \n",
    "                                               savefig=savefigure, dpi=fig_dpi, show_plot=True)"
   ]
  },
  {
   "cell_type": "code",
   "execution_count": 14,
   "id": "4ae4bde8-f37a-4d8d-87e6-db1234699d8e",
   "metadata": {},
   "outputs": [
    {
     "data": {
      "text/plain": [
       "<matplotlib.lines.Line2D at 0x7ff402dde8d0>"
      ]
     },
     "execution_count": 14,
     "metadata": {},
     "output_type": "execute_result"
    }
   ],
   "source": [
    "save_file_name_ = f'LFOM_{T}K.png'\n",
    "fig, ax, _ = plt2deg.plot_2d(data_FOM_2_plot, save_file_name=save_file_name_,\n",
    "                             ymin=None, ymax=None, xmax=1.0, xmin=0, y_scale_log=True,\n",
    "                             yaxis_label=r'LFOM (MW/cm$^2$)', xaxis_label=x_label,\n",
    "                             color='k', color_map='viridis', savefig=savefigure, \n",
    "                             dpi=fig_dpi, show_plot=False)\n",
    "ax.axhline(y=data_FOM_2_plot[0,1], c='k', ls='--')\n",
    "#plt.show()"
   ]
  },
  {
   "cell_type": "code",
   "execution_count": 15,
   "id": "99456cc0-d226-43d9-ad6c-9c2a3bcb7e29",
   "metadata": {},
   "outputs": [],
   "source": [
    "save_file_name_ = f'LFOM_norm_{T}K.png'\n",
    "YY = data_FOM_2_plot.copy()\n",
    "YY[:, 1] /= YY[0, 1]\n",
    "fig, ax, _ = plt2deg.plot_2d(YY, save_file_name=save_file_name_,\n",
    "                             ymin=None, ymax=None, xmax=1, xmin=0, y_scale_log=True,\n",
    "                             yaxis_label=r'LFOM$_\\mathrm{AlGaN}$ / LFOM$_\\mathrm{GaN}$', \n",
    "                             xaxis_label=x_label, color='k', color_map='viridis', \n",
    "                             savefig=0, show_plot=False)\n",
    "ax.axhline(y=1, c='k', ls='--')\n",
    "plt2deg.save_figure(save_file_name_,fig=fig, savefig=savefigure, dpi=fig_dpi)"
   ]
  },
  {
   "cell_type": "code",
   "execution_count": 17,
   "id": "85ed27df-408e-48d0-bcdb-e46b1185e0fa",
   "metadata": {},
   "outputs": [],
   "source": [
    "save_file_name_ = f'sheet_resistamce_{T}K.png'\n",
    "#data_sheet_resitance_2_plot[:, 1] /= data_sheet_resitance_2_plot[0, 1]\n",
    "fig, ax, _ = plt2deg.plot_2d(data_sheet_resitance_2_plot, save_file_name=save_file_name_,\n",
    "                             ymin=None, ymax=None, xmax=1, xmin=0, y_scale_log=True,\n",
    "                             yaxis_label=r'Sheet resistance ($\\Omega /\\boxdot$)', \n",
    "                             xaxis_label=x_label, color='k', color_map='viridis', \n",
    "                             savefig=0, show_plot=False)\n",
    "#ax.axhline(y=data_FOM_2_plot[0,1], c='k', ls='--')\n",
    "plt2deg.save_figure(save_file_name_,fig=fig, savefig=savefigure, dpi=fig_dpi)"
   ]
  }
 ],
 "metadata": {
  "kernelspec": {
   "display_name": "Python 3 (ipykernel)",
   "language": "python",
   "name": "python3"
  },
  "language_info": {
   "codemirror_mode": {
    "name": "ipython",
    "version": 3
   },
   "file_extension": ".py",
   "mimetype": "text/x-python",
   "name": "python",
   "nbconvert_exporter": "python",
   "pygments_lexer": "ipython3",
   "version": "3.12.3"
  }
 },
 "nbformat": 4,
 "nbformat_minor": 5
}
