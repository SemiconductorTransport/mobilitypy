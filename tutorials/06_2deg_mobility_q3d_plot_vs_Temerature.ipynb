{
 "cells": [
  {
   "cell_type": "markdown",
   "id": "7786e513-1800-4a76-9bdf-bbbc50b5eda4",
   "metadata": {},
   "source": [
    "# 2DEG mobility plottings - temperature variation"
   ]
  },
  {
   "cell_type": "markdown",
   "id": "9e52d7c6-f0a0-47d0-84b8-667d6a1d58a2",
   "metadata": {},
   "source": [
    "# 1. Settings"
   ]
  },
  {
   "cell_type": "markdown",
   "id": "12a36278-e0f1-4a35-93be-7ddbe089be35",
   "metadata": {},
   "source": [
    "## 1.1 Import modules"
   ]
  },
  {
   "cell_type": "code",
   "execution_count": 1,
   "id": "f8068cb9-b57a-4141-a049-2bd20c4285cf",
   "metadata": {},
   "outputs": [],
   "source": [
    "import numpy as np\n",
    "import scipy as sc\n",
    "import matplotlib.pyplot as plt\n",
    "import pandas as pd\n",
    "from matplotlib import colors, cm\n",
    "import matplotlib.ticker as ticker"
   ]
  },
  {
   "cell_type": "code",
   "execution_count": 2,
   "id": "89f5eeaa-a049-481e-be9b-460d297a585f",
   "metadata": {},
   "outputs": [],
   "source": [
    "%load_ext autoreload\n",
    "%autoreload 2"
   ]
  },
  {
   "cell_type": "code",
   "execution_count": 3,
   "id": "ea470300-8e85-45a2-a94a-c4489518b2de",
   "metadata": {},
   "outputs": [],
   "source": [
    "import sys, os\n",
    "from pathlib import Path\n",
    "mobilitypy_tutorial_path = Path().absolute()\n",
    "sys.path.insert(0, os.path.join(mobilitypy_tutorial_path, '../'))\n",
    "from mobilitypy import Plottings, PlotQuasi3DFuns"
   ]
  },
  {
   "cell_type": "code",
   "execution_count": 4,
   "id": "2bddf97e-0bde-4b7e-aeea-827e2bd52b7d",
   "metadata": {},
   "outputs": [],
   "source": [
    "save_figure_dir = os.path.join(mobilitypy_tutorial_path,'../../OUTPUTS/FIGS')\n",
    "savefigure = True\n",
    "fig_save_dpi = 75\n",
    "color_map_plot = 'viridis'\n",
    "print_align_space = 20"
   ]
  },
  {
   "cell_type": "code",
   "execution_count": 5,
   "id": "4aba3017-df24-4595-97b7-4adca48a3e0b",
   "metadata": {},
   "outputs": [],
   "source": [
    "folder_2deg_data_parent = '/home/Docs5/badal.mondal/linuxhome/MyFolder/Projects/DeviceSimulation/NextnanoSimulations/DATAs/AlGaN_HEMT/AlGaN_AlGaN_AlN_HEMT/nnp/'\n",
    "folder_2deg_density_file = os.path.join(folder_2deg_data_parent, '2DEHG_density/OneDim', 'sim_post_process_data.xlsx')\n",
    "folder_2deg_mobility_file = os.path.join(folder_2deg_data_parent, '2DEHG_mobility/OneDim', 'sim_post_process_data.xlsx')"
   ]
  },
  {
   "cell_type": "markdown",
   "id": "87f4fe5c-c009-4d5c-b2b4-81cf3e8a9566",
   "metadata": {},
   "source": [
    "## 1.2 Set physical constants"
   ]
  },
  {
   "cell_type": "code",
   "execution_count": 6,
   "id": "6fc041c7-180f-4a4d-8b36-72108cbc65eb",
   "metadata": {
    "scrolled": true
   },
   "outputs": [],
   "source": [
    "# n_2d => in nm^-2\n",
    "# rms_roughness => nm^-1\n",
    "# corr_len => nm^-1\n",
    "# n_dis => nm^-2\n",
    "# f_dis => unit less"
   ]
  },
  {
   "cell_type": "code",
   "execution_count": 7,
   "id": "e99b9b47-808d-4f11-83d6-01c362ab3827",
   "metadata": {},
   "outputs": [],
   "source": [
    "plot_mobilities = ['IFR', 'DIS', 'AD', 'AP', 'POP', 'TOT', 'LFOM', 'LFOMnorm', '2DEG']\n",
    "plots_list_individual = ['TOT', 'LFOM', 'LFOMnorm', '2DEG', 'R']\n",
    "len_plots = len(plot_mobilities)\n",
    "rescale_2deg_fact=1e13\n",
    "\n",
    "x_label_text = 'Al composition barrier'\n",
    "x_p_label_text = 'Al composition channel'\n",
    "y_label_text = 'Barrier thickness (nm)'\n",
    "z_label = {'General': r'$\\mu$ ($\\mathrm{cm}^2\\mathrm{V}^{-1}\\mathrm{s}^{-1}$)', \n",
    "           'TOT': r'$\\mu$ ($\\mathrm{cm}^2\\mathrm{V}^{-1}\\mathrm{s}^{-1}$)',\n",
    "           'LFOM': r'LFOM (MW/cm$^2$)',\n",
    "           'LFOMnorm': r'LFOM$_\\mathrm{AlGaN}$/LFOM$_\\mathrm{highest}$', \n",
    "           'LFOMnorm_2': r'LFOM$_\\mathrm{AlGaN}$/LFOM$_\\mathrm{GaN}$',\n",
    "           '2DEG': r'2DEG ($\\mathrm{10}^{13}\\mathrm{cm}^{-2}$)', \n",
    "           'R': r'Sheet resistance ($\\Omega /\\boxdot$)'}"
   ]
  },
  {
   "cell_type": "code",
   "execution_count": 8,
   "id": "dcaff472-1654-45f2-bdda-359b967220ad",
   "metadata": {},
   "outputs": [],
   "source": [
    "params = {'axes.labelsize': 20,'axes.titlesize': 20,\n",
    "          'xtick.labelsize':20,\n",
    "                  'xtick.major.width':2,\n",
    "                  'xtick.major.size':5,\n",
    "                  'xtick.minor.width':2,\n",
    "                  'xtick.minor.size':3,\n",
    "                  'ytick.labelsize': 20,\n",
    "                  'ytick.major.width':2,\n",
    "                  'ytick.major.size':5,\n",
    "                  'ytick.minor.width':2,\n",
    "                  'ytick.minor.size':3,\n",
    "                  'errorbar.capsize':2}\n",
    "plt.rcParams.update(params)\n",
    "plt.rc('font', size=20)"
   ]
  },
  {
   "cell_type": "markdown",
   "id": "106bb743-33d3-4657-b6ac-9b65ea856c7d",
   "metadata": {},
   "source": [
    "# 2. Read mobilities, FOMs from saved database"
   ]
  },
  {
   "cell_type": "markdown",
   "id": "364e86a2-2dba-4bea-8ed0-845b1bbd5180",
   "metadata": {},
   "source": [
    "2DEG density negligibly depend on Temperature for both GaN- and AlGaN-channel HEMT"
   ]
  },
  {
   "cell_type": "markdown",
   "id": "c4c514e1-f5a4-4a4d-b24d-1aa91e5d8566",
   "metadata": {},
   "source": [
    "## 2.1 Al0.25Ga0.75N(25nm)/GaN(305nm) HEMT LFOM for normalization"
   ]
  },
  {
   "cell_type": "code",
   "execution_count": 9,
   "id": "f82ffd14-c623-498f-b5a7-21a921f59933",
   "metadata": {},
   "outputs": [],
   "source": [
    "mobility_ref_dff = pd.read_excel(folder_2deg_mobility_file, index_col=0, sheet_name='ref_Al25Ga75N_GaN') "
   ]
  },
  {
   "cell_type": "markdown",
   "id": "d103f5e6-dcb6-4fa9-baca-d8c03f51002e",
   "metadata": {},
   "source": [
    "## 2.2 AlGaN/AlGaN mobilities and figure-of-merit"
   ]
  },
  {
   "cell_type": "code",
   "execution_count": 10,
   "id": "0714ac87-a67c-4c50-b015-e51a64092060",
   "metadata": {},
   "outputs": [],
   "source": [
    "mobility_dff = pd.read_excel(folder_2deg_mobility_file, index_col=0, sheet_name='AlGaN_AlGaN') "
   ]
  },
  {
   "cell_type": "code",
   "execution_count": 11,
   "id": "c3efc319-3a47-459d-94be-4824e85e9200",
   "metadata": {},
   "outputs": [],
   "source": [
    "# Highest_LFOM = []\n",
    "# for temperature, Combined_df in Combined_dff.items():\n",
    "#     tmp_best = Combined_df.loc[[Combined_df['LFOM'].idxmax()]]\n",
    "#     tmp_best['T'] = temperature\n",
    "#     Highest_LFOM.append(tmp_best)\n",
    "# highest_LFOM_df = pd.concat(Highest_LFOM)"
   ]
  },
  {
   "cell_type": "markdown",
   "id": "abeea973-4f6f-49d2-bcbe-f0eb5a953ea9",
   "metadata": {},
   "source": [
    "### 2.3.6 Collect AlN/AlGaN mobility and lateral figure-of-merit\n",
    "\n",
    "Note: Highest LFOM is found for AlN in Barrier and barrier thickness of 50 nm always\n",
    "\n",
    "Note: AlN/AlGaN-channel/AlN normalized LFOM are normalized w.r.t Al0.25Ga0.75N(25nm)/GaN(305nm) GaN-channel LFOM at the same temperature"
   ]
  },
  {
   "cell_type": "code",
   "execution_count": 12,
   "id": "20a6848d-ffd9-4547-8875-901cf3f5e43b",
   "metadata": {
    "scrolled": true
   },
   "outputs": [],
   "source": [
    "mobility_df = mobility_dff[(mobility_dff['AlContentBarrier']>0.99) & (mobility_dff['ThicknessAlGaNBarrier']>49)].copy()\n",
    "mobility_df.reset_index(drop=True, inplace=True)\n",
    "mobility_df['2DEG'] =  mobility_df['2DEG_device']/rescale_2deg_fact\n",
    "mobility_df['2DHG'] =  mobility_df['2DHG_device']/rescale_2deg_fact\n",
    "mobility_df['LFOMnorm'] = np.nan"
   ]
  },
  {
   "cell_type": "code",
   "execution_count": 13,
   "id": "1e773f9b-742b-47a8-8cae-84d2bcc0d012",
   "metadata": {
    "scrolled": true
   },
   "outputs": [],
   "source": [
    "for index, row in mobility_df.iterrows():\n",
    "    ref_LFOM = mobility_ref_dff.loc[mobility_ref_dff['T']==row['T'], 'LFOM'].iloc[0]\n",
    "    mobility_df.loc[index,'LFOMnorm'] = row['LFOM']/ref_LFOM"
   ]
  },
  {
   "cell_type": "code",
   "execution_count": 14,
   "id": "0844e9c3-f45e-4b84-a161-a609d4bcecaa",
   "metadata": {
    "scrolled": true
   },
   "outputs": [],
   "source": [
    "df_group_T = mobility_df.groupby(['T'])\n",
    "# for name, group in df_group_T:\n",
    "#     ref_LFOM = mobility_ref_dff.loc[mobility_ref_dff['T']==name[0], 'LFOM'].iloc[0]\n",
    "#     group['LFOMnorm'] = group['LFOM']/ref_LFOM\n",
    "#     #print(name, group)"
   ]
  },
  {
   "cell_type": "code",
   "execution_count": 15,
   "id": "48d6e9c0-ad67-4b64-96fa-a04973c8a8a0",
   "metadata": {},
   "outputs": [],
   "source": [
    "comp_ = np.array(mobility_df['AlContentChannel'], dtype=float)\n",
    "temperature_ = np.array(mobility_df['T'], dtype=float)\n",
    "lfom_ = np.array(mobility_df['LFOM'], dtype=float)\n",
    "lfom_norm_ = np.array(mobility_df['LFOMnorm'], dtype=float)\n",
    "tot_mu = np.array(mobility_df['TOT'], dtype=float)\n",
    "tot_mu_cp = tot_mu.copy()\n",
    "tot_mu_cp[tot_mu_cp <10] = np.nan # put to nan below 10 cm^2V^-1s^-1 mobilities"
   ]
  },
  {
   "cell_type": "code",
   "execution_count": 16,
   "id": "5a176d31-8de5-4320-ae1c-9554b56697ef",
   "metadata": {},
   "outputs": [],
   "source": [
    "XX, YY = [], [] # where norm_lfom > 1\n",
    "XXX, YYY = [], [] # where norm_lform is highest at each T\n",
    "for name, group in df_group_T:\n",
    "    pp_ = group['LFOM'].argmax()\n",
    "    XXX.append(group.iloc[pp_]['AlContentChannel'])\n",
    "    YYY.append(name[0])\n",
    "    tmp_ = group[group['LFOMnorm']>1]\n",
    "    if len(tmp_) > 0:\n",
    "        XX.append(np.array(tmp_['AlContentChannel']))\n",
    "        YY.append(np.array(tmp_['T']))"
   ]
  },
  {
   "cell_type": "markdown",
   "id": "723d085d-a8d5-4e83-907a-3ea68d3d8910",
   "metadata": {},
   "source": [
    "## 2.4 Plot AlN/AlGaN HEMT mobilities and FOM"
   ]
  },
  {
   "cell_type": "code",
   "execution_count": 17,
   "id": "150e2f51-04cf-4ee9-941e-e7b1d44d7634",
   "metadata": {},
   "outputs": [],
   "source": [
    "tick_multiplicator = [0.1, 0.05, 200, 100]"
   ]
  },
  {
   "cell_type": "code",
   "execution_count": 18,
   "id": "d7e8258e-4b0b-419e-b049-f7589d7508bd",
   "metadata": {},
   "outputs": [],
   "source": [
    "lpltq3d = PlotQuasi3DFuns(save_figure_dir=f'{save_figure_dir}/2DEG_mobilities/Temperature')"
   ]
  },
  {
   "cell_type": "code",
   "execution_count": 19,
   "id": "0a8ff97e-1591-4fa6-8b35-6009132ec224",
   "metadata": {},
   "outputs": [],
   "source": [
    "fig, ax = plt.subplots(figsize=(8,5.5), constrained_layout=True)\n",
    "fig, _ = lpltq3d.Plotq3D(comp_,temperature_,tot_mu, fig=fig, ax=ax,\n",
    "                         xmin=0.475, xmax=0.975, ymin=-40, ymax=850,\n",
    "                         x_label=x_p_label_text, y_label= 'T (K)',\n",
    "                         tick_multiplicator=tick_multiplicator,\n",
    "                         show_contour_lines=False, marker='s', marker_size=38**2,\n",
    "                         cbar_text=z_label['TOT'],show_colorbar=True,\n",
    "                         plot_controur=0, plot_scatter=1, show_plot=False)\n",
    "lpltq3d.save_figure(f'Highest_FOM_mobility.png', savefig=savefigure, show_plot=True,\n",
    "                    fig=fig, CountFig=None, dpi=fig_save_dpi)"
   ]
  },
  {
   "cell_type": "code",
   "execution_count": 20,
   "id": "a4dd7536-d651-4734-a345-e96e11f7f0da",
   "metadata": {},
   "outputs": [],
   "source": [
    "# Plot mobilities in log scale\n",
    "fig, ax = plt.subplots(figsize=(8,5.5), constrained_layout=True)\n",
    "vmin = np.nanmin(tot_mu)\n",
    "vmax = np.nanmax(tot_mu)\n",
    "norm = colors.LogNorm(vmin=vmin, vmax=vmax) \n",
    "cbar_mapable = cm.ScalarMappable(norm=norm, cmap='viridis')\n",
    "fig, _ = lpltq3d.Plotq3D(comp_,temperature_,tot_mu, fig=fig, ax=ax,\n",
    "                         xmin=0.475, xmax=0.975, ymin=-40, ymax=850,\n",
    "                         x_label=x_p_label_text, y_label= 'T (K)',\n",
    "                         tick_multiplicator=tick_multiplicator,cbar_mappable=cbar_mapable,\n",
    "                         norm=norm, vmin=vmin, vmax=vmax,\n",
    "                         show_contour_lines=False, marker='s', marker_size=38**2,\n",
    "                         cbar_text=z_label['TOT'],show_colorbar=True,\n",
    "                         plot_controur=0, plot_scatter=1, show_plot=False)\n",
    "lpltq3d.save_figure(f'Highest_FOM_log_mobility.png', savefig=savefigure, show_plot=True,\n",
    "                    fig=fig, CountFig=None, dpi=fig_save_dpi)"
   ]
  },
  {
   "cell_type": "code",
   "execution_count": 21,
   "id": "f49a383e-df59-41a5-bbae-49ce99510782",
   "metadata": {},
   "outputs": [],
   "source": [
    "fig, ax = plt.subplots(figsize=(7.6,5.5), constrained_layout=True)\n",
    "fig, _ = lpltq3d.Plotq3D(comp_,temperature_,lfom_norm_, fig=fig, ax=ax,\n",
    "                         xmin=0.475, xmax=0.975, ymin=-40, ymax=850,\n",
    "                         x_label=x_p_label_text, y_label= 'T (K)',\n",
    "                         tick_multiplicator=tick_multiplicator,\n",
    "                         show_contour_lines=False, marker='s', marker_size=38**2,\n",
    "                         cbar_text=z_label['LFOMnorm_2'],show_colorbar=True,\n",
    "                         plot_controur=0, plot_scatter=1, show_plot=False)\n",
    "ax.scatter(XX, YY, marker='x', s=20**2, c='k')\n",
    "ax.scatter(XXX, YYY, marker='o', s=10**2, c='k')\n",
    "lpltq3d.save_figure(f'Highest_FOM_norm.png', savefig=savefigure, show_plot=True,\n",
    "                    fig=fig, CountFig=None, dpi=fig_save_dpi)"
   ]
  },
  {
   "cell_type": "code",
   "execution_count": 22,
   "id": "6144fc6d-611d-4034-ab0e-57b0c891ca64",
   "metadata": {},
   "outputs": [],
   "source": [
    "fig, ax = plt.subplots(constrained_layout=True)\n",
    "for name, group in df_group_T:\n",
    "    ax.plot(group['AlContentChannel'], group['LFOMnorm'], 'o-', label=name[0])\n",
    "#ax.set_yscale('log')\n",
    "ax.set_xlim(0.5,0.9)\n",
    "ax.set_xlabel(x_p_label_text)\n",
    "ax.set_ylabel(z_label['LFOMnorm_2'])\n",
    "#ax.legend(loc='center left', bbox_to_anchor=(1, 0.5)) \n",
    "ax.xaxis.set_major_locator(ticker.MultipleLocator(0.1))\n",
    "ax.xaxis.set_minor_locator(ticker.MultipleLocator(0.05))\n",
    "#ax.yaxis.set_major_locator(ticker.MultipleLocator(0.2))\n",
    "#ax.yaxis.set_minor_locator(ticker.MultipleLocator(0.1))\n",
    "ax.axhline(y=1,c='k', ls='--')\n",
    "lpltq3d.save_figure(f'Highest_FOM_norm_line.png', savefig=savefigure, show_plot=True,\n",
    "                    fig=fig, CountFig=None, dpi=fig_save_dpi)"
   ]
  },
  {
   "cell_type": "code",
   "execution_count": 23,
   "id": "6b346fbe-66e7-4c0a-9741-dc57019f179e",
   "metadata": {},
   "outputs": [],
   "source": [
    "save_file_name_ = 'temperature_legends.png'\n",
    "# Now create a new image with legends only\n",
    "# adjust the figure size as necessary\n",
    "fig_leg = plt.figure(figsize=(1,1))\n",
    "ax_leg = fig_leg.add_subplot(111)\n",
    "# add the legend from the previous axes\n",
    "ax_leg.legend(*ax.get_legend_handles_labels(), ncol=5, loc='center')\n",
    "# hide the axes frame and the x/y labels\n",
    "ax_leg.axis('off')\n",
    "#ax_leg.set_frame_on(False)\n",
    "lpltq3d.save_figure(save_file_name_, fig=fig_leg, savefig=savefigure, dpi=fig_save_dpi, show_plot=False)"
   ]
  },
  {
   "cell_type": "code",
   "execution_count": 24,
   "id": "ec2ebb60-62e5-48d5-b6f8-f1dcd0cf86f2",
   "metadata": {},
   "outputs": [],
   "source": [
    "fig, ax = plt.subplots(figsize=(9.5,6), constrained_layout=True)\n",
    "ax2 = ax.twinx()\n",
    "for name, group in df_group_T:\n",
    "    ax2.plot(group['AlContentChannel'], group['LFOM'], 'o-', label=name[0])\n",
    "    ref_LFOM = mobility_ref_dff.loc[mobility_ref_dff['T']==name[0], 'LFOM'].iloc[0]\n",
    "    ax.scatter(0.47,ref_LFOM, marker='s')\n",
    "ax.set_yscale('log')\n",
    "ax.set_xlabel(x_p_label_text)\n",
    "ax.set_ylabel(z_label['LFOM'])\n",
    "\n",
    "ax.xaxis.set_major_locator(ticker.MultipleLocator(0.1))\n",
    "ax.xaxis.set_minor_locator(ticker.MultipleLocator(0.05))\n",
    "\n",
    "ax.axvline(x=0.5, c='k', ls='--')\n",
    "#ax2.scatter([0.48]*len(lfom_r),lfom_r, marker='s')\n",
    "ax2.set_yscale('log')\n",
    "ax2.set_ylim(ymin=1e4, ymax=5e4)\n",
    "ax2.yaxis.set_major_locator(ticker.LogLocator(numticks=2))\n",
    "ax2.yaxis.set_minor_formatter(ticker.NullFormatter())\n",
    "#ax2.minorticks_off()\n",
    "\n",
    "tmp = ax.get_xticks()\n",
    "tmp_txt = [f'{xx:.1f}' for xx in tmp]\n",
    "ax.set_xticks(list(tmp)+[0.47], tmp_txt+['0'])\n",
    "ax.set_xlim(0.45,0.9)\n",
    "lpltq3d.save_figure(f'Highest_FOM_line.png', savefig=savefigure, show_plot=True,\n",
    "                    fig=fig, CountFig=None, dpi=fig_save_dpi)"
   ]
  },
  {
   "cell_type": "code",
   "execution_count": 25,
   "id": "9c068e2e-76bb-4edf-8368-ab024d2397f1",
   "metadata": {},
   "outputs": [],
   "source": [
    "fig, ax = plt.subplots(figsize=(9,6), constrained_layout=True)\n",
    "ax2 = ax.twinx()\n",
    "for name, group in df_group_T:\n",
    "    ax2.plot(group['AlContentChannel'], group['LFOM'], 'o-', label=name[0])\n",
    "    ref_LFOM = mobility_ref_dff.loc[mobility_ref_dff['T']==name[0], 'LFOM'].iloc[0]\n",
    "    ax.scatter(0.47,ref_LFOM, marker='s')\n",
    "ax.set_yscale('log')\n",
    "ax.set_xlabel(x_p_label_text)\n",
    "ax.set_ylabel(z_label['LFOM'])\n",
    "\n",
    "#ax.legend(loc='center left', bbox_to_anchor=(1, 0.5)) #loc='upper center', bbox_to_anchor=(0.5, 1.3), ncol=3)\n",
    "ax.xaxis.set_major_locator(ticker.MultipleLocator(0.1))\n",
    "ax.xaxis.set_minor_locator(ticker.MultipleLocator(0.05))\n",
    "\n",
    "ax.axvline(x=0.5, c='k', ls='--')\n",
    "ax2.set_yscale('log')\n",
    "ax2.set_ylim(ax.get_ylim())\n",
    "tmp = ax.get_xticks()\n",
    "tmp_txt = [f'{xx:.1f}' for xx in tmp]\n",
    "ax.set_xticks(list(tmp)+[0.47], tmp_txt+['0'])\n",
    "ax.set_xlim(0.45,0.9)\n",
    "lpltq3d.save_figure(f'Highest_FOM_line_zoom.png', savefig=savefigure, show_plot=True,\n",
    "                    fig=fig, CountFig=None, dpi=fig_save_dpi)"
   ]
  },
  {
   "cell_type": "code",
   "execution_count": 26,
   "id": "279cedfd-df60-4a32-a774-2b53cbd0e4d3",
   "metadata": {
    "scrolled": true
   },
   "outputs": [],
   "source": [
    "vmin = np.nanmin(lfom_) #lfom_[lfom_>1].min()\n",
    "vmax = np.nanmax(lfom_)\n",
    "norm = colors.LogNorm(vmin=vmin, vmax=vmax) \n",
    "cbar_mapable = cm.ScalarMappable(norm=norm, cmap='viridis')\n",
    "\n",
    "fig, ax = plt.subplots(figsize=(8,4.5), constrained_layout=True)\n",
    "\n",
    "fig, _ = lpltq3d.Plotq3D(comp_,temperature_,lfom_, fig=fig, ax=ax,\n",
    "                         xmin=0.475, xmax=0.975, ymin=-40, ymax=850,\n",
    "                         vmin=vmin, vmax=vmax,cbar_mappable=cbar_mapable,\n",
    "                         x_label=x_p_label_text, y_label= 'T (K)',\n",
    "                         tick_multiplicator=tick_multiplicator, norm='log',\n",
    "                         show_contour_lines=False, marker='s', marker_size=38**2,\n",
    "                         cbar_text=z_label['LFOM'],show_colorbar=True,\n",
    "                         plot_controur=0, plot_scatter=1, show_plot=False)\n",
    "ax.scatter(XX, YY, marker='x', s=20**2, c='k')\n",
    "ax.scatter(XXX, YYY, marker='o', s=10**2, c='k')\n",
    "lpltq3d.save_figure(f'Highest_FOM.png', savefig=savefigure, show_plot=True,\n",
    "                    fig=fig, CountFig=None, dpi=fig_save_dpi)"
   ]
  }
 ],
 "metadata": {
  "kernelspec": {
   "display_name": "Python 3 (ipykernel)",
   "language": "python",
   "name": "python3"
  },
  "language_info": {
   "codemirror_mode": {
    "name": "ipython",
    "version": 3
   },
   "file_extension": ".py",
   "mimetype": "text/x-python",
   "name": "python",
   "nbconvert_exporter": "python",
   "pygments_lexer": "ipython3",
   "version": "3.12.3"
  }
 },
 "nbformat": 4,
 "nbformat_minor": 5
}
