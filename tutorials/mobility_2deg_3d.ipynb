{
 "cells": [
  {
   "cell_type": "markdown",
   "id": "7786e513-1800-4a76-9bdf-bbbc50b5eda4",
   "metadata": {},
   "source": [
    "# 2DEG mobility calculation using analytical formula\n",
    "\n",
    "Ref-1: J. Bassaler, J. Mehta, I. Abid, L. Konczewicz, S. Juillaguet, S. Contreras, S. Rennesson, S. Tamariz, M. Nemoz, F. Semond, J. Pernot, F. Medjdoub, Y. Cordier, P. Ferrandis, Al-Rich AlGaN Channel High Electron Mobility Transistors on Silicon: A Relevant Approach for High Temperature Stability of Electron Mobility. Adv. Electron. Mater. 2024, 2400069. https://doi.org/10.1002/aelm.202400069\n",
    "\n",
    "Ref-2: Zhang, J., Hao, Y., Zhang, J. et al. The mobility of two-dimensional electron gas in AlGaN/GaN heterostructures with varied Al content. Sci. China Ser. F-Inf. Sci. 51, 780–789 (2008). https://doi.org/10.1007/s11432-008-0056-7\n"
   ]
  },
  {
   "cell_type": "markdown",
   "id": "9e52d7c6-f0a0-47d0-84b8-667d6a1d58a2",
   "metadata": {},
   "source": [
    "# 1. Settings"
   ]
  },
  {
   "cell_type": "markdown",
   "id": "12a36278-e0f1-4a35-93be-7ddbe089be35",
   "metadata": {},
   "source": [
    "## 1.1 Import modules"
   ]
  },
  {
   "cell_type": "code",
   "execution_count": 1,
   "id": "f8068cb9-b57a-4141-a049-2bd20c4285cf",
   "metadata": {},
   "outputs": [],
   "source": [
    "import numpy as np\n",
    "import scipy as sc\n",
    "import matplotlib.pyplot as plt\n",
    "import pandas as pd\n",
    "from matplotlib import colors, cm"
   ]
  },
  {
   "cell_type": "code",
   "execution_count": 2,
   "id": "89f5eeaa-a049-481e-be9b-460d297a585f",
   "metadata": {},
   "outputs": [],
   "source": [
    "%load_ext autoreload\n",
    "%autoreload 2"
   ]
  },
  {
   "cell_type": "code",
   "execution_count": 3,
   "id": "ea470300-8e85-45a2-a94a-c4489518b2de",
   "metadata": {},
   "outputs": [],
   "source": [
    "import sys, os\n",
    "from pathlib import Path\n",
    "mobilitypy_tutorial_path = Path().absolute()\n",
    "sys.path.insert(0, os.path.join(mobilitypy_tutorial_path, '../'))\n",
    "from mobilitypy import AlloyParams, Mobility2DEG, Plottings, PlotQuasi3DFuns"
   ]
  },
  {
   "cell_type": "code",
   "execution_count": 4,
   "id": "2bddf97e-0bde-4b7e-aeea-827e2bd52b7d",
   "metadata": {},
   "outputs": [],
   "source": [
    "save_figure_dir = '/home/Docs5/badal.mondal/linuxhome/MyFolder/Projects/DeviceSimulation/MobilityCalc2DEG/OUTPUTS/FIGS/2DEG_mobilities'\n",
    "savefigure=True"
   ]
  },
  {
   "cell_type": "code",
   "execution_count": 5,
   "id": "4aba3017-df24-4595-97b7-4adca48a3e0b",
   "metadata": {},
   "outputs": [],
   "source": [
    "folder_post_data_ = '/home/Docs5/badal.mondal/linuxhome/MyFolder/Projects/DeviceSimulation/NextnanoSimulations/DATAs/AlGaN_HEMT/AlGaN_AlGaN_AlN_HEMT/nnp/2DEHG_density/OneDim/'\n",
    "data_file = 'sim_post_process_data.xlsx'\n",
    "excel_file = f'{folder_post_data_}/{data_file}' "
   ]
  },
  {
   "cell_type": "markdown",
   "id": "87f4fe5c-c009-4d5c-b2b4-81cf3e8a9566",
   "metadata": {},
   "source": [
    "## 1.2 Set physical constants"
   ]
  },
  {
   "cell_type": "code",
   "execution_count": 6,
   "id": "6fc041c7-180f-4a4d-8b36-72108cbc65eb",
   "metadata": {
    "scrolled": true
   },
   "outputs": [],
   "source": [
    "'''\n",
    "n_2d => in nm^-2\n",
    "rms_roughness => nm^-1\n",
    "corr_len => nm^-1\n",
    "n_dis => nm^-2\n",
    "f_dis => unit less\n",
    "'''\n",
    "alloy_disordered_effect=1\n",
    "interface_roughness_effect=1\n",
    "dislocation_effect=1\n",
    "deformation_potential_effect=1 \n",
    "piezoelectric_effect=1\n",
    "acoustic_phonon_effect=1\n",
    "polar_optical_phonon_effect=1\n",
    "total_mobility=1\n",
    "mobility_model='Bassaler'\n",
    "density_2deg = 0.1 # nm^-2\n",
    "irf_rms_roughness = 0.3 # nm\n",
    "irf_corr_length = 3.0 # nm\n",
    "dislocation_density = 1e-4 # nm^-2\n",
    "occup_dislocation = 0.3\n",
    "T=300 #K"
   ]
  },
  {
   "cell_type": "markdown",
   "id": "106bb743-33d3-4657-b6ac-9b65ea856c7d",
   "metadata": {},
   "source": [
    "# 2. Calculate mobilities"
   ]
  },
  {
   "cell_type": "code",
   "execution_count": 15,
   "id": "eeece72a-f190-44fa-97d5-3c7fdfa2faa9",
   "metadata": {},
   "outputs": [],
   "source": [
    "data_sheet_name =  'sim_sweep__AlContentBarrier__AlContentChannel__ThicknessAlGaNBarrier'\n",
    "n_2d_df = pd.read_excel(excel_file, sheet_name=data_sheet_name, index_col=0)\n",
    "density_2deg_comp = np.array(n_2d_df['2DEG_device'], dtype=float)/1e+14\n",
    "channel_comp = np.array(n_2d_df['AlContentChannel'], dtype=float)"
   ]
  },
  {
   "cell_type": "code",
   "execution_count": 16,
   "id": "279fe1ec-1798-4f85-81a8-b865496330a2",
   "metadata": {},
   "outputs": [],
   "source": [
    "mu2deg = Mobility2DEG(compositions=channel_comp, binaries=['AlN', 'GaN'], alloy='AlGaN', system='ternary')"
   ]
  },
  {
   "cell_type": "code",
   "execution_count": 17,
   "id": "1ff0d5ca-9195-4335-a9ef-9de26db24564",
   "metadata": {
    "scrolled": true
   },
   "outputs": [
    {
     "name": "stderr",
     "output_type": "stream",
     "text": [
      "/home/Docs5/badal.mondal/linuxhome/MyFolder/Projects/DeviceSimulation/MobilityCalc2DEG/mobilitypy/tutorials/../mobilitypy/src/_mobilities_2deg.py:258: RuntimeWarning: divide by zero encountered in scalar divide\n",
      "  fact_3 = yy / ((np.exp(self.E_pop*e_charge/k_B/self.temp_) - 1) * (1+yy-np.exp(-yy)))\n"
     ]
    }
   ],
   "source": [
    "mobility_df = mu2deg.calculate_mobility(n_2d=density_2deg_comp, rms_roughness=irf_rms_roughness, \n",
    "                                        corr_len=irf_corr_length, n_dis=dislocation_density, \n",
    "                                        f_dis=occup_dislocation, T=T,\n",
    "                                        alloy_disordered_effect=alloy_disordered_effect,\n",
    "                                        interface_roughness_effect=interface_roughness_effect,\n",
    "                                        dislocation_effect=dislocation_effect,\n",
    "                                        deformation_potential_effect=deformation_potential_effect,\n",
    "                                        piezoelectric_effect=piezoelectric_effect,\n",
    "                                        acoustic_phonon_effect=acoustic_phonon_effect,\n",
    "                                        polar_optical_phonon_effect=polar_optical_phonon_effect,\n",
    "                                        total_mobility=total_mobility,\n",
    "                                        mobility_model=mobility_model)"
   ]
  },
  {
   "cell_type": "code",
   "execution_count": 18,
   "id": "2176c733-911b-4e45-8cd1-265afbb77cbc",
   "metadata": {},
   "outputs": [],
   "source": [
    "Combined_df = pd.concat([n_2d_df, mobility_df], axis=1)"
   ]
  },
  {
   "cell_type": "code",
   "execution_count": 19,
   "id": "d7e8258e-4b0b-419e-b049-f7589d7508bd",
   "metadata": {},
   "outputs": [],
   "source": [
    "lpltq3d = PlotQuasi3DFuns()\n",
    "rescale_2deg_fact=1e13"
   ]
  },
  {
   "cell_type": "code",
   "execution_count": 20,
   "id": "ebbb8d58-9102-4c0d-b363-6dbb204d4e40",
   "metadata": {},
   "outputs": [],
   "source": [
    "Combined_df['2DEG'] =  Combined_df['2DEG_device'].copy()/rescale_2deg_fact\n",
    "Combined_df['2DHG'] =  Combined_df['2DHG_device'].copy()/rescale_2deg_fact"
   ]
  },
  {
   "cell_type": "code",
   "execution_count": 21,
   "id": "8bdffede-8c2b-48ce-b550-c0ed4ef4b860",
   "metadata": {},
   "outputs": [],
   "source": [
    "plot_mobilities = ['IFR', 'DIS', 'AD', 'AP', 'POP', 'TOT','2DEG']\n",
    "len_plots = len(plot_mobilities)\n",
    "params = {'axes.labelsize': 20,'axes.titlesize': 20,'xtick.labelsize':10,\n",
    "                  'xtick.major.width':2,\n",
    "                  'xtick.major.size':5,\n",
    "                  'xtick.minor.width':1,\n",
    "                  'xtick.minor.size':2,\n",
    "                  'ytick.labelsize': 12,\n",
    "                  'ytick.major.width':2,\n",
    "                  'ytick.major.size':5,\n",
    "                  'ytick.minor.width':1,\n",
    "                  'ytick.minor.size':2,\n",
    "                  'errorbar.capsize':2}\n",
    "plt.rcParams.update(params)\n",
    "plt.rc('font', size=20)"
   ]
  },
  {
   "cell_type": "code",
   "execution_count": 24,
   "id": "1288d0ff-0fe9-4f0f-9b37-73ca008caa0c",
   "metadata": {},
   "outputs": [
    {
     "name": "stdout",
     "output_type": "stream",
     "text": [
      "- Plotting barrier thickness = 5.00 nm\n",
      "- Done\n",
      "- Plotting barrier thickness = 10.00 nm\n",
      "- Done\n",
      "- Plotting barrier thickness = 15.00 nm\n",
      "- Done\n",
      "- Plotting barrier thickness = 20.00 nm\n",
      "- Done\n",
      "- Plotting barrier thickness = 25.00 nm\n",
      "- Done\n",
      "- Plotting barrier thickness = 30.00 nm\n",
      "- Done\n",
      "- Plotting barrier thickness = 35.00 nm\n",
      "- Done\n",
      "- Plotting barrier thickness = 40.00 nm\n",
      "- Done\n",
      "- Plotting barrier thickness = 45.00 nm\n",
      "- Done\n",
      "- Plotting barrier thickness = 50.00 nm\n",
      "- Done\n"
     ]
    }
   ],
   "source": [
    "df_cap_thickness_group = Combined_df.groupby(['ThicknessAlGaNBarrier']) # Group by thickness\n",
    "for name, group in df_cap_thickness_group:\n",
    "    barrier_thickness = f'{name[0]:.2f}'\n",
    "    print(f'- Plotting barrier thickness = {barrier_thickness} nm')\n",
    "    fig, axs = plt.subplots(3, 3, figsize=(16,13), #len(plot_mobilities)*3, 3),\n",
    "                            sharey=True,constrained_layout=True)\n",
    "    # show_colorbar = False\n",
    "    # x_label_text = 'Al composition channel'\n",
    "    # y_label_text = 'Al composition barrier'\n",
    "    # z_label = ''\n",
    "    # tick_multiplicator=[0.1, 0.05, 0.1, 0.05]\n",
    "    for ii, which_mobility in enumerate(plot_mobilities):\n",
    "        x_label_text, y_label_text, z_label = '','',''\n",
    "        tick_multiplicator=[0.1, 0.05, 0.1, 0.05]\n",
    "        how_colorbar = False\n",
    "        \n",
    "        xx, yy, zz = group['AlContentChannel'], group['AlContentBarrier'], group[which_mobility]\n",
    "        vmin, vmax = Combined_df[which_mobility].min()+1e-20, Combined_df[which_mobility].max()\n",
    "        #vmin, vmax = zz.min()+1e-20, zz.max()\n",
    "        #norm = colors.Normalize(vmin=vmin, vmax=vmax)\n",
    "        norm = colors.LogNorm(vmin=vmin, vmax=vmax)\n",
    "        cbar_mapable = cm.ScalarMappable(norm=norm, cmap='viridis')\n",
    "        #print(ii, ii%3)\n",
    "        if ii-3>=0: x_label_text = 'Al composition channel'\n",
    "        if ii%3==0: y_label_text = 'Al composition barrier'\n",
    "        if ii%3-2==0: z_label=r'$\\mu$ ($\\mathrm{cm}^2\\mathrm{V}^{-1}\\mathrm{s}^{-1}$)'\n",
    "        if ii-6 == 0: z_label=r'2DEG ($\\mathrm{10}^{13}\\mathrm{cm}^{-2}$)'\n",
    "\n",
    "        ##### Plot composition map \n",
    "        fig, axs[ii//3][ii%3] = lpltq3d.Plot2D(xx,yy,zz, fig=fig, ax=axs[ii//3][ii%3], vmin=vmin, vmax=vmax, \n",
    "                                      x_label=x_label_text, y_label=y_label_text,\n",
    "                                      z_label=z_label, interpolation_method='linear',\n",
    "                                      interpolation_points = 20,\n",
    "                                      tick_multiplicator=tick_multiplicator,\n",
    "                                      title_label=which_mobility[:], \n",
    "                                      cbar_mappable=cbar_mapable, norm=norm,\n",
    "                                      show_contour_lines=False, marker='o',\n",
    "                                      cbar_text=z_label,show_colorbar=True,\n",
    "                                      plot_controur=False, plot_scatter=True)\n",
    "        plt.suptitle(f\"Barrier thickness = {barrier_thickness} nm\", size=24)\n",
    "        if ii%3 != 0: \n",
    "            axs[ii//3][ii%3].get_yaxis().set_visible(False)\n",
    "        # if ii-6<0:\n",
    "        #     axs[ii//3][ii%3].get_xaxis().set_visible(False)\n",
    "        lpltq3d.save_figs(fig, filename=f'Barrier_{barrier_thickness}', figs_path=save_figure_dir, \n",
    "                        savefigure=1, FigFormat='.png', FigDpi=75)\n",
    "    print('- Done', flush=True)\n",
    "    #break"
   ]
  },
  {
   "cell_type": "code",
   "execution_count": null,
   "id": "817f8dc3-26b0-4664-9962-c7cc3dfeef93",
   "metadata": {},
   "outputs": [],
   "source": []
  },
  {
   "cell_type": "code",
   "execution_count": null,
   "id": "2a243258-bfba-40ac-8064-9100ce5c6572",
   "metadata": {},
   "outputs": [],
   "source": []
  }
 ],
 "metadata": {
  "kernelspec": {
   "display_name": "Python 3 (ipykernel)",
   "language": "python",
   "name": "python3"
  },
  "language_info": {
   "codemirror_mode": {
    "name": "ipython",
    "version": 3
   },
   "file_extension": ".py",
   "mimetype": "text/x-python",
   "name": "python",
   "nbconvert_exporter": "python",
   "pygments_lexer": "ipython3",
   "version": "3.12.3"
  }
 },
 "nbformat": 4,
 "nbformat_minor": 5
}
